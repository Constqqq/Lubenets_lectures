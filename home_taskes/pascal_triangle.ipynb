{
 "cells": [
  {
   "cell_type": "code",
   "execution_count": 1,
   "id": "d682b45e",
   "metadata": {},
   "outputs": [
    {
     "name": "stdout",
     "output_type": "stream",
     "text": [
      "                  1                \n",
      "                1   1              \n",
      "              1   2   1            \n",
      "            1   3   3   1          \n",
      "          1   4   6   4   1        \n",
      "        1   5  10  10   5   1      \n",
      "      1   6  15  20  15   6   1    \n",
      "    1   7  21  35  35  21   7   1  \n",
      "  1   8  28  56  70  56  28   8   1\n"
     ]
    }
   ],
   "source": [
    "N = 9\n",
    "P = []\n",
    " \n",
    "for i in range(0, N):\n",
    "    row = [1] * (i + 1)\n",
    "    for j in range(i + 1):\n",
    "        if j != 0 and j != i:\n",
    "            row[j] = P[i-1][j-1] + P[i-1][j]\n",
    " \n",
    "    P.append(row)\n",
    "last_row = ' '.join(f'{num:3}' for num in P[-1])\n",
    "max_width = len(last_row)\n",
    "\n",
    "for r in P:\n",
    "    row_str = ' '.join(f'{num:3}' for num in r)  \n",
    "    print(row_str.center(max_width))"
   ]
  }
 ],
 "metadata": {
  "kernelspec": {
   "display_name": "lecture-4",
   "language": "python",
   "name": "python3"
  },
  "language_info": {
   "codemirror_mode": {
    "name": "ipython",
    "version": 3
   },
   "file_extension": ".py",
   "mimetype": "text/x-python",
   "name": "python",
   "nbconvert_exporter": "python",
   "pygments_lexer": "ipython3",
   "version": "3.12.3"
  }
 },
 "nbformat": 4,
 "nbformat_minor": 5
}
