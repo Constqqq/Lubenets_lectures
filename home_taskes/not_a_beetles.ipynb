{
 "cells": [
  {
   "cell_type": "code",
   "execution_count": 1,
   "id": "67ee05c8",
   "metadata": {},
   "outputs": [
    {
     "data": {
      "text/html": [
       "<pre style=\"white-space:pre;overflow-x:auto;line-height:normal;font-family:Menlo,'DejaVu Sans Mono',consolas,'Courier New',monospace\"><span style=\"color: #808000; text-decoration-color: #808000\">Команды до боя:</span>\n",
       "</pre>\n"
      ],
      "text/plain": [
       "\u001b[33mКоманды до боя:\u001b[0m\n"
      ]
     },
     "metadata": {},
     "output_type": "display_data"
    },
    {
     "data": {
      "text/html": [
       "<pre style=\"white-space:pre;overflow-x:auto;line-height:normal;font-family:Menlo,'DejaVu Sans Mono',consolas,'Courier New',monospace\"><span style=\"color: #008000; text-decoration-color: #008000\">Team Radiant</span>\n",
       "<span style=\"color: #008000; text-decoration-color: #008000\">- Juggernaut </span><span style=\"color: #008000; text-decoration-color: #008000; font-weight: bold\">(</span><span style=\"color: #008000; text-decoration-color: #008000\">CARRY</span><span style=\"color: #008000; text-decoration-color: #008000; font-weight: bold\">)</span><span style=\"color: #008000; text-decoration-color: #008000\"> | </span><span style=\"color: #008000; text-decoration-color: #008000; font-weight: bold\">125</span><span style=\"color: #008000; text-decoration-color: #008000\"> HP | Kills: </span><span style=\"color: #008000; text-decoration-color: #008000; font-weight: bold\">0</span>\n",
       "<span style=\"color: #008000; text-decoration-color: #008000\">- Ember Spirit </span><span style=\"color: #008000; text-decoration-color: #008000; font-weight: bold\">(</span><span style=\"color: #008000; text-decoration-color: #008000\">MID</span><span style=\"color: #008000; text-decoration-color: #008000; font-weight: bold\">)</span><span style=\"color: #008000; text-decoration-color: #008000\"> | </span><span style=\"color: #008000; text-decoration-color: #008000; font-weight: bold\">107</span><span style=\"color: #008000; text-decoration-color: #008000\"> HP | Kills: </span><span style=\"color: #008000; text-decoration-color: #008000; font-weight: bold\">0</span>\n",
       "<span style=\"color: #008000; text-decoration-color: #008000\">- Legion Commander </span><span style=\"color: #008000; text-decoration-color: #008000; font-weight: bold\">(</span><span style=\"color: #008000; text-decoration-color: #008000\">OFFLANE</span><span style=\"color: #008000; text-decoration-color: #008000; font-weight: bold\">)</span><span style=\"color: #008000; text-decoration-color: #008000\"> | </span><span style=\"color: #008000; text-decoration-color: #008000; font-weight: bold\">115</span><span style=\"color: #008000; text-decoration-color: #008000\"> HP | Kills: </span><span style=\"color: #008000; text-decoration-color: #008000; font-weight: bold\">0</span>\n",
       "<span style=\"color: #008000; text-decoration-color: #008000\">- Crystal Maiden </span><span style=\"color: #008000; text-decoration-color: #008000; font-weight: bold\">(</span><span style=\"color: #008000; text-decoration-color: #008000\">SUPPORT</span><span style=\"color: #008000; text-decoration-color: #008000; font-weight: bold\">)</span><span style=\"color: #008000; text-decoration-color: #008000\"> | </span><span style=\"color: #008000; text-decoration-color: #008000; font-weight: bold\">136</span><span style=\"color: #008000; text-decoration-color: #008000\"> HP | Kills: </span><span style=\"color: #008000; text-decoration-color: #008000; font-weight: bold\">0</span>\n",
       "<span style=\"color: #008000; text-decoration-color: #008000\">- Naga Siren </span><span style=\"color: #008000; text-decoration-color: #008000; font-weight: bold\">(</span><span style=\"color: #008000; text-decoration-color: #008000\">HARD_SUPPORT</span><span style=\"color: #008000; text-decoration-color: #008000; font-weight: bold\">)</span><span style=\"color: #008000; text-decoration-color: #008000\"> | </span><span style=\"color: #008000; text-decoration-color: #008000; font-weight: bold\">129</span><span style=\"color: #008000; text-decoration-color: #008000\"> HP | Kills: </span><span style=\"color: #008000; text-decoration-color: #008000; font-weight: bold\">0</span>\n",
       "</pre>\n"
      ],
      "text/plain": [
       "\u001b[32mTeam Radiant\u001b[0m\n",
       "\u001b[32m- Juggernaut \u001b[0m\u001b[1;32m(\u001b[0m\u001b[32mCARRY\u001b[0m\u001b[1;32m)\u001b[0m\u001b[32m | \u001b[0m\u001b[1;32m125\u001b[0m\u001b[32m HP | Kills: \u001b[0m\u001b[1;32m0\u001b[0m\n",
       "\u001b[32m- Ember Spirit \u001b[0m\u001b[1;32m(\u001b[0m\u001b[32mMID\u001b[0m\u001b[1;32m)\u001b[0m\u001b[32m | \u001b[0m\u001b[1;32m107\u001b[0m\u001b[32m HP | Kills: \u001b[0m\u001b[1;32m0\u001b[0m\n",
       "\u001b[32m- Legion Commander \u001b[0m\u001b[1;32m(\u001b[0m\u001b[32mOFFLANE\u001b[0m\u001b[1;32m)\u001b[0m\u001b[32m | \u001b[0m\u001b[1;32m115\u001b[0m\u001b[32m HP | Kills: \u001b[0m\u001b[1;32m0\u001b[0m\n",
       "\u001b[32m- Crystal Maiden \u001b[0m\u001b[1;32m(\u001b[0m\u001b[32mSUPPORT\u001b[0m\u001b[1;32m)\u001b[0m\u001b[32m | \u001b[0m\u001b[1;32m136\u001b[0m\u001b[32m HP | Kills: \u001b[0m\u001b[1;32m0\u001b[0m\n",
       "\u001b[32m- Naga Siren \u001b[0m\u001b[1;32m(\u001b[0m\u001b[32mHARD_SUPPORT\u001b[0m\u001b[1;32m)\u001b[0m\u001b[32m | \u001b[0m\u001b[1;32m129\u001b[0m\u001b[32m HP | Kills: \u001b[0m\u001b[1;32m0\u001b[0m\n"
      ]
     },
     "metadata": {},
     "output_type": "display_data"
    },
    {
     "data": {
      "text/html": [
       "<pre style=\"white-space:pre;overflow-x:auto;line-height:normal;font-family:Menlo,'DejaVu Sans Mono',consolas,'Courier New',monospace\"><span style=\"color: #800000; text-decoration-color: #800000\">Team Dire</span>\n",
       "<span style=\"color: #800000; text-decoration-color: #800000\">- Medusa </span><span style=\"color: #800000; text-decoration-color: #800000; font-weight: bold\">(</span><span style=\"color: #800000; text-decoration-color: #800000\">CARRY</span><span style=\"color: #800000; text-decoration-color: #800000; font-weight: bold\">)</span><span style=\"color: #800000; text-decoration-color: #800000\"> | </span><span style=\"color: #800000; text-decoration-color: #800000; font-weight: bold\">96</span><span style=\"color: #800000; text-decoration-color: #800000\"> HP | Kills: </span><span style=\"color: #800000; text-decoration-color: #800000; font-weight: bold\">0</span>\n",
       "<span style=\"color: #800000; text-decoration-color: #800000\">- Storm Spirit </span><span style=\"color: #800000; text-decoration-color: #800000; font-weight: bold\">(</span><span style=\"color: #800000; text-decoration-color: #800000\">MID</span><span style=\"color: #800000; text-decoration-color: #800000; font-weight: bold\">)</span><span style=\"color: #800000; text-decoration-color: #800000\"> | </span><span style=\"color: #800000; text-decoration-color: #800000; font-weight: bold\">98</span><span style=\"color: #800000; text-decoration-color: #800000\"> HP | Kills: </span><span style=\"color: #800000; text-decoration-color: #800000; font-weight: bold\">0</span>\n",
       "<span style=\"color: #800000; text-decoration-color: #800000\">- Legion Commander </span><span style=\"color: #800000; text-decoration-color: #800000; font-weight: bold\">(</span><span style=\"color: #800000; text-decoration-color: #800000\">OFFLANE</span><span style=\"color: #800000; text-decoration-color: #800000; font-weight: bold\">)</span><span style=\"color: #800000; text-decoration-color: #800000\"> | </span><span style=\"color: #800000; text-decoration-color: #800000; font-weight: bold\">103</span><span style=\"color: #800000; text-decoration-color: #800000\"> HP | Kills: </span><span style=\"color: #800000; text-decoration-color: #800000; font-weight: bold\">0</span>\n",
       "<span style=\"color: #800000; text-decoration-color: #800000\">- Bane </span><span style=\"color: #800000; text-decoration-color: #800000; font-weight: bold\">(</span><span style=\"color: #800000; text-decoration-color: #800000\">SUPPORT</span><span style=\"color: #800000; text-decoration-color: #800000; font-weight: bold\">)</span><span style=\"color: #800000; text-decoration-color: #800000\"> | </span><span style=\"color: #800000; text-decoration-color: #800000; font-weight: bold\">100</span><span style=\"color: #800000; text-decoration-color: #800000\"> HP | Kills: </span><span style=\"color: #800000; text-decoration-color: #800000; font-weight: bold\">0</span>\n",
       "<span style=\"color: #800000; text-decoration-color: #800000\">- Enchantress </span><span style=\"color: #800000; text-decoration-color: #800000; font-weight: bold\">(</span><span style=\"color: #800000; text-decoration-color: #800000\">HARD_SUPPORT</span><span style=\"color: #800000; text-decoration-color: #800000; font-weight: bold\">)</span><span style=\"color: #800000; text-decoration-color: #800000\"> | </span><span style=\"color: #800000; text-decoration-color: #800000; font-weight: bold\">128</span><span style=\"color: #800000; text-decoration-color: #800000\"> HP | Kills: </span><span style=\"color: #800000; text-decoration-color: #800000; font-weight: bold\">0</span>\n",
       "</pre>\n"
      ],
      "text/plain": [
       "\u001b[31mTeam Dire\u001b[0m\n",
       "\u001b[31m- Medusa \u001b[0m\u001b[1;31m(\u001b[0m\u001b[31mCARRY\u001b[0m\u001b[1;31m)\u001b[0m\u001b[31m | \u001b[0m\u001b[1;31m96\u001b[0m\u001b[31m HP | Kills: \u001b[0m\u001b[1;31m0\u001b[0m\n",
       "\u001b[31m- Storm Spirit \u001b[0m\u001b[1;31m(\u001b[0m\u001b[31mMID\u001b[0m\u001b[1;31m)\u001b[0m\u001b[31m | \u001b[0m\u001b[1;31m98\u001b[0m\u001b[31m HP | Kills: \u001b[0m\u001b[1;31m0\u001b[0m\n",
       "\u001b[31m- Legion Commander \u001b[0m\u001b[1;31m(\u001b[0m\u001b[31mOFFLANE\u001b[0m\u001b[1;31m)\u001b[0m\u001b[31m | \u001b[0m\u001b[1;31m103\u001b[0m\u001b[31m HP | Kills: \u001b[0m\u001b[1;31m0\u001b[0m\n",
       "\u001b[31m- Bane \u001b[0m\u001b[1;31m(\u001b[0m\u001b[31mSUPPORT\u001b[0m\u001b[1;31m)\u001b[0m\u001b[31m | \u001b[0m\u001b[1;31m100\u001b[0m\u001b[31m HP | Kills: \u001b[0m\u001b[1;31m0\u001b[0m\n",
       "\u001b[31m- Enchantress \u001b[0m\u001b[1;31m(\u001b[0m\u001b[31mHARD_SUPPORT\u001b[0m\u001b[1;31m)\u001b[0m\u001b[31m | \u001b[0m\u001b[1;31m128\u001b[0m\u001b[31m HP | Kills: \u001b[0m\u001b[1;31m0\u001b[0m\n"
      ]
     },
     "metadata": {},
     "output_type": "display_data"
    },
    {
     "data": {
      "text/html": [
       "<pre style=\"white-space:pre;overflow-x:auto;line-height:normal;font-family:Menlo,'DejaVu Sans Mono',consolas,'Courier New',monospace\">\n",
       "<span style=\"color: #808000; text-decoration-color: #808000\">Сравнение команд:</span>\n",
       "</pre>\n"
      ],
      "text/plain": [
       "\n",
       "\u001b[33mСравнение команд:\u001b[0m\n"
      ]
     },
     "metadata": {},
     "output_type": "display_data"
    },
    {
     "data": {
      "text/html": [
       "<pre style=\"white-space:pre;overflow-x:auto;line-height:normal;font-family:Menlo,'DejaVu Sans Mono',consolas,'Courier New',monospace\"><span style=\"color: #008000; text-decoration-color: #008000\">Radiant сильнее Dire</span>\n",
       "</pre>\n"
      ],
      "text/plain": [
       "\u001b[32mRadiant сильнее Dire\u001b[0m\n"
      ]
     },
     "metadata": {},
     "output_type": "display_data"
    },
    {
     "data": {
      "text/html": [
       "<pre style=\"white-space:pre;overflow-x:auto;line-height:normal;font-family:Menlo,'DejaVu Sans Mono',consolas,'Courier New',monospace\">\n",
       "<span style=\"color: #008000; text-decoration-color: #008000\">Общая сила Radiant: </span><span style=\"color: #008000; text-decoration-color: #008000; font-weight: bold\">1122</span>\n",
       "</pre>\n"
      ],
      "text/plain": [
       "\n",
       "\u001b[32mОбщая сила Radiant: \u001b[0m\u001b[1;32m1122\u001b[0m\n"
      ]
     },
     "metadata": {},
     "output_type": "display_data"
    },
    {
     "data": {
      "text/html": [
       "<pre style=\"white-space:pre;overflow-x:auto;line-height:normal;font-family:Menlo,'DejaVu Sans Mono',consolas,'Courier New',monospace\"><span style=\"color: #800000; text-decoration-color: #800000\">Общая сила Dire: </span><span style=\"color: #800000; text-decoration-color: #800000; font-weight: bold\">1015</span>\n",
       "</pre>\n"
      ],
      "text/plain": [
       "\u001b[31mОбщая сила Dire: \u001b[0m\u001b[1;31m1015\u001b[0m\n"
      ]
     },
     "metadata": {},
     "output_type": "display_data"
    },
    {
     "data": {
      "text/html": [
       "<pre style=\"white-space:pre;overflow-x:auto;line-height:normal;font-family:Menlo,'DejaVu Sans Mono',consolas,'Courier New',monospace\">\n",
       "<span style=\"color: #808000; text-decoration-color: #808000\">Файт </span><span style=\"color: #808000; text-decoration-color: #808000; font-weight: bold\">1</span><span style=\"color: #808000; text-decoration-color: #808000\">:</span>\n",
       "</pre>\n"
      ],
      "text/plain": [
       "\n",
       "\u001b[33mФайт \u001b[0m\u001b[1;33m1\u001b[0m\u001b[33m:\u001b[0m\n"
      ]
     },
     "metadata": {},
     "output_type": "display_data"
    },
    {
     "data": {
      "text/html": [
       "<pre style=\"white-space:pre;overflow-x:auto;line-height:normal;font-family:Menlo,'DejaVu Sans Mono',consolas,'Courier New',monospace\"><span style=\"color: #008000; text-decoration-color: #008000; font-weight: bold\">Juggernaut(</span><span style=\"color: #008000; text-decoration-color: #008000\">CARRY</span><span style=\"color: #008000; text-decoration-color: #008000; font-weight: bold\">)</span> attacks <span style=\"color: #800000; text-decoration-color: #800000\">Legion </span><span style=\"color: #800000; text-decoration-color: #800000; font-weight: bold\">Commander(</span><span style=\"color: #800000; text-decoration-color: #800000\">OFFLANE</span><span style=\"color: #800000; text-decoration-color: #800000; font-weight: bold\">)</span> for <span style=\"color: #008080; text-decoration-color: #008080; font-weight: bold\">9</span> damage\n",
       "</pre>\n"
      ],
      "text/plain": [
       "\u001b[1;32mJuggernaut\u001b[0m\u001b[1;32m(\u001b[0m\u001b[32mCARRY\u001b[0m\u001b[1;32m)\u001b[0m attacks \u001b[31mLegion \u001b[0m\u001b[1;31mCommander\u001b[0m\u001b[1;31m(\u001b[0m\u001b[31mOFFLANE\u001b[0m\u001b[1;31m)\u001b[0m for \u001b[1;36m9\u001b[0m damage\n"
      ]
     },
     "metadata": {},
     "output_type": "display_data"
    },
    {
     "data": {
      "text/html": [
       "<pre style=\"white-space:pre;overflow-x:auto;line-height:normal;font-family:Menlo,'DejaVu Sans Mono',consolas,'Courier New',monospace\"><span style=\"color: #008000; text-decoration-color: #008000\">Ember </span><span style=\"color: #008000; text-decoration-color: #008000; font-weight: bold\">Spirit(</span><span style=\"color: #008000; text-decoration-color: #008000\">MID</span><span style=\"color: #008000; text-decoration-color: #008000; font-weight: bold\">)</span> attacks <span style=\"color: #800000; text-decoration-color: #800000; font-weight: bold\">Enchantress(</span><span style=\"color: #800000; text-decoration-color: #800000\">HARD_SUPPORT</span><span style=\"color: #800000; text-decoration-color: #800000; font-weight: bold\">)</span> for <span style=\"color: #008080; text-decoration-color: #008080; font-weight: bold\">12</span> damage\n",
       "</pre>\n"
      ],
      "text/plain": [
       "\u001b[32mEmber \u001b[0m\u001b[1;32mSpirit\u001b[0m\u001b[1;32m(\u001b[0m\u001b[32mMID\u001b[0m\u001b[1;32m)\u001b[0m attacks \u001b[1;31mEnchantress\u001b[0m\u001b[1;31m(\u001b[0m\u001b[31mHARD_SUPPORT\u001b[0m\u001b[1;31m)\u001b[0m for \u001b[1;36m12\u001b[0m damage\n"
      ]
     },
     "metadata": {},
     "output_type": "display_data"
    },
    {
     "data": {
      "text/html": [
       "<pre style=\"white-space:pre;overflow-x:auto;line-height:normal;font-family:Menlo,'DejaVu Sans Mono',consolas,'Courier New',monospace\"><span style=\"color: #008000; text-decoration-color: #008000\">Legion </span><span style=\"color: #008000; text-decoration-color: #008000; font-weight: bold\">Commander(</span><span style=\"color: #008000; text-decoration-color: #008000\">OFFLANE</span><span style=\"color: #008000; text-decoration-color: #008000; font-weight: bold\">)</span> attacks <span style=\"color: #800000; text-decoration-color: #800000\">Legion </span><span style=\"color: #800000; text-decoration-color: #800000; font-weight: bold\">Commander(</span><span style=\"color: #800000; text-decoration-color: #800000\">OFFLANE</span><span style=\"color: #800000; text-decoration-color: #800000; font-weight: bold\">)</span> for <span style=\"color: #008080; text-decoration-color: #008080; font-weight: bold\">12</span> damage\n",
       "</pre>\n"
      ],
      "text/plain": [
       "\u001b[32mLegion \u001b[0m\u001b[1;32mCommander\u001b[0m\u001b[1;32m(\u001b[0m\u001b[32mOFFLANE\u001b[0m\u001b[1;32m)\u001b[0m attacks \u001b[31mLegion \u001b[0m\u001b[1;31mCommander\u001b[0m\u001b[1;31m(\u001b[0m\u001b[31mOFFLANE\u001b[0m\u001b[1;31m)\u001b[0m for \u001b[1;36m12\u001b[0m damage\n"
      ]
     },
     "metadata": {},
     "output_type": "display_data"
    },
    {
     "data": {
      "text/html": [
       "<pre style=\"white-space:pre;overflow-x:auto;line-height:normal;font-family:Menlo,'DejaVu Sans Mono',consolas,'Courier New',monospace\"><span style=\"color: #008000; text-decoration-color: #008000\">Crystal </span><span style=\"color: #008000; text-decoration-color: #008000; font-weight: bold\">Maiden(</span><span style=\"color: #008000; text-decoration-color: #008000\">SUPPORT</span><span style=\"color: #008000; text-decoration-color: #008000; font-weight: bold\">)</span> attacks <span style=\"color: #800000; text-decoration-color: #800000\">Legion </span><span style=\"color: #800000; text-decoration-color: #800000; font-weight: bold\">Commander(</span><span style=\"color: #800000; text-decoration-color: #800000\">OFFLANE</span><span style=\"color: #800000; text-decoration-color: #800000; font-weight: bold\">)</span> for <span style=\"color: #008080; text-decoration-color: #008080; font-weight: bold\">13</span> damage\n",
       "</pre>\n"
      ],
      "text/plain": [
       "\u001b[32mCrystal \u001b[0m\u001b[1;32mMaiden\u001b[0m\u001b[1;32m(\u001b[0m\u001b[32mSUPPORT\u001b[0m\u001b[1;32m)\u001b[0m attacks \u001b[31mLegion \u001b[0m\u001b[1;31mCommander\u001b[0m\u001b[1;31m(\u001b[0m\u001b[31mOFFLANE\u001b[0m\u001b[1;31m)\u001b[0m for \u001b[1;36m13\u001b[0m damage\n"
      ]
     },
     "metadata": {},
     "output_type": "display_data"
    },
    {
     "data": {
      "text/html": [
       "<pre style=\"white-space:pre;overflow-x:auto;line-height:normal;font-family:Menlo,'DejaVu Sans Mono',consolas,'Courier New',monospace\"><span style=\"color: #008000; text-decoration-color: #008000\">Naga </span><span style=\"color: #008000; text-decoration-color: #008000; font-weight: bold\">Siren(</span><span style=\"color: #008000; text-decoration-color: #008000\">HARD_SUPPORT</span><span style=\"color: #008000; text-decoration-color: #008000; font-weight: bold\">)</span> attacks <span style=\"color: #800000; text-decoration-color: #800000; font-weight: bold\">Enchantress(</span><span style=\"color: #800000; text-decoration-color: #800000\">HARD_SUPPORT</span><span style=\"color: #800000; text-decoration-color: #800000; font-weight: bold\">)</span> for <span style=\"color: #008080; text-decoration-color: #008080; font-weight: bold\">13</span> damage\n",
       "</pre>\n"
      ],
      "text/plain": [
       "\u001b[32mNaga \u001b[0m\u001b[1;32mSiren\u001b[0m\u001b[1;32m(\u001b[0m\u001b[32mHARD_SUPPORT\u001b[0m\u001b[1;32m)\u001b[0m attacks \u001b[1;31mEnchantress\u001b[0m\u001b[1;31m(\u001b[0m\u001b[31mHARD_SUPPORT\u001b[0m\u001b[1;31m)\u001b[0m for \u001b[1;36m13\u001b[0m damage\n"
      ]
     },
     "metadata": {},
     "output_type": "display_data"
    },
    {
     "data": {
      "text/html": [
       "<pre style=\"white-space:pre;overflow-x:auto;line-height:normal;font-family:Menlo,'DejaVu Sans Mono',consolas,'Courier New',monospace\"><span style=\"color: #800000; text-decoration-color: #800000; font-weight: bold\">Medusa(</span><span style=\"color: #800000; text-decoration-color: #800000\">CARRY</span><span style=\"color: #800000; text-decoration-color: #800000; font-weight: bold\">)</span> attacks <span style=\"color: #008000; text-decoration-color: #008000\">Naga </span><span style=\"color: #008000; text-decoration-color: #008000; font-weight: bold\">Siren(</span><span style=\"color: #008000; text-decoration-color: #008000\">HARD_SUPPORT</span><span style=\"color: #008000; text-decoration-color: #008000; font-weight: bold\">)</span> for <span style=\"color: #008080; text-decoration-color: #008080; font-weight: bold\">12</span> damage\n",
       "</pre>\n"
      ],
      "text/plain": [
       "\u001b[1;31mMedusa\u001b[0m\u001b[1;31m(\u001b[0m\u001b[31mCARRY\u001b[0m\u001b[1;31m)\u001b[0m attacks \u001b[32mNaga \u001b[0m\u001b[1;32mSiren\u001b[0m\u001b[1;32m(\u001b[0m\u001b[32mHARD_SUPPORT\u001b[0m\u001b[1;32m)\u001b[0m for \u001b[1;36m12\u001b[0m damage\n"
      ]
     },
     "metadata": {},
     "output_type": "display_data"
    },
    {
     "data": {
      "text/html": [
       "<pre style=\"white-space:pre;overflow-x:auto;line-height:normal;font-family:Menlo,'DejaVu Sans Mono',consolas,'Courier New',monospace\"><span style=\"color: #800000; text-decoration-color: #800000\">Storm </span><span style=\"color: #800000; text-decoration-color: #800000; font-weight: bold\">Spirit(</span><span style=\"color: #800000; text-decoration-color: #800000\">MID</span><span style=\"color: #800000; text-decoration-color: #800000; font-weight: bold\">)</span> attacks <span style=\"color: #008000; text-decoration-color: #008000\">Naga </span><span style=\"color: #008000; text-decoration-color: #008000; font-weight: bold\">Siren(</span><span style=\"color: #008000; text-decoration-color: #008000\">HARD_SUPPORT</span><span style=\"color: #008000; text-decoration-color: #008000; font-weight: bold\">)</span> for <span style=\"color: #008080; text-decoration-color: #008080; font-weight: bold\">10</span> damage\n",
       "</pre>\n"
      ],
      "text/plain": [
       "\u001b[31mStorm \u001b[0m\u001b[1;31mSpirit\u001b[0m\u001b[1;31m(\u001b[0m\u001b[31mMID\u001b[0m\u001b[1;31m)\u001b[0m attacks \u001b[32mNaga \u001b[0m\u001b[1;32mSiren\u001b[0m\u001b[1;32m(\u001b[0m\u001b[32mHARD_SUPPORT\u001b[0m\u001b[1;32m)\u001b[0m for \u001b[1;36m10\u001b[0m damage\n"
      ]
     },
     "metadata": {},
     "output_type": "display_data"
    },
    {
     "data": {
      "text/html": [
       "<pre style=\"white-space:pre;overflow-x:auto;line-height:normal;font-family:Menlo,'DejaVu Sans Mono',consolas,'Courier New',monospace\"><span style=\"color: #800000; text-decoration-color: #800000\">Legion </span><span style=\"color: #800000; text-decoration-color: #800000; font-weight: bold\">Commander(</span><span style=\"color: #800000; text-decoration-color: #800000\">OFFLANE</span><span style=\"color: #800000; text-decoration-color: #800000; font-weight: bold\">)</span> attacks <span style=\"color: #008000; text-decoration-color: #008000\">Ember </span><span style=\"color: #008000; text-decoration-color: #008000; font-weight: bold\">Spirit(</span><span style=\"color: #008000; text-decoration-color: #008000\">MID</span><span style=\"color: #008000; text-decoration-color: #008000; font-weight: bold\">)</span> for <span style=\"color: #008080; text-decoration-color: #008080; font-weight: bold\">9</span> damage\n",
       "</pre>\n"
      ],
      "text/plain": [
       "\u001b[31mLegion \u001b[0m\u001b[1;31mCommander\u001b[0m\u001b[1;31m(\u001b[0m\u001b[31mOFFLANE\u001b[0m\u001b[1;31m)\u001b[0m attacks \u001b[32mEmber \u001b[0m\u001b[1;32mSpirit\u001b[0m\u001b[1;32m(\u001b[0m\u001b[32mMID\u001b[0m\u001b[1;32m)\u001b[0m for \u001b[1;36m9\u001b[0m damage\n"
      ]
     },
     "metadata": {},
     "output_type": "display_data"
    },
    {
     "data": {
      "text/html": [
       "<pre style=\"white-space:pre;overflow-x:auto;line-height:normal;font-family:Menlo,'DejaVu Sans Mono',consolas,'Courier New',monospace\"><span style=\"color: #800000; text-decoration-color: #800000; font-weight: bold\">Bane(</span><span style=\"color: #800000; text-decoration-color: #800000\">SUPPORT</span><span style=\"color: #800000; text-decoration-color: #800000; font-weight: bold\">)</span> attacks <span style=\"color: #008000; text-decoration-color: #008000\">Naga </span><span style=\"color: #008000; text-decoration-color: #008000; font-weight: bold\">Siren(</span><span style=\"color: #008000; text-decoration-color: #008000\">HARD_SUPPORT</span><span style=\"color: #008000; text-decoration-color: #008000; font-weight: bold\">)</span> for <span style=\"color: #008080; text-decoration-color: #008080; font-weight: bold\">13</span> damage\n",
       "</pre>\n"
      ],
      "text/plain": [
       "\u001b[1;31mBane\u001b[0m\u001b[1;31m(\u001b[0m\u001b[31mSUPPORT\u001b[0m\u001b[1;31m)\u001b[0m attacks \u001b[32mNaga \u001b[0m\u001b[1;32mSiren\u001b[0m\u001b[1;32m(\u001b[0m\u001b[32mHARD_SUPPORT\u001b[0m\u001b[1;32m)\u001b[0m for \u001b[1;36m13\u001b[0m damage\n"
      ]
     },
     "metadata": {},
     "output_type": "display_data"
    },
    {
     "data": {
      "text/html": [
       "<pre style=\"white-space:pre;overflow-x:auto;line-height:normal;font-family:Menlo,'DejaVu Sans Mono',consolas,'Courier New',monospace\"><span style=\"color: #800000; text-decoration-color: #800000; font-weight: bold\">Enchantress(</span><span style=\"color: #800000; text-decoration-color: #800000\">HARD_SUPPORT</span><span style=\"color: #800000; text-decoration-color: #800000; font-weight: bold\">)</span> attacks <span style=\"color: #008000; text-decoration-color: #008000\">Ember </span><span style=\"color: #008000; text-decoration-color: #008000; font-weight: bold\">Spirit(</span><span style=\"color: #008000; text-decoration-color: #008000\">MID</span><span style=\"color: #008000; text-decoration-color: #008000; font-weight: bold\">)</span> for <span style=\"color: #008080; text-decoration-color: #008080; font-weight: bold\">9</span> damage\n",
       "</pre>\n"
      ],
      "text/plain": [
       "\u001b[1;31mEnchantress\u001b[0m\u001b[1;31m(\u001b[0m\u001b[31mHARD_SUPPORT\u001b[0m\u001b[1;31m)\u001b[0m attacks \u001b[32mEmber \u001b[0m\u001b[1;32mSpirit\u001b[0m\u001b[1;32m(\u001b[0m\u001b[32mMID\u001b[0m\u001b[1;32m)\u001b[0m for \u001b[1;36m9\u001b[0m damage\n"
      ]
     },
     "metadata": {},
     "output_type": "display_data"
    },
    {
     "data": {
      "text/html": [
       "<pre style=\"white-space:pre;overflow-x:auto;line-height:normal;font-family:Menlo,'DejaVu Sans Mono',consolas,'Courier New',monospace\">\n",
       "<span style=\"color: #808000; text-decoration-color: #808000\">Файт </span><span style=\"color: #808000; text-decoration-color: #808000; font-weight: bold\">2</span><span style=\"color: #808000; text-decoration-color: #808000\">:</span>\n",
       "</pre>\n"
      ],
      "text/plain": [
       "\n",
       "\u001b[33mФайт \u001b[0m\u001b[1;33m2\u001b[0m\u001b[33m:\u001b[0m\n"
      ]
     },
     "metadata": {},
     "output_type": "display_data"
    },
    {
     "data": {
      "text/html": [
       "<pre style=\"white-space:pre;overflow-x:auto;line-height:normal;font-family:Menlo,'DejaVu Sans Mono',consolas,'Courier New',monospace\"><span style=\"color: #008000; text-decoration-color: #008000; font-weight: bold\">Juggernaut(</span><span style=\"color: #008000; text-decoration-color: #008000\">CARRY</span><span style=\"color: #008000; text-decoration-color: #008000; font-weight: bold\">)</span> attacks <span style=\"color: #800000; text-decoration-color: #800000; font-weight: bold\">Enchantress(</span><span style=\"color: #800000; text-decoration-color: #800000\">HARD_SUPPORT</span><span style=\"color: #800000; text-decoration-color: #800000; font-weight: bold\">)</span> for <span style=\"color: #008080; text-decoration-color: #008080; font-weight: bold\">9</span> damage\n",
       "</pre>\n"
      ],
      "text/plain": [
       "\u001b[1;32mJuggernaut\u001b[0m\u001b[1;32m(\u001b[0m\u001b[32mCARRY\u001b[0m\u001b[1;32m)\u001b[0m attacks \u001b[1;31mEnchantress\u001b[0m\u001b[1;31m(\u001b[0m\u001b[31mHARD_SUPPORT\u001b[0m\u001b[1;31m)\u001b[0m for \u001b[1;36m9\u001b[0m damage\n"
      ]
     },
     "metadata": {},
     "output_type": "display_data"
    },
    {
     "data": {
      "text/html": [
       "<pre style=\"white-space:pre;overflow-x:auto;line-height:normal;font-family:Menlo,'DejaVu Sans Mono',consolas,'Courier New',monospace\"><span style=\"color: #008000; text-decoration-color: #008000\">Ember </span><span style=\"color: #008000; text-decoration-color: #008000; font-weight: bold\">Spirit(</span><span style=\"color: #008000; text-decoration-color: #008000\">MID</span><span style=\"color: #008000; text-decoration-color: #008000; font-weight: bold\">)</span> attacks <span style=\"color: #800000; text-decoration-color: #800000; font-weight: bold\">Bane(</span><span style=\"color: #800000; text-decoration-color: #800000\">SUPPORT</span><span style=\"color: #800000; text-decoration-color: #800000; font-weight: bold\">)</span> for <span style=\"color: #008080; text-decoration-color: #008080; font-weight: bold\">9</span> damage\n",
       "</pre>\n"
      ],
      "text/plain": [
       "\u001b[32mEmber \u001b[0m\u001b[1;32mSpirit\u001b[0m\u001b[1;32m(\u001b[0m\u001b[32mMID\u001b[0m\u001b[1;32m)\u001b[0m attacks \u001b[1;31mBane\u001b[0m\u001b[1;31m(\u001b[0m\u001b[31mSUPPORT\u001b[0m\u001b[1;31m)\u001b[0m for \u001b[1;36m9\u001b[0m damage\n"
      ]
     },
     "metadata": {},
     "output_type": "display_data"
    },
    {
     "data": {
      "text/html": [
       "<pre style=\"white-space:pre;overflow-x:auto;line-height:normal;font-family:Menlo,'DejaVu Sans Mono',consolas,'Courier New',monospace\"><span style=\"color: #008000; text-decoration-color: #008000\">Legion </span><span style=\"color: #008000; text-decoration-color: #008000; font-weight: bold\">Commander(</span><span style=\"color: #008000; text-decoration-color: #008000\">OFFLANE</span><span style=\"color: #008000; text-decoration-color: #008000; font-weight: bold\">)</span> attacks <span style=\"color: #800000; text-decoration-color: #800000\">Storm </span><span style=\"color: #800000; text-decoration-color: #800000; font-weight: bold\">Spirit(</span><span style=\"color: #800000; text-decoration-color: #800000\">MID</span><span style=\"color: #800000; text-decoration-color: #800000; font-weight: bold\">)</span> for <span style=\"color: #008080; text-decoration-color: #008080; font-weight: bold\">10</span> damage\n",
       "</pre>\n"
      ],
      "text/plain": [
       "\u001b[32mLegion \u001b[0m\u001b[1;32mCommander\u001b[0m\u001b[1;32m(\u001b[0m\u001b[32mOFFLANE\u001b[0m\u001b[1;32m)\u001b[0m attacks \u001b[31mStorm \u001b[0m\u001b[1;31mSpirit\u001b[0m\u001b[1;31m(\u001b[0m\u001b[31mMID\u001b[0m\u001b[1;31m)\u001b[0m for \u001b[1;36m10\u001b[0m damage\n"
      ]
     },
     "metadata": {},
     "output_type": "display_data"
    },
    {
     "data": {
      "text/html": [
       "<pre style=\"white-space:pre;overflow-x:auto;line-height:normal;font-family:Menlo,'DejaVu Sans Mono',consolas,'Courier New',monospace\"><span style=\"color: #008000; text-decoration-color: #008000\">Crystal </span><span style=\"color: #008000; text-decoration-color: #008000; font-weight: bold\">Maiden(</span><span style=\"color: #008000; text-decoration-color: #008000\">SUPPORT</span><span style=\"color: #008000; text-decoration-color: #008000; font-weight: bold\">)</span> attacks <span style=\"color: #800000; text-decoration-color: #800000; font-weight: bold\">Medusa(</span><span style=\"color: #800000; text-decoration-color: #800000\">CARRY</span><span style=\"color: #800000; text-decoration-color: #800000; font-weight: bold\">)</span> for <span style=\"color: #008080; text-decoration-color: #008080; font-weight: bold\">13</span> damage\n",
       "</pre>\n"
      ],
      "text/plain": [
       "\u001b[32mCrystal \u001b[0m\u001b[1;32mMaiden\u001b[0m\u001b[1;32m(\u001b[0m\u001b[32mSUPPORT\u001b[0m\u001b[1;32m)\u001b[0m attacks \u001b[1;31mMedusa\u001b[0m\u001b[1;31m(\u001b[0m\u001b[31mCARRY\u001b[0m\u001b[1;31m)\u001b[0m for \u001b[1;36m13\u001b[0m damage\n"
      ]
     },
     "metadata": {},
     "output_type": "display_data"
    },
    {
     "data": {
      "text/html": [
       "<pre style=\"white-space:pre;overflow-x:auto;line-height:normal;font-family:Menlo,'DejaVu Sans Mono',consolas,'Courier New',monospace\"><span style=\"color: #008000; text-decoration-color: #008000\">Naga </span><span style=\"color: #008000; text-decoration-color: #008000; font-weight: bold\">Siren(</span><span style=\"color: #008000; text-decoration-color: #008000\">HARD_SUPPORT</span><span style=\"color: #008000; text-decoration-color: #008000; font-weight: bold\">)</span> attacks <span style=\"color: #800000; text-decoration-color: #800000; font-weight: bold\">Enchantress(</span><span style=\"color: #800000; text-decoration-color: #800000\">HARD_SUPPORT</span><span style=\"color: #800000; text-decoration-color: #800000; font-weight: bold\">)</span> for <span style=\"color: #008080; text-decoration-color: #008080; font-weight: bold\">11</span> damage\n",
       "</pre>\n"
      ],
      "text/plain": [
       "\u001b[32mNaga \u001b[0m\u001b[1;32mSiren\u001b[0m\u001b[1;32m(\u001b[0m\u001b[32mHARD_SUPPORT\u001b[0m\u001b[1;32m)\u001b[0m attacks \u001b[1;31mEnchantress\u001b[0m\u001b[1;31m(\u001b[0m\u001b[31mHARD_SUPPORT\u001b[0m\u001b[1;31m)\u001b[0m for \u001b[1;36m11\u001b[0m damage\n"
      ]
     },
     "metadata": {},
     "output_type": "display_data"
    },
    {
     "data": {
      "text/html": [
       "<pre style=\"white-space:pre;overflow-x:auto;line-height:normal;font-family:Menlo,'DejaVu Sans Mono',consolas,'Courier New',monospace\"><span style=\"color: #800000; text-decoration-color: #800000; font-weight: bold\">Medusa(</span><span style=\"color: #800000; text-decoration-color: #800000\">CARRY</span><span style=\"color: #800000; text-decoration-color: #800000; font-weight: bold\">)</span> attacks <span style=\"color: #008000; text-decoration-color: #008000\">Legion </span><span style=\"color: #008000; text-decoration-color: #008000; font-weight: bold\">Commander(</span><span style=\"color: #008000; text-decoration-color: #008000\">OFFLANE</span><span style=\"color: #008000; text-decoration-color: #008000; font-weight: bold\">)</span> for <span style=\"color: #008080; text-decoration-color: #008080; font-weight: bold\">9</span> damage\n",
       "</pre>\n"
      ],
      "text/plain": [
       "\u001b[1;31mMedusa\u001b[0m\u001b[1;31m(\u001b[0m\u001b[31mCARRY\u001b[0m\u001b[1;31m)\u001b[0m attacks \u001b[32mLegion \u001b[0m\u001b[1;32mCommander\u001b[0m\u001b[1;32m(\u001b[0m\u001b[32mOFFLANE\u001b[0m\u001b[1;32m)\u001b[0m for \u001b[1;36m9\u001b[0m damage\n"
      ]
     },
     "metadata": {},
     "output_type": "display_data"
    },
    {
     "data": {
      "text/html": [
       "<pre style=\"white-space:pre;overflow-x:auto;line-height:normal;font-family:Menlo,'DejaVu Sans Mono',consolas,'Courier New',monospace\"><span style=\"color: #800000; text-decoration-color: #800000\">Storm </span><span style=\"color: #800000; text-decoration-color: #800000; font-weight: bold\">Spirit(</span><span style=\"color: #800000; text-decoration-color: #800000\">MID</span><span style=\"color: #800000; text-decoration-color: #800000; font-weight: bold\">)</span> attacks <span style=\"color: #008000; text-decoration-color: #008000\">Ember </span><span style=\"color: #008000; text-decoration-color: #008000; font-weight: bold\">Spirit(</span><span style=\"color: #008000; text-decoration-color: #008000\">MID</span><span style=\"color: #008000; text-decoration-color: #008000; font-weight: bold\">)</span> for <span style=\"color: #008080; text-decoration-color: #008080; font-weight: bold\">10</span> damage\n",
       "</pre>\n"
      ],
      "text/plain": [
       "\u001b[31mStorm \u001b[0m\u001b[1;31mSpirit\u001b[0m\u001b[1;31m(\u001b[0m\u001b[31mMID\u001b[0m\u001b[1;31m)\u001b[0m attacks \u001b[32mEmber \u001b[0m\u001b[1;32mSpirit\u001b[0m\u001b[1;32m(\u001b[0m\u001b[32mMID\u001b[0m\u001b[1;32m)\u001b[0m for \u001b[1;36m10\u001b[0m damage\n"
      ]
     },
     "metadata": {},
     "output_type": "display_data"
    },
    {
     "data": {
      "text/html": [
       "<pre style=\"white-space:pre;overflow-x:auto;line-height:normal;font-family:Menlo,'DejaVu Sans Mono',consolas,'Courier New',monospace\"><span style=\"color: #800000; text-decoration-color: #800000\">Legion </span><span style=\"color: #800000; text-decoration-color: #800000; font-weight: bold\">Commander(</span><span style=\"color: #800000; text-decoration-color: #800000\">OFFLANE</span><span style=\"color: #800000; text-decoration-color: #800000; font-weight: bold\">)</span> attacks <span style=\"color: #008000; text-decoration-color: #008000\">Ember </span><span style=\"color: #008000; text-decoration-color: #008000; font-weight: bold\">Spirit(</span><span style=\"color: #008000; text-decoration-color: #008000\">MID</span><span style=\"color: #008000; text-decoration-color: #008000; font-weight: bold\">)</span> for <span style=\"color: #008080; text-decoration-color: #008080; font-weight: bold\">10</span> damage\n",
       "</pre>\n"
      ],
      "text/plain": [
       "\u001b[31mLegion \u001b[0m\u001b[1;31mCommander\u001b[0m\u001b[1;31m(\u001b[0m\u001b[31mOFFLANE\u001b[0m\u001b[1;31m)\u001b[0m attacks \u001b[32mEmber \u001b[0m\u001b[1;32mSpirit\u001b[0m\u001b[1;32m(\u001b[0m\u001b[32mMID\u001b[0m\u001b[1;32m)\u001b[0m for \u001b[1;36m10\u001b[0m damage\n"
      ]
     },
     "metadata": {},
     "output_type": "display_data"
    },
    {
     "data": {
      "text/html": [
       "<pre style=\"white-space:pre;overflow-x:auto;line-height:normal;font-family:Menlo,'DejaVu Sans Mono',consolas,'Courier New',monospace\"><span style=\"color: #800000; text-decoration-color: #800000; font-weight: bold\">Bane(</span><span style=\"color: #800000; text-decoration-color: #800000\">SUPPORT</span><span style=\"color: #800000; text-decoration-color: #800000; font-weight: bold\">)</span> attacks <span style=\"color: #008000; text-decoration-color: #008000\">Legion </span><span style=\"color: #008000; text-decoration-color: #008000; font-weight: bold\">Commander(</span><span style=\"color: #008000; text-decoration-color: #008000\">OFFLANE</span><span style=\"color: #008000; text-decoration-color: #008000; font-weight: bold\">)</span> for <span style=\"color: #008080; text-decoration-color: #008080; font-weight: bold\">9</span> damage\n",
       "</pre>\n"
      ],
      "text/plain": [
       "\u001b[1;31mBane\u001b[0m\u001b[1;31m(\u001b[0m\u001b[31mSUPPORT\u001b[0m\u001b[1;31m)\u001b[0m attacks \u001b[32mLegion \u001b[0m\u001b[1;32mCommander\u001b[0m\u001b[1;32m(\u001b[0m\u001b[32mOFFLANE\u001b[0m\u001b[1;32m)\u001b[0m for \u001b[1;36m9\u001b[0m damage\n"
      ]
     },
     "metadata": {},
     "output_type": "display_data"
    },
    {
     "data": {
      "text/html": [
       "<pre style=\"white-space:pre;overflow-x:auto;line-height:normal;font-family:Menlo,'DejaVu Sans Mono',consolas,'Courier New',monospace\"><span style=\"color: #800000; text-decoration-color: #800000; font-weight: bold\">Enchantress(</span><span style=\"color: #800000; text-decoration-color: #800000\">HARD_SUPPORT</span><span style=\"color: #800000; text-decoration-color: #800000; font-weight: bold\">)</span> attacks <span style=\"color: #008000; text-decoration-color: #008000\">Ember </span><span style=\"color: #008000; text-decoration-color: #008000; font-weight: bold\">Spirit(</span><span style=\"color: #008000; text-decoration-color: #008000\">MID</span><span style=\"color: #008000; text-decoration-color: #008000; font-weight: bold\">)</span> for <span style=\"color: #008080; text-decoration-color: #008080; font-weight: bold\">10</span> damage\n",
       "</pre>\n"
      ],
      "text/plain": [
       "\u001b[1;31mEnchantress\u001b[0m\u001b[1;31m(\u001b[0m\u001b[31mHARD_SUPPORT\u001b[0m\u001b[1;31m)\u001b[0m attacks \u001b[32mEmber \u001b[0m\u001b[1;32mSpirit\u001b[0m\u001b[1;32m(\u001b[0m\u001b[32mMID\u001b[0m\u001b[1;32m)\u001b[0m for \u001b[1;36m10\u001b[0m damage\n"
      ]
     },
     "metadata": {},
     "output_type": "display_data"
    },
    {
     "data": {
      "text/html": [
       "<pre style=\"white-space:pre;overflow-x:auto;line-height:normal;font-family:Menlo,'DejaVu Sans Mono',consolas,'Courier New',monospace\">\n",
       "<span style=\"color: #808000; text-decoration-color: #808000\">Файт </span><span style=\"color: #808000; text-decoration-color: #808000; font-weight: bold\">3</span><span style=\"color: #808000; text-decoration-color: #808000\">:</span>\n",
       "</pre>\n"
      ],
      "text/plain": [
       "\n",
       "\u001b[33mФайт \u001b[0m\u001b[1;33m3\u001b[0m\u001b[33m:\u001b[0m\n"
      ]
     },
     "metadata": {},
     "output_type": "display_data"
    },
    {
     "data": {
      "text/html": [
       "<pre style=\"white-space:pre;overflow-x:auto;line-height:normal;font-family:Menlo,'DejaVu Sans Mono',consolas,'Courier New',monospace\"><span style=\"color: #008000; text-decoration-color: #008000; font-weight: bold\">Juggernaut(</span><span style=\"color: #008000; text-decoration-color: #008000\">CARRY</span><span style=\"color: #008000; text-decoration-color: #008000; font-weight: bold\">)</span> attacks <span style=\"color: #800000; text-decoration-color: #800000\">Storm </span><span style=\"color: #800000; text-decoration-color: #800000; font-weight: bold\">Spirit(</span><span style=\"color: #800000; text-decoration-color: #800000\">MID</span><span style=\"color: #800000; text-decoration-color: #800000; font-weight: bold\">)</span> for <span style=\"color: #008080; text-decoration-color: #008080; font-weight: bold\">8</span> damage\n",
       "</pre>\n"
      ],
      "text/plain": [
       "\u001b[1;32mJuggernaut\u001b[0m\u001b[1;32m(\u001b[0m\u001b[32mCARRY\u001b[0m\u001b[1;32m)\u001b[0m attacks \u001b[31mStorm \u001b[0m\u001b[1;31mSpirit\u001b[0m\u001b[1;31m(\u001b[0m\u001b[31mMID\u001b[0m\u001b[1;31m)\u001b[0m for \u001b[1;36m8\u001b[0m damage\n"
      ]
     },
     "metadata": {},
     "output_type": "display_data"
    },
    {
     "data": {
      "text/html": [
       "<pre style=\"white-space:pre;overflow-x:auto;line-height:normal;font-family:Menlo,'DejaVu Sans Mono',consolas,'Courier New',monospace\"><span style=\"color: #008000; text-decoration-color: #008000\">Ember </span><span style=\"color: #008000; text-decoration-color: #008000; font-weight: bold\">Spirit(</span><span style=\"color: #008000; text-decoration-color: #008000\">MID</span><span style=\"color: #008000; text-decoration-color: #008000; font-weight: bold\">)</span> attacks <span style=\"color: #800000; text-decoration-color: #800000; font-weight: bold\">Bane(</span><span style=\"color: #800000; text-decoration-color: #800000\">SUPPORT</span><span style=\"color: #800000; text-decoration-color: #800000; font-weight: bold\">)</span> for <span style=\"color: #008080; text-decoration-color: #008080; font-weight: bold\">8</span> damage\n",
       "</pre>\n"
      ],
      "text/plain": [
       "\u001b[32mEmber \u001b[0m\u001b[1;32mSpirit\u001b[0m\u001b[1;32m(\u001b[0m\u001b[32mMID\u001b[0m\u001b[1;32m)\u001b[0m attacks \u001b[1;31mBane\u001b[0m\u001b[1;31m(\u001b[0m\u001b[31mSUPPORT\u001b[0m\u001b[1;31m)\u001b[0m for \u001b[1;36m8\u001b[0m damage\n"
      ]
     },
     "metadata": {},
     "output_type": "display_data"
    },
    {
     "data": {
      "text/html": [
       "<pre style=\"white-space:pre;overflow-x:auto;line-height:normal;font-family:Menlo,'DejaVu Sans Mono',consolas,'Courier New',monospace\"><span style=\"color: #008000; text-decoration-color: #008000\">Legion </span><span style=\"color: #008000; text-decoration-color: #008000; font-weight: bold\">Commander(</span><span style=\"color: #008000; text-decoration-color: #008000\">OFFLANE</span><span style=\"color: #008000; text-decoration-color: #008000; font-weight: bold\">)</span> attacks <span style=\"color: #800000; text-decoration-color: #800000\">Legion </span><span style=\"color: #800000; text-decoration-color: #800000; font-weight: bold\">Commander(</span><span style=\"color: #800000; text-decoration-color: #800000\">OFFLANE</span><span style=\"color: #800000; text-decoration-color: #800000; font-weight: bold\">)</span> for <span style=\"color: #008080; text-decoration-color: #008080; font-weight: bold\">11</span> damage\n",
       "</pre>\n"
      ],
      "text/plain": [
       "\u001b[32mLegion \u001b[0m\u001b[1;32mCommander\u001b[0m\u001b[1;32m(\u001b[0m\u001b[32mOFFLANE\u001b[0m\u001b[1;32m)\u001b[0m attacks \u001b[31mLegion \u001b[0m\u001b[1;31mCommander\u001b[0m\u001b[1;31m(\u001b[0m\u001b[31mOFFLANE\u001b[0m\u001b[1;31m)\u001b[0m for \u001b[1;36m11\u001b[0m damage\n"
      ]
     },
     "metadata": {},
     "output_type": "display_data"
    },
    {
     "data": {
      "text/html": [
       "<pre style=\"white-space:pre;overflow-x:auto;line-height:normal;font-family:Menlo,'DejaVu Sans Mono',consolas,'Courier New',monospace\"><span style=\"color: #008000; text-decoration-color: #008000\">Crystal </span><span style=\"color: #008000; text-decoration-color: #008000; font-weight: bold\">Maiden(</span><span style=\"color: #008000; text-decoration-color: #008000\">SUPPORT</span><span style=\"color: #008000; text-decoration-color: #008000; font-weight: bold\">)</span> attacks <span style=\"color: #800000; text-decoration-color: #800000\">Storm </span><span style=\"color: #800000; text-decoration-color: #800000; font-weight: bold\">Spirit(</span><span style=\"color: #800000; text-decoration-color: #800000\">MID</span><span style=\"color: #800000; text-decoration-color: #800000; font-weight: bold\">)</span> for <span style=\"color: #008080; text-decoration-color: #008080; font-weight: bold\">12</span> damage\n",
       "</pre>\n"
      ],
      "text/plain": [
       "\u001b[32mCrystal \u001b[0m\u001b[1;32mMaiden\u001b[0m\u001b[1;32m(\u001b[0m\u001b[32mSUPPORT\u001b[0m\u001b[1;32m)\u001b[0m attacks \u001b[31mStorm \u001b[0m\u001b[1;31mSpirit\u001b[0m\u001b[1;31m(\u001b[0m\u001b[31mMID\u001b[0m\u001b[1;31m)\u001b[0m for \u001b[1;36m12\u001b[0m damage\n"
      ]
     },
     "metadata": {},
     "output_type": "display_data"
    },
    {
     "data": {
      "text/html": [
       "<pre style=\"white-space:pre;overflow-x:auto;line-height:normal;font-family:Menlo,'DejaVu Sans Mono',consolas,'Courier New',monospace\"><span style=\"color: #008000; text-decoration-color: #008000\">Naga </span><span style=\"color: #008000; text-decoration-color: #008000; font-weight: bold\">Siren(</span><span style=\"color: #008000; text-decoration-color: #008000\">HARD_SUPPORT</span><span style=\"color: #008000; text-decoration-color: #008000; font-weight: bold\">)</span> attacks <span style=\"color: #800000; text-decoration-color: #800000\">Storm </span><span style=\"color: #800000; text-decoration-color: #800000; font-weight: bold\">Spirit(</span><span style=\"color: #800000; text-decoration-color: #800000\">MID</span><span style=\"color: #800000; text-decoration-color: #800000; font-weight: bold\">)</span> for <span style=\"color: #008080; text-decoration-color: #008080; font-weight: bold\">10</span> damage\n",
       "</pre>\n"
      ],
      "text/plain": [
       "\u001b[32mNaga \u001b[0m\u001b[1;32mSiren\u001b[0m\u001b[1;32m(\u001b[0m\u001b[32mHARD_SUPPORT\u001b[0m\u001b[1;32m)\u001b[0m attacks \u001b[31mStorm \u001b[0m\u001b[1;31mSpirit\u001b[0m\u001b[1;31m(\u001b[0m\u001b[31mMID\u001b[0m\u001b[1;31m)\u001b[0m for \u001b[1;36m10\u001b[0m damage\n"
      ]
     },
     "metadata": {},
     "output_type": "display_data"
    },
    {
     "data": {
      "text/html": [
       "<pre style=\"white-space:pre;overflow-x:auto;line-height:normal;font-family:Menlo,'DejaVu Sans Mono',consolas,'Courier New',monospace\"><span style=\"color: #800000; text-decoration-color: #800000; font-weight: bold\">Medusa(</span><span style=\"color: #800000; text-decoration-color: #800000\">CARRY</span><span style=\"color: #800000; text-decoration-color: #800000; font-weight: bold\">)</span> attacks <span style=\"color: #008000; text-decoration-color: #008000; font-weight: bold\">Juggernaut(</span><span style=\"color: #008000; text-decoration-color: #008000\">CARRY</span><span style=\"color: #008000; text-decoration-color: #008000; font-weight: bold\">)</span> for <span style=\"color: #008080; text-decoration-color: #008080; font-weight: bold\">10</span> damage\n",
       "</pre>\n"
      ],
      "text/plain": [
       "\u001b[1;31mMedusa\u001b[0m\u001b[1;31m(\u001b[0m\u001b[31mCARRY\u001b[0m\u001b[1;31m)\u001b[0m attacks \u001b[1;32mJuggernaut\u001b[0m\u001b[1;32m(\u001b[0m\u001b[32mCARRY\u001b[0m\u001b[1;32m)\u001b[0m for \u001b[1;36m10\u001b[0m damage\n"
      ]
     },
     "metadata": {},
     "output_type": "display_data"
    },
    {
     "data": {
      "text/html": [
       "<pre style=\"white-space:pre;overflow-x:auto;line-height:normal;font-family:Menlo,'DejaVu Sans Mono',consolas,'Courier New',monospace\"><span style=\"color: #800000; text-decoration-color: #800000\">Storm </span><span style=\"color: #800000; text-decoration-color: #800000; font-weight: bold\">Spirit(</span><span style=\"color: #800000; text-decoration-color: #800000\">MID</span><span style=\"color: #800000; text-decoration-color: #800000; font-weight: bold\">)</span> attacks <span style=\"color: #008000; text-decoration-color: #008000\">Crystal </span><span style=\"color: #008000; text-decoration-color: #008000; font-weight: bold\">Maiden(</span><span style=\"color: #008000; text-decoration-color: #008000\">SUPPORT</span><span style=\"color: #008000; text-decoration-color: #008000; font-weight: bold\">)</span> for <span style=\"color: #008080; text-decoration-color: #008080; font-weight: bold\">9</span> damage\n",
       "</pre>\n"
      ],
      "text/plain": [
       "\u001b[31mStorm \u001b[0m\u001b[1;31mSpirit\u001b[0m\u001b[1;31m(\u001b[0m\u001b[31mMID\u001b[0m\u001b[1;31m)\u001b[0m attacks \u001b[32mCrystal \u001b[0m\u001b[1;32mMaiden\u001b[0m\u001b[1;32m(\u001b[0m\u001b[32mSUPPORT\u001b[0m\u001b[1;32m)\u001b[0m for \u001b[1;36m9\u001b[0m damage\n"
      ]
     },
     "metadata": {},
     "output_type": "display_data"
    },
    {
     "data": {
      "text/html": [
       "<pre style=\"white-space:pre;overflow-x:auto;line-height:normal;font-family:Menlo,'DejaVu Sans Mono',consolas,'Courier New',monospace\"><span style=\"color: #800000; text-decoration-color: #800000\">Legion </span><span style=\"color: #800000; text-decoration-color: #800000; font-weight: bold\">Commander(</span><span style=\"color: #800000; text-decoration-color: #800000\">OFFLANE</span><span style=\"color: #800000; text-decoration-color: #800000; font-weight: bold\">)</span> attacks <span style=\"color: #008000; text-decoration-color: #008000\">Naga </span><span style=\"color: #008000; text-decoration-color: #008000; font-weight: bold\">Siren(</span><span style=\"color: #008000; text-decoration-color: #008000\">HARD_SUPPORT</span><span style=\"color: #008000; text-decoration-color: #008000; font-weight: bold\">)</span> for <span style=\"color: #008080; text-decoration-color: #008080; font-weight: bold\">11</span> damage\n",
       "</pre>\n"
      ],
      "text/plain": [
       "\u001b[31mLegion \u001b[0m\u001b[1;31mCommander\u001b[0m\u001b[1;31m(\u001b[0m\u001b[31mOFFLANE\u001b[0m\u001b[1;31m)\u001b[0m attacks \u001b[32mNaga \u001b[0m\u001b[1;32mSiren\u001b[0m\u001b[1;32m(\u001b[0m\u001b[32mHARD_SUPPORT\u001b[0m\u001b[1;32m)\u001b[0m for \u001b[1;36m11\u001b[0m damage\n"
      ]
     },
     "metadata": {},
     "output_type": "display_data"
    },
    {
     "data": {
      "text/html": [
       "<pre style=\"white-space:pre;overflow-x:auto;line-height:normal;font-family:Menlo,'DejaVu Sans Mono',consolas,'Courier New',monospace\"><span style=\"color: #800000; text-decoration-color: #800000; font-weight: bold\">Bane(</span><span style=\"color: #800000; text-decoration-color: #800000\">SUPPORT</span><span style=\"color: #800000; text-decoration-color: #800000; font-weight: bold\">)</span> attacks <span style=\"color: #008000; text-decoration-color: #008000\">Legion </span><span style=\"color: #008000; text-decoration-color: #008000; font-weight: bold\">Commander(</span><span style=\"color: #008000; text-decoration-color: #008000\">OFFLANE</span><span style=\"color: #008000; text-decoration-color: #008000; font-weight: bold\">)</span> for <span style=\"color: #008080; text-decoration-color: #008080; font-weight: bold\">13</span> damage\n",
       "</pre>\n"
      ],
      "text/plain": [
       "\u001b[1;31mBane\u001b[0m\u001b[1;31m(\u001b[0m\u001b[31mSUPPORT\u001b[0m\u001b[1;31m)\u001b[0m attacks \u001b[32mLegion \u001b[0m\u001b[1;32mCommander\u001b[0m\u001b[1;32m(\u001b[0m\u001b[32mOFFLANE\u001b[0m\u001b[1;32m)\u001b[0m for \u001b[1;36m13\u001b[0m damage\n"
      ]
     },
     "metadata": {},
     "output_type": "display_data"
    },
    {
     "data": {
      "text/html": [
       "<pre style=\"white-space:pre;overflow-x:auto;line-height:normal;font-family:Menlo,'DejaVu Sans Mono',consolas,'Courier New',monospace\"><span style=\"color: #800000; text-decoration-color: #800000; font-weight: bold\">Enchantress(</span><span style=\"color: #800000; text-decoration-color: #800000\">HARD_SUPPORT</span><span style=\"color: #800000; text-decoration-color: #800000; font-weight: bold\">)</span> attacks <span style=\"color: #008000; text-decoration-color: #008000\">Ember </span><span style=\"color: #008000; text-decoration-color: #008000; font-weight: bold\">Spirit(</span><span style=\"color: #008000; text-decoration-color: #008000\">MID</span><span style=\"color: #008000; text-decoration-color: #008000; font-weight: bold\">)</span> for <span style=\"color: #008080; text-decoration-color: #008080; font-weight: bold\">8</span> damage\n",
       "</pre>\n"
      ],
      "text/plain": [
       "\u001b[1;31mEnchantress\u001b[0m\u001b[1;31m(\u001b[0m\u001b[31mHARD_SUPPORT\u001b[0m\u001b[1;31m)\u001b[0m attacks \u001b[32mEmber \u001b[0m\u001b[1;32mSpirit\u001b[0m\u001b[1;32m(\u001b[0m\u001b[32mMID\u001b[0m\u001b[1;32m)\u001b[0m for \u001b[1;36m8\u001b[0m damage\n"
      ]
     },
     "metadata": {},
     "output_type": "display_data"
    },
    {
     "data": {
      "text/html": [
       "<pre style=\"white-space:pre;overflow-x:auto;line-height:normal;font-family:Menlo,'DejaVu Sans Mono',consolas,'Courier New',monospace\">\n",
       "<span style=\"color: #808000; text-decoration-color: #808000\">Файт </span><span style=\"color: #808000; text-decoration-color: #808000; font-weight: bold\">4</span><span style=\"color: #808000; text-decoration-color: #808000\">:</span>\n",
       "</pre>\n"
      ],
      "text/plain": [
       "\n",
       "\u001b[33mФайт \u001b[0m\u001b[1;33m4\u001b[0m\u001b[33m:\u001b[0m\n"
      ]
     },
     "metadata": {},
     "output_type": "display_data"
    },
    {
     "data": {
      "text/html": [
       "<pre style=\"white-space:pre;overflow-x:auto;line-height:normal;font-family:Menlo,'DejaVu Sans Mono',consolas,'Courier New',monospace\"><span style=\"color: #008000; text-decoration-color: #008000; font-weight: bold\">Juggernaut(</span><span style=\"color: #008000; text-decoration-color: #008000\">CARRY</span><span style=\"color: #008000; text-decoration-color: #008000; font-weight: bold\">)</span> attacks <span style=\"color: #800000; text-decoration-color: #800000; font-weight: bold\">Enchantress(</span><span style=\"color: #800000; text-decoration-color: #800000\">HARD_SUPPORT</span><span style=\"color: #800000; text-decoration-color: #800000; font-weight: bold\">)</span> for <span style=\"color: #008080; text-decoration-color: #008080; font-weight: bold\">7</span> damage\n",
       "</pre>\n"
      ],
      "text/plain": [
       "\u001b[1;32mJuggernaut\u001b[0m\u001b[1;32m(\u001b[0m\u001b[32mCARRY\u001b[0m\u001b[1;32m)\u001b[0m attacks \u001b[1;31mEnchantress\u001b[0m\u001b[1;31m(\u001b[0m\u001b[31mHARD_SUPPORT\u001b[0m\u001b[1;31m)\u001b[0m for \u001b[1;36m7\u001b[0m damage\n"
      ]
     },
     "metadata": {},
     "output_type": "display_data"
    },
    {
     "data": {
      "text/html": [
       "<pre style=\"white-space:pre;overflow-x:auto;line-height:normal;font-family:Menlo,'DejaVu Sans Mono',consolas,'Courier New',monospace\"><span style=\"color: #008000; text-decoration-color: #008000\">Ember </span><span style=\"color: #008000; text-decoration-color: #008000; font-weight: bold\">Spirit(</span><span style=\"color: #008000; text-decoration-color: #008000\">MID</span><span style=\"color: #008000; text-decoration-color: #008000; font-weight: bold\">)</span> attacks <span style=\"color: #800000; text-decoration-color: #800000\">Storm </span><span style=\"color: #800000; text-decoration-color: #800000; font-weight: bold\">Spirit(</span><span style=\"color: #800000; text-decoration-color: #800000\">MID</span><span style=\"color: #800000; text-decoration-color: #800000; font-weight: bold\">)</span> for <span style=\"color: #008080; text-decoration-color: #008080; font-weight: bold\">11</span> damage\n",
       "</pre>\n"
      ],
      "text/plain": [
       "\u001b[32mEmber \u001b[0m\u001b[1;32mSpirit\u001b[0m\u001b[1;32m(\u001b[0m\u001b[32mMID\u001b[0m\u001b[1;32m)\u001b[0m attacks \u001b[31mStorm \u001b[0m\u001b[1;31mSpirit\u001b[0m\u001b[1;31m(\u001b[0m\u001b[31mMID\u001b[0m\u001b[1;31m)\u001b[0m for \u001b[1;36m11\u001b[0m damage\n"
      ]
     },
     "metadata": {},
     "output_type": "display_data"
    },
    {
     "data": {
      "text/html": [
       "<pre style=\"white-space:pre;overflow-x:auto;line-height:normal;font-family:Menlo,'DejaVu Sans Mono',consolas,'Courier New',monospace\"><span style=\"color: #008000; text-decoration-color: #008000\">Legion </span><span style=\"color: #008000; text-decoration-color: #008000; font-weight: bold\">Commander(</span><span style=\"color: #008000; text-decoration-color: #008000\">OFFLANE</span><span style=\"color: #008000; text-decoration-color: #008000; font-weight: bold\">)</span> attacks <span style=\"color: #800000; text-decoration-color: #800000; font-weight: bold\">Medusa(</span><span style=\"color: #800000; text-decoration-color: #800000\">CARRY</span><span style=\"color: #800000; text-decoration-color: #800000; font-weight: bold\">)</span> for <span style=\"color: #008080; text-decoration-color: #008080; font-weight: bold\">8</span> damage\n",
       "</pre>\n"
      ],
      "text/plain": [
       "\u001b[32mLegion \u001b[0m\u001b[1;32mCommander\u001b[0m\u001b[1;32m(\u001b[0m\u001b[32mOFFLANE\u001b[0m\u001b[1;32m)\u001b[0m attacks \u001b[1;31mMedusa\u001b[0m\u001b[1;31m(\u001b[0m\u001b[31mCARRY\u001b[0m\u001b[1;31m)\u001b[0m for \u001b[1;36m8\u001b[0m damage\n"
      ]
     },
     "metadata": {},
     "output_type": "display_data"
    },
    {
     "data": {
      "text/html": [
       "<pre style=\"white-space:pre;overflow-x:auto;line-height:normal;font-family:Menlo,'DejaVu Sans Mono',consolas,'Courier New',monospace\"><span style=\"color: #008000; text-decoration-color: #008000\">Crystal </span><span style=\"color: #008000; text-decoration-color: #008000; font-weight: bold\">Maiden(</span><span style=\"color: #008000; text-decoration-color: #008000\">SUPPORT</span><span style=\"color: #008000; text-decoration-color: #008000; font-weight: bold\">)</span> attacks <span style=\"color: #800000; text-decoration-color: #800000; font-weight: bold\">Bane(</span><span style=\"color: #800000; text-decoration-color: #800000\">SUPPORT</span><span style=\"color: #800000; text-decoration-color: #800000; font-weight: bold\">)</span> for <span style=\"color: #008080; text-decoration-color: #008080; font-weight: bold\">12</span> damage\n",
       "</pre>\n"
      ],
      "text/plain": [
       "\u001b[32mCrystal \u001b[0m\u001b[1;32mMaiden\u001b[0m\u001b[1;32m(\u001b[0m\u001b[32mSUPPORT\u001b[0m\u001b[1;32m)\u001b[0m attacks \u001b[1;31mBane\u001b[0m\u001b[1;31m(\u001b[0m\u001b[31mSUPPORT\u001b[0m\u001b[1;31m)\u001b[0m for \u001b[1;36m12\u001b[0m damage\n"
      ]
     },
     "metadata": {},
     "output_type": "display_data"
    },
    {
     "data": {
      "text/html": [
       "<pre style=\"white-space:pre;overflow-x:auto;line-height:normal;font-family:Menlo,'DejaVu Sans Mono',consolas,'Courier New',monospace\"><span style=\"color: #008000; text-decoration-color: #008000\">Naga </span><span style=\"color: #008000; text-decoration-color: #008000; font-weight: bold\">Siren(</span><span style=\"color: #008000; text-decoration-color: #008000\">HARD_SUPPORT</span><span style=\"color: #008000; text-decoration-color: #008000; font-weight: bold\">)</span> attacks <span style=\"color: #800000; text-decoration-color: #800000; font-weight: bold\">Medusa(</span><span style=\"color: #800000; text-decoration-color: #800000\">CARRY</span><span style=\"color: #800000; text-decoration-color: #800000; font-weight: bold\">)</span> for <span style=\"color: #008080; text-decoration-color: #008080; font-weight: bold\">13</span> damage\n",
       "</pre>\n"
      ],
      "text/plain": [
       "\u001b[32mNaga \u001b[0m\u001b[1;32mSiren\u001b[0m\u001b[1;32m(\u001b[0m\u001b[32mHARD_SUPPORT\u001b[0m\u001b[1;32m)\u001b[0m attacks \u001b[1;31mMedusa\u001b[0m\u001b[1;31m(\u001b[0m\u001b[31mCARRY\u001b[0m\u001b[1;31m)\u001b[0m for \u001b[1;36m13\u001b[0m damage\n"
      ]
     },
     "metadata": {},
     "output_type": "display_data"
    },
    {
     "data": {
      "text/html": [
       "<pre style=\"white-space:pre;overflow-x:auto;line-height:normal;font-family:Menlo,'DejaVu Sans Mono',consolas,'Courier New',monospace\"><span style=\"color: #800000; text-decoration-color: #800000; font-weight: bold\">Medusa(</span><span style=\"color: #800000; text-decoration-color: #800000\">CARRY</span><span style=\"color: #800000; text-decoration-color: #800000; font-weight: bold\">)</span> attacks <span style=\"color: #008000; text-decoration-color: #008000\">Naga </span><span style=\"color: #008000; text-decoration-color: #008000; font-weight: bold\">Siren(</span><span style=\"color: #008000; text-decoration-color: #008000\">HARD_SUPPORT</span><span style=\"color: #008000; text-decoration-color: #008000; font-weight: bold\">)</span> for <span style=\"color: #008080; text-decoration-color: #008080; font-weight: bold\">11</span> damage\n",
       "</pre>\n"
      ],
      "text/plain": [
       "\u001b[1;31mMedusa\u001b[0m\u001b[1;31m(\u001b[0m\u001b[31mCARRY\u001b[0m\u001b[1;31m)\u001b[0m attacks \u001b[32mNaga \u001b[0m\u001b[1;32mSiren\u001b[0m\u001b[1;32m(\u001b[0m\u001b[32mHARD_SUPPORT\u001b[0m\u001b[1;32m)\u001b[0m for \u001b[1;36m11\u001b[0m damage\n"
      ]
     },
     "metadata": {},
     "output_type": "display_data"
    },
    {
     "data": {
      "text/html": [
       "<pre style=\"white-space:pre;overflow-x:auto;line-height:normal;font-family:Menlo,'DejaVu Sans Mono',consolas,'Courier New',monospace\"><span style=\"color: #800000; text-decoration-color: #800000\">Storm </span><span style=\"color: #800000; text-decoration-color: #800000; font-weight: bold\">Spirit(</span><span style=\"color: #800000; text-decoration-color: #800000\">MID</span><span style=\"color: #800000; text-decoration-color: #800000; font-weight: bold\">)</span> attacks <span style=\"color: #008000; text-decoration-color: #008000\">Crystal </span><span style=\"color: #008000; text-decoration-color: #008000; font-weight: bold\">Maiden(</span><span style=\"color: #008000; text-decoration-color: #008000\">SUPPORT</span><span style=\"color: #008000; text-decoration-color: #008000; font-weight: bold\">)</span> for <span style=\"color: #008080; text-decoration-color: #008080; font-weight: bold\">9</span> damage\n",
       "</pre>\n"
      ],
      "text/plain": [
       "\u001b[31mStorm \u001b[0m\u001b[1;31mSpirit\u001b[0m\u001b[1;31m(\u001b[0m\u001b[31mMID\u001b[0m\u001b[1;31m)\u001b[0m attacks \u001b[32mCrystal \u001b[0m\u001b[1;32mMaiden\u001b[0m\u001b[1;32m(\u001b[0m\u001b[32mSUPPORT\u001b[0m\u001b[1;32m)\u001b[0m for \u001b[1;36m9\u001b[0m damage\n"
      ]
     },
     "metadata": {},
     "output_type": "display_data"
    },
    {
     "data": {
      "text/html": [
       "<pre style=\"white-space:pre;overflow-x:auto;line-height:normal;font-family:Menlo,'DejaVu Sans Mono',consolas,'Courier New',monospace\"><span style=\"color: #800000; text-decoration-color: #800000\">Legion </span><span style=\"color: #800000; text-decoration-color: #800000; font-weight: bold\">Commander(</span><span style=\"color: #800000; text-decoration-color: #800000\">OFFLANE</span><span style=\"color: #800000; text-decoration-color: #800000; font-weight: bold\">)</span> attacks <span style=\"color: #008000; text-decoration-color: #008000\">Crystal </span><span style=\"color: #008000; text-decoration-color: #008000; font-weight: bold\">Maiden(</span><span style=\"color: #008000; text-decoration-color: #008000\">SUPPORT</span><span style=\"color: #008000; text-decoration-color: #008000; font-weight: bold\">)</span> for <span style=\"color: #008080; text-decoration-color: #008080; font-weight: bold\">9</span> damage\n",
       "</pre>\n"
      ],
      "text/plain": [
       "\u001b[31mLegion \u001b[0m\u001b[1;31mCommander\u001b[0m\u001b[1;31m(\u001b[0m\u001b[31mOFFLANE\u001b[0m\u001b[1;31m)\u001b[0m attacks \u001b[32mCrystal \u001b[0m\u001b[1;32mMaiden\u001b[0m\u001b[1;32m(\u001b[0m\u001b[32mSUPPORT\u001b[0m\u001b[1;32m)\u001b[0m for \u001b[1;36m9\u001b[0m damage\n"
      ]
     },
     "metadata": {},
     "output_type": "display_data"
    },
    {
     "data": {
      "text/html": [
       "<pre style=\"white-space:pre;overflow-x:auto;line-height:normal;font-family:Menlo,'DejaVu Sans Mono',consolas,'Courier New',monospace\"><span style=\"color: #800000; text-decoration-color: #800000; font-weight: bold\">Bane(</span><span style=\"color: #800000; text-decoration-color: #800000\">SUPPORT</span><span style=\"color: #800000; text-decoration-color: #800000; font-weight: bold\">)</span> attacks <span style=\"color: #008000; text-decoration-color: #008000\">Crystal </span><span style=\"color: #008000; text-decoration-color: #008000; font-weight: bold\">Maiden(</span><span style=\"color: #008000; text-decoration-color: #008000\">SUPPORT</span><span style=\"color: #008000; text-decoration-color: #008000; font-weight: bold\">)</span> for <span style=\"color: #008080; text-decoration-color: #008080; font-weight: bold\">11</span> damage\n",
       "</pre>\n"
      ],
      "text/plain": [
       "\u001b[1;31mBane\u001b[0m\u001b[1;31m(\u001b[0m\u001b[31mSUPPORT\u001b[0m\u001b[1;31m)\u001b[0m attacks \u001b[32mCrystal \u001b[0m\u001b[1;32mMaiden\u001b[0m\u001b[1;32m(\u001b[0m\u001b[32mSUPPORT\u001b[0m\u001b[1;32m)\u001b[0m for \u001b[1;36m11\u001b[0m damage\n"
      ]
     },
     "metadata": {},
     "output_type": "display_data"
    },
    {
     "data": {
      "text/html": [
       "<pre style=\"white-space:pre;overflow-x:auto;line-height:normal;font-family:Menlo,'DejaVu Sans Mono',consolas,'Courier New',monospace\"><span style=\"color: #800000; text-decoration-color: #800000; font-weight: bold\">Enchantress(</span><span style=\"color: #800000; text-decoration-color: #800000\">HARD_SUPPORT</span><span style=\"color: #800000; text-decoration-color: #800000; font-weight: bold\">)</span> attacks <span style=\"color: #008000; text-decoration-color: #008000\">Crystal </span><span style=\"color: #008000; text-decoration-color: #008000; font-weight: bold\">Maiden(</span><span style=\"color: #008000; text-decoration-color: #008000\">SUPPORT</span><span style=\"color: #008000; text-decoration-color: #008000; font-weight: bold\">)</span> for <span style=\"color: #008080; text-decoration-color: #008080; font-weight: bold\">10</span> damage\n",
       "</pre>\n"
      ],
      "text/plain": [
       "\u001b[1;31mEnchantress\u001b[0m\u001b[1;31m(\u001b[0m\u001b[31mHARD_SUPPORT\u001b[0m\u001b[1;31m)\u001b[0m attacks \u001b[32mCrystal \u001b[0m\u001b[1;32mMaiden\u001b[0m\u001b[1;32m(\u001b[0m\u001b[32mSUPPORT\u001b[0m\u001b[1;32m)\u001b[0m for \u001b[1;36m10\u001b[0m damage\n"
      ]
     },
     "metadata": {},
     "output_type": "display_data"
    },
    {
     "data": {
      "text/html": [
       "<pre style=\"white-space:pre;overflow-x:auto;line-height:normal;font-family:Menlo,'DejaVu Sans Mono',consolas,'Courier New',monospace\">\n",
       "<span style=\"color: #808000; text-decoration-color: #808000\">Файт </span><span style=\"color: #808000; text-decoration-color: #808000; font-weight: bold\">5</span><span style=\"color: #808000; text-decoration-color: #808000\">:</span>\n",
       "</pre>\n"
      ],
      "text/plain": [
       "\n",
       "\u001b[33mФайт \u001b[0m\u001b[1;33m5\u001b[0m\u001b[33m:\u001b[0m\n"
      ]
     },
     "metadata": {},
     "output_type": "display_data"
    },
    {
     "data": {
      "text/html": [
       "<pre style=\"white-space:pre;overflow-x:auto;line-height:normal;font-family:Menlo,'DejaVu Sans Mono',consolas,'Courier New',monospace\"><span style=\"color: #008000; text-decoration-color: #008000; font-weight: bold\">Juggernaut(</span><span style=\"color: #008000; text-decoration-color: #008000\">CARRY</span><span style=\"color: #008000; text-decoration-color: #008000; font-weight: bold\">)</span> attacks <span style=\"color: #800000; text-decoration-color: #800000; font-weight: bold\">Medusa(</span><span style=\"color: #800000; text-decoration-color: #800000\">CARRY</span><span style=\"color: #800000; text-decoration-color: #800000; font-weight: bold\">)</span> for <span style=\"color: #008080; text-decoration-color: #008080; font-weight: bold\">10</span> damage\n",
       "</pre>\n"
      ],
      "text/plain": [
       "\u001b[1;32mJuggernaut\u001b[0m\u001b[1;32m(\u001b[0m\u001b[32mCARRY\u001b[0m\u001b[1;32m)\u001b[0m attacks \u001b[1;31mMedusa\u001b[0m\u001b[1;31m(\u001b[0m\u001b[31mCARRY\u001b[0m\u001b[1;31m)\u001b[0m for \u001b[1;36m10\u001b[0m damage\n"
      ]
     },
     "metadata": {},
     "output_type": "display_data"
    },
    {
     "data": {
      "text/html": [
       "<pre style=\"white-space:pre;overflow-x:auto;line-height:normal;font-family:Menlo,'DejaVu Sans Mono',consolas,'Courier New',monospace\"><span style=\"color: #008000; text-decoration-color: #008000\">Ember </span><span style=\"color: #008000; text-decoration-color: #008000; font-weight: bold\">Spirit(</span><span style=\"color: #008000; text-decoration-color: #008000\">MID</span><span style=\"color: #008000; text-decoration-color: #008000; font-weight: bold\">)</span> attacks <span style=\"color: #800000; text-decoration-color: #800000\">Storm </span><span style=\"color: #800000; text-decoration-color: #800000; font-weight: bold\">Spirit(</span><span style=\"color: #800000; text-decoration-color: #800000\">MID</span><span style=\"color: #800000; text-decoration-color: #800000; font-weight: bold\">)</span> for <span style=\"color: #008080; text-decoration-color: #008080; font-weight: bold\">9</span> damage\n",
       "</pre>\n"
      ],
      "text/plain": [
       "\u001b[32mEmber \u001b[0m\u001b[1;32mSpirit\u001b[0m\u001b[1;32m(\u001b[0m\u001b[32mMID\u001b[0m\u001b[1;32m)\u001b[0m attacks \u001b[31mStorm \u001b[0m\u001b[1;31mSpirit\u001b[0m\u001b[1;31m(\u001b[0m\u001b[31mMID\u001b[0m\u001b[1;31m)\u001b[0m for \u001b[1;36m9\u001b[0m damage\n"
      ]
     },
     "metadata": {},
     "output_type": "display_data"
    },
    {
     "data": {
      "text/html": [
       "<pre style=\"white-space:pre;overflow-x:auto;line-height:normal;font-family:Menlo,'DejaVu Sans Mono',consolas,'Courier New',monospace\"><span style=\"color: #008000; text-decoration-color: #008000\">Legion </span><span style=\"color: #008000; text-decoration-color: #008000; font-weight: bold\">Commander(</span><span style=\"color: #008000; text-decoration-color: #008000\">OFFLANE</span><span style=\"color: #008000; text-decoration-color: #008000; font-weight: bold\">)</span> attacks <span style=\"color: #800000; text-decoration-color: #800000\">Legion </span><span style=\"color: #800000; text-decoration-color: #800000; font-weight: bold\">Commander(</span><span style=\"color: #800000; text-decoration-color: #800000\">OFFLANE</span><span style=\"color: #800000; text-decoration-color: #800000; font-weight: bold\">)</span> for <span style=\"color: #008080; text-decoration-color: #008080; font-weight: bold\">9</span> damage\n",
       "</pre>\n"
      ],
      "text/plain": [
       "\u001b[32mLegion \u001b[0m\u001b[1;32mCommander\u001b[0m\u001b[1;32m(\u001b[0m\u001b[32mOFFLANE\u001b[0m\u001b[1;32m)\u001b[0m attacks \u001b[31mLegion \u001b[0m\u001b[1;31mCommander\u001b[0m\u001b[1;31m(\u001b[0m\u001b[31mOFFLANE\u001b[0m\u001b[1;31m)\u001b[0m for \u001b[1;36m9\u001b[0m damage\n"
      ]
     },
     "metadata": {},
     "output_type": "display_data"
    },
    {
     "data": {
      "text/html": [
       "<pre style=\"white-space:pre;overflow-x:auto;line-height:normal;font-family:Menlo,'DejaVu Sans Mono',consolas,'Courier New',monospace\"><span style=\"color: #008000; text-decoration-color: #008000\">Crystal </span><span style=\"color: #008000; text-decoration-color: #008000; font-weight: bold\">Maiden(</span><span style=\"color: #008000; text-decoration-color: #008000\">SUPPORT</span><span style=\"color: #008000; text-decoration-color: #008000; font-weight: bold\">)</span> attacks <span style=\"color: #800000; text-decoration-color: #800000\">Storm </span><span style=\"color: #800000; text-decoration-color: #800000; font-weight: bold\">Spirit(</span><span style=\"color: #800000; text-decoration-color: #800000\">MID</span><span style=\"color: #800000; text-decoration-color: #800000; font-weight: bold\">)</span> for <span style=\"color: #008080; text-decoration-color: #008080; font-weight: bold\">13</span> damage\n",
       "</pre>\n"
      ],
      "text/plain": [
       "\u001b[32mCrystal \u001b[0m\u001b[1;32mMaiden\u001b[0m\u001b[1;32m(\u001b[0m\u001b[32mSUPPORT\u001b[0m\u001b[1;32m)\u001b[0m attacks \u001b[31mStorm \u001b[0m\u001b[1;31mSpirit\u001b[0m\u001b[1;31m(\u001b[0m\u001b[31mMID\u001b[0m\u001b[1;31m)\u001b[0m for \u001b[1;36m13\u001b[0m damage\n"
      ]
     },
     "metadata": {},
     "output_type": "display_data"
    },
    {
     "data": {
      "text/html": [
       "<pre style=\"white-space:pre;overflow-x:auto;line-height:normal;font-family:Menlo,'DejaVu Sans Mono',consolas,'Courier New',monospace\"><span style=\"color: #008000; text-decoration-color: #008000\">Naga </span><span style=\"color: #008000; text-decoration-color: #008000; font-weight: bold\">Siren(</span><span style=\"color: #008000; text-decoration-color: #008000\">HARD_SUPPORT</span><span style=\"color: #008000; text-decoration-color: #008000; font-weight: bold\">)</span> attacks <span style=\"color: #800000; text-decoration-color: #800000\">Legion </span><span style=\"color: #800000; text-decoration-color: #800000; font-weight: bold\">Commander(</span><span style=\"color: #800000; text-decoration-color: #800000\">OFFLANE</span><span style=\"color: #800000; text-decoration-color: #800000; font-weight: bold\">)</span> for <span style=\"color: #008080; text-decoration-color: #008080; font-weight: bold\">9</span> damage\n",
       "</pre>\n"
      ],
      "text/plain": [
       "\u001b[32mNaga \u001b[0m\u001b[1;32mSiren\u001b[0m\u001b[1;32m(\u001b[0m\u001b[32mHARD_SUPPORT\u001b[0m\u001b[1;32m)\u001b[0m attacks \u001b[31mLegion \u001b[0m\u001b[1;31mCommander\u001b[0m\u001b[1;31m(\u001b[0m\u001b[31mOFFLANE\u001b[0m\u001b[1;31m)\u001b[0m for \u001b[1;36m9\u001b[0m damage\n"
      ]
     },
     "metadata": {},
     "output_type": "display_data"
    },
    {
     "data": {
      "text/html": [
       "<pre style=\"white-space:pre;overflow-x:auto;line-height:normal;font-family:Menlo,'DejaVu Sans Mono',consolas,'Courier New',monospace\"><span style=\"color: #800000; text-decoration-color: #800000; font-weight: bold\">Medusa(</span><span style=\"color: #800000; text-decoration-color: #800000\">CARRY</span><span style=\"color: #800000; text-decoration-color: #800000; font-weight: bold\">)</span> attacks <span style=\"color: #008000; text-decoration-color: #008000\">Ember </span><span style=\"color: #008000; text-decoration-color: #008000; font-weight: bold\">Spirit(</span><span style=\"color: #008000; text-decoration-color: #008000\">MID</span><span style=\"color: #008000; text-decoration-color: #008000; font-weight: bold\">)</span> for <span style=\"color: #008080; text-decoration-color: #008080; font-weight: bold\">11</span> damage\n",
       "</pre>\n"
      ],
      "text/plain": [
       "\u001b[1;31mMedusa\u001b[0m\u001b[1;31m(\u001b[0m\u001b[31mCARRY\u001b[0m\u001b[1;31m)\u001b[0m attacks \u001b[32mEmber \u001b[0m\u001b[1;32mSpirit\u001b[0m\u001b[1;32m(\u001b[0m\u001b[32mMID\u001b[0m\u001b[1;32m)\u001b[0m for \u001b[1;36m11\u001b[0m damage\n"
      ]
     },
     "metadata": {},
     "output_type": "display_data"
    },
    {
     "data": {
      "text/html": [
       "<pre style=\"white-space:pre;overflow-x:auto;line-height:normal;font-family:Menlo,'DejaVu Sans Mono',consolas,'Courier New',monospace\"><span style=\"color: #800000; text-decoration-color: #800000\">Storm </span><span style=\"color: #800000; text-decoration-color: #800000; font-weight: bold\">Spirit(</span><span style=\"color: #800000; text-decoration-color: #800000\">MID</span><span style=\"color: #800000; text-decoration-color: #800000; font-weight: bold\">)</span> attacks <span style=\"color: #008000; text-decoration-color: #008000\">Naga </span><span style=\"color: #008000; text-decoration-color: #008000; font-weight: bold\">Siren(</span><span style=\"color: #008000; text-decoration-color: #008000\">HARD_SUPPORT</span><span style=\"color: #008000; text-decoration-color: #008000; font-weight: bold\">)</span> for <span style=\"color: #008080; text-decoration-color: #008080; font-weight: bold\">8</span> damage\n",
       "</pre>\n"
      ],
      "text/plain": [
       "\u001b[31mStorm \u001b[0m\u001b[1;31mSpirit\u001b[0m\u001b[1;31m(\u001b[0m\u001b[31mMID\u001b[0m\u001b[1;31m)\u001b[0m attacks \u001b[32mNaga \u001b[0m\u001b[1;32mSiren\u001b[0m\u001b[1;32m(\u001b[0m\u001b[32mHARD_SUPPORT\u001b[0m\u001b[1;32m)\u001b[0m for \u001b[1;36m8\u001b[0m damage\n"
      ]
     },
     "metadata": {},
     "output_type": "display_data"
    },
    {
     "data": {
      "text/html": [
       "<pre style=\"white-space:pre;overflow-x:auto;line-height:normal;font-family:Menlo,'DejaVu Sans Mono',consolas,'Courier New',monospace\"><span style=\"color: #800000; text-decoration-color: #800000\">Legion </span><span style=\"color: #800000; text-decoration-color: #800000; font-weight: bold\">Commander(</span><span style=\"color: #800000; text-decoration-color: #800000\">OFFLANE</span><span style=\"color: #800000; text-decoration-color: #800000; font-weight: bold\">)</span> attacks <span style=\"color: #008000; text-decoration-color: #008000\">Legion </span><span style=\"color: #008000; text-decoration-color: #008000; font-weight: bold\">Commander(</span><span style=\"color: #008000; text-decoration-color: #008000\">OFFLANE</span><span style=\"color: #008000; text-decoration-color: #008000; font-weight: bold\">)</span> for <span style=\"color: #008080; text-decoration-color: #008080; font-weight: bold\">12</span> damage\n",
       "</pre>\n"
      ],
      "text/plain": [
       "\u001b[31mLegion \u001b[0m\u001b[1;31mCommander\u001b[0m\u001b[1;31m(\u001b[0m\u001b[31mOFFLANE\u001b[0m\u001b[1;31m)\u001b[0m attacks \u001b[32mLegion \u001b[0m\u001b[1;32mCommander\u001b[0m\u001b[1;32m(\u001b[0m\u001b[32mOFFLANE\u001b[0m\u001b[1;32m)\u001b[0m for \u001b[1;36m12\u001b[0m damage\n"
      ]
     },
     "metadata": {},
     "output_type": "display_data"
    },
    {
     "data": {
      "text/html": [
       "<pre style=\"white-space:pre;overflow-x:auto;line-height:normal;font-family:Menlo,'DejaVu Sans Mono',consolas,'Courier New',monospace\"><span style=\"color: #800000; text-decoration-color: #800000; font-weight: bold\">Bane(</span><span style=\"color: #800000; text-decoration-color: #800000\">SUPPORT</span><span style=\"color: #800000; text-decoration-color: #800000; font-weight: bold\">)</span> attacks <span style=\"color: #008000; text-decoration-color: #008000; font-weight: bold\">Juggernaut(</span><span style=\"color: #008000; text-decoration-color: #008000\">CARRY</span><span style=\"color: #008000; text-decoration-color: #008000; font-weight: bold\">)</span> for <span style=\"color: #008080; text-decoration-color: #008080; font-weight: bold\">9</span> damage\n",
       "</pre>\n"
      ],
      "text/plain": [
       "\u001b[1;31mBane\u001b[0m\u001b[1;31m(\u001b[0m\u001b[31mSUPPORT\u001b[0m\u001b[1;31m)\u001b[0m attacks \u001b[1;32mJuggernaut\u001b[0m\u001b[1;32m(\u001b[0m\u001b[32mCARRY\u001b[0m\u001b[1;32m)\u001b[0m for \u001b[1;36m9\u001b[0m damage\n"
      ]
     },
     "metadata": {},
     "output_type": "display_data"
    },
    {
     "data": {
      "text/html": [
       "<pre style=\"white-space:pre;overflow-x:auto;line-height:normal;font-family:Menlo,'DejaVu Sans Mono',consolas,'Courier New',monospace\"><span style=\"color: #800000; text-decoration-color: #800000; font-weight: bold\">Enchantress(</span><span style=\"color: #800000; text-decoration-color: #800000\">HARD_SUPPORT</span><span style=\"color: #800000; text-decoration-color: #800000; font-weight: bold\">)</span> attacks <span style=\"color: #008000; text-decoration-color: #008000; font-weight: bold\">Juggernaut(</span><span style=\"color: #008000; text-decoration-color: #008000\">CARRY</span><span style=\"color: #008000; text-decoration-color: #008000; font-weight: bold\">)</span> for <span style=\"color: #008080; text-decoration-color: #008080; font-weight: bold\">10</span> damage\n",
       "</pre>\n"
      ],
      "text/plain": [
       "\u001b[1;31mEnchantress\u001b[0m\u001b[1;31m(\u001b[0m\u001b[31mHARD_SUPPORT\u001b[0m\u001b[1;31m)\u001b[0m attacks \u001b[1;32mJuggernaut\u001b[0m\u001b[1;32m(\u001b[0m\u001b[32mCARRY\u001b[0m\u001b[1;32m)\u001b[0m for \u001b[1;36m10\u001b[0m damage\n"
      ]
     },
     "metadata": {},
     "output_type": "display_data"
    },
    {
     "data": {
      "text/html": [
       "<pre style=\"white-space:pre;overflow-x:auto;line-height:normal;font-family:Menlo,'DejaVu Sans Mono',consolas,'Courier New',monospace\">\n",
       "<span style=\"color: #808000; text-decoration-color: #808000\">Файт </span><span style=\"color: #808000; text-decoration-color: #808000; font-weight: bold\">6</span><span style=\"color: #808000; text-decoration-color: #808000\">:</span>\n",
       "</pre>\n"
      ],
      "text/plain": [
       "\n",
       "\u001b[33mФайт \u001b[0m\u001b[1;33m6\u001b[0m\u001b[33m:\u001b[0m\n"
      ]
     },
     "metadata": {},
     "output_type": "display_data"
    },
    {
     "data": {
      "text/html": [
       "<pre style=\"white-space:pre;overflow-x:auto;line-height:normal;font-family:Menlo,'DejaVu Sans Mono',consolas,'Courier New',monospace\"><span style=\"color: #008000; text-decoration-color: #008000; font-weight: bold\">Juggernaut(</span><span style=\"color: #008000; text-decoration-color: #008000\">CARRY</span><span style=\"color: #008000; text-decoration-color: #008000; font-weight: bold\">)</span> attacks <span style=\"color: #800000; text-decoration-color: #800000\">Legion </span><span style=\"color: #800000; text-decoration-color: #800000; font-weight: bold\">Commander(</span><span style=\"color: #800000; text-decoration-color: #800000\">OFFLANE</span><span style=\"color: #800000; text-decoration-color: #800000; font-weight: bold\">)</span> for <span style=\"color: #008080; text-decoration-color: #008080; font-weight: bold\">11</span> damage\n",
       "</pre>\n"
      ],
      "text/plain": [
       "\u001b[1;32mJuggernaut\u001b[0m\u001b[1;32m(\u001b[0m\u001b[32mCARRY\u001b[0m\u001b[1;32m)\u001b[0m attacks \u001b[31mLegion \u001b[0m\u001b[1;31mCommander\u001b[0m\u001b[1;31m(\u001b[0m\u001b[31mOFFLANE\u001b[0m\u001b[1;31m)\u001b[0m for \u001b[1;36m11\u001b[0m damage\n"
      ]
     },
     "metadata": {},
     "output_type": "display_data"
    },
    {
     "data": {
      "text/html": [
       "<pre style=\"white-space:pre;overflow-x:auto;line-height:normal;font-family:Menlo,'DejaVu Sans Mono',consolas,'Courier New',monospace\"><span style=\"color: #008000; text-decoration-color: #008000\">Ember </span><span style=\"color: #008000; text-decoration-color: #008000; font-weight: bold\">Spirit(</span><span style=\"color: #008000; text-decoration-color: #008000\">MID</span><span style=\"color: #008000; text-decoration-color: #008000; font-weight: bold\">)</span> attacks <span style=\"color: #800000; text-decoration-color: #800000\">Legion </span><span style=\"color: #800000; text-decoration-color: #800000; font-weight: bold\">Commander(</span><span style=\"color: #800000; text-decoration-color: #800000\">OFFLANE</span><span style=\"color: #800000; text-decoration-color: #800000; font-weight: bold\">)</span> for <span style=\"color: #008080; text-decoration-color: #008080; font-weight: bold\">9</span> damage\n",
       "</pre>\n"
      ],
      "text/plain": [
       "\u001b[32mEmber \u001b[0m\u001b[1;32mSpirit\u001b[0m\u001b[1;32m(\u001b[0m\u001b[32mMID\u001b[0m\u001b[1;32m)\u001b[0m attacks \u001b[31mLegion \u001b[0m\u001b[1;31mCommander\u001b[0m\u001b[1;31m(\u001b[0m\u001b[31mOFFLANE\u001b[0m\u001b[1;31m)\u001b[0m for \u001b[1;36m9\u001b[0m damage\n"
      ]
     },
     "metadata": {},
     "output_type": "display_data"
    },
    {
     "data": {
      "text/html": [
       "<pre style=\"white-space:pre;overflow-x:auto;line-height:normal;font-family:Menlo,'DejaVu Sans Mono',consolas,'Courier New',monospace\"><span style=\"color: #008000; text-decoration-color: #008000\">Legion </span><span style=\"color: #008000; text-decoration-color: #008000; font-weight: bold\">Commander(</span><span style=\"color: #008000; text-decoration-color: #008000\">OFFLANE</span><span style=\"color: #008000; text-decoration-color: #008000; font-weight: bold\">)</span> attacks <span style=\"color: #800000; text-decoration-color: #800000; font-weight: bold\">Enchantress(</span><span style=\"color: #800000; text-decoration-color: #800000\">HARD_SUPPORT</span><span style=\"color: #800000; text-decoration-color: #800000; font-weight: bold\">)</span> for <span style=\"color: #008080; text-decoration-color: #008080; font-weight: bold\">9</span> damage\n",
       "</pre>\n"
      ],
      "text/plain": [
       "\u001b[32mLegion \u001b[0m\u001b[1;32mCommander\u001b[0m\u001b[1;32m(\u001b[0m\u001b[32mOFFLANE\u001b[0m\u001b[1;32m)\u001b[0m attacks \u001b[1;31mEnchantress\u001b[0m\u001b[1;31m(\u001b[0m\u001b[31mHARD_SUPPORT\u001b[0m\u001b[1;31m)\u001b[0m for \u001b[1;36m9\u001b[0m damage\n"
      ]
     },
     "metadata": {},
     "output_type": "display_data"
    },
    {
     "data": {
      "text/html": [
       "<pre style=\"white-space:pre;overflow-x:auto;line-height:normal;font-family:Menlo,'DejaVu Sans Mono',consolas,'Courier New',monospace\"><span style=\"color: #008000; text-decoration-color: #008000\">Crystal </span><span style=\"color: #008000; text-decoration-color: #008000; font-weight: bold\">Maiden(</span><span style=\"color: #008000; text-decoration-color: #008000\">SUPPORT</span><span style=\"color: #008000; text-decoration-color: #008000; font-weight: bold\">)</span> attacks <span style=\"color: #800000; text-decoration-color: #800000; font-weight: bold\">Enchantress(</span><span style=\"color: #800000; text-decoration-color: #800000\">HARD_SUPPORT</span><span style=\"color: #800000; text-decoration-color: #800000; font-weight: bold\">)</span> for <span style=\"color: #008080; text-decoration-color: #008080; font-weight: bold\">9</span> damage\n",
       "</pre>\n"
      ],
      "text/plain": [
       "\u001b[32mCrystal \u001b[0m\u001b[1;32mMaiden\u001b[0m\u001b[1;32m(\u001b[0m\u001b[32mSUPPORT\u001b[0m\u001b[1;32m)\u001b[0m attacks \u001b[1;31mEnchantress\u001b[0m\u001b[1;31m(\u001b[0m\u001b[31mHARD_SUPPORT\u001b[0m\u001b[1;31m)\u001b[0m for \u001b[1;36m9\u001b[0m damage\n"
      ]
     },
     "metadata": {},
     "output_type": "display_data"
    },
    {
     "data": {
      "text/html": [
       "<pre style=\"white-space:pre;overflow-x:auto;line-height:normal;font-family:Menlo,'DejaVu Sans Mono',consolas,'Courier New',monospace\"><span style=\"color: #008000; text-decoration-color: #008000\">Naga </span><span style=\"color: #008000; text-decoration-color: #008000; font-weight: bold\">Siren(</span><span style=\"color: #008000; text-decoration-color: #008000\">HARD_SUPPORT</span><span style=\"color: #008000; text-decoration-color: #008000; font-weight: bold\">)</span> attacks <span style=\"color: #800000; text-decoration-color: #800000; font-weight: bold\">Bane(</span><span style=\"color: #800000; text-decoration-color: #800000\">SUPPORT</span><span style=\"color: #800000; text-decoration-color: #800000; font-weight: bold\">)</span> for <span style=\"color: #008080; text-decoration-color: #008080; font-weight: bold\">12</span> damage\n",
       "</pre>\n"
      ],
      "text/plain": [
       "\u001b[32mNaga \u001b[0m\u001b[1;32mSiren\u001b[0m\u001b[1;32m(\u001b[0m\u001b[32mHARD_SUPPORT\u001b[0m\u001b[1;32m)\u001b[0m attacks \u001b[1;31mBane\u001b[0m\u001b[1;31m(\u001b[0m\u001b[31mSUPPORT\u001b[0m\u001b[1;31m)\u001b[0m for \u001b[1;36m12\u001b[0m damage\n"
      ]
     },
     "metadata": {},
     "output_type": "display_data"
    },
    {
     "data": {
      "text/html": [
       "<pre style=\"white-space:pre;overflow-x:auto;line-height:normal;font-family:Menlo,'DejaVu Sans Mono',consolas,'Courier New',monospace\"><span style=\"color: #800000; text-decoration-color: #800000; font-weight: bold\">Medusa(</span><span style=\"color: #800000; text-decoration-color: #800000\">CARRY</span><span style=\"color: #800000; text-decoration-color: #800000; font-weight: bold\">)</span> attacks <span style=\"color: #008000; text-decoration-color: #008000\">Naga </span><span style=\"color: #008000; text-decoration-color: #008000; font-weight: bold\">Siren(</span><span style=\"color: #008000; text-decoration-color: #008000\">HARD_SUPPORT</span><span style=\"color: #008000; text-decoration-color: #008000; font-weight: bold\">)</span> for <span style=\"color: #008080; text-decoration-color: #008080; font-weight: bold\">10</span> damage\n",
       "</pre>\n"
      ],
      "text/plain": [
       "\u001b[1;31mMedusa\u001b[0m\u001b[1;31m(\u001b[0m\u001b[31mCARRY\u001b[0m\u001b[1;31m)\u001b[0m attacks \u001b[32mNaga \u001b[0m\u001b[1;32mSiren\u001b[0m\u001b[1;32m(\u001b[0m\u001b[32mHARD_SUPPORT\u001b[0m\u001b[1;32m)\u001b[0m for \u001b[1;36m10\u001b[0m damage\n"
      ]
     },
     "metadata": {},
     "output_type": "display_data"
    },
    {
     "data": {
      "text/html": [
       "<pre style=\"white-space:pre;overflow-x:auto;line-height:normal;font-family:Menlo,'DejaVu Sans Mono',consolas,'Courier New',monospace\"><span style=\"color: #800000; text-decoration-color: #800000\">Storm </span><span style=\"color: #800000; text-decoration-color: #800000; font-weight: bold\">Spirit(</span><span style=\"color: #800000; text-decoration-color: #800000\">MID</span><span style=\"color: #800000; text-decoration-color: #800000; font-weight: bold\">)</span> attacks <span style=\"color: #008000; text-decoration-color: #008000\">Legion </span><span style=\"color: #008000; text-decoration-color: #008000; font-weight: bold\">Commander(</span><span style=\"color: #008000; text-decoration-color: #008000\">OFFLANE</span><span style=\"color: #008000; text-decoration-color: #008000; font-weight: bold\">)</span> for <span style=\"color: #008080; text-decoration-color: #008080; font-weight: bold\">9</span> damage\n",
       "</pre>\n"
      ],
      "text/plain": [
       "\u001b[31mStorm \u001b[0m\u001b[1;31mSpirit\u001b[0m\u001b[1;31m(\u001b[0m\u001b[31mMID\u001b[0m\u001b[1;31m)\u001b[0m attacks \u001b[32mLegion \u001b[0m\u001b[1;32mCommander\u001b[0m\u001b[1;32m(\u001b[0m\u001b[32mOFFLANE\u001b[0m\u001b[1;32m)\u001b[0m for \u001b[1;36m9\u001b[0m damage\n"
      ]
     },
     "metadata": {},
     "output_type": "display_data"
    },
    {
     "data": {
      "text/html": [
       "<pre style=\"white-space:pre;overflow-x:auto;line-height:normal;font-family:Menlo,'DejaVu Sans Mono',consolas,'Courier New',monospace\"><span style=\"color: #800000; text-decoration-color: #800000\">Legion </span><span style=\"color: #800000; text-decoration-color: #800000; font-weight: bold\">Commander(</span><span style=\"color: #800000; text-decoration-color: #800000\">OFFLANE</span><span style=\"color: #800000; text-decoration-color: #800000; font-weight: bold\">)</span> attacks <span style=\"color: #008000; text-decoration-color: #008000\">Naga </span><span style=\"color: #008000; text-decoration-color: #008000; font-weight: bold\">Siren(</span><span style=\"color: #008000; text-decoration-color: #008000\">HARD_SUPPORT</span><span style=\"color: #008000; text-decoration-color: #008000; font-weight: bold\">)</span> for <span style=\"color: #008080; text-decoration-color: #008080; font-weight: bold\">11</span> damage\n",
       "</pre>\n"
      ],
      "text/plain": [
       "\u001b[31mLegion \u001b[0m\u001b[1;31mCommander\u001b[0m\u001b[1;31m(\u001b[0m\u001b[31mOFFLANE\u001b[0m\u001b[1;31m)\u001b[0m attacks \u001b[32mNaga \u001b[0m\u001b[1;32mSiren\u001b[0m\u001b[1;32m(\u001b[0m\u001b[32mHARD_SUPPORT\u001b[0m\u001b[1;32m)\u001b[0m for \u001b[1;36m11\u001b[0m damage\n"
      ]
     },
     "metadata": {},
     "output_type": "display_data"
    },
    {
     "data": {
      "text/html": [
       "<pre style=\"white-space:pre;overflow-x:auto;line-height:normal;font-family:Menlo,'DejaVu Sans Mono',consolas,'Courier New',monospace\"><span style=\"color: #800000; text-decoration-color: #800000; font-weight: bold\">Bane(</span><span style=\"color: #800000; text-decoration-color: #800000\">SUPPORT</span><span style=\"color: #800000; text-decoration-color: #800000; font-weight: bold\">)</span> attacks <span style=\"color: #008000; text-decoration-color: #008000; font-weight: bold\">Juggernaut(</span><span style=\"color: #008000; text-decoration-color: #008000\">CARRY</span><span style=\"color: #008000; text-decoration-color: #008000; font-weight: bold\">)</span> for <span style=\"color: #008080; text-decoration-color: #008080; font-weight: bold\">10</span> damage\n",
       "</pre>\n"
      ],
      "text/plain": [
       "\u001b[1;31mBane\u001b[0m\u001b[1;31m(\u001b[0m\u001b[31mSUPPORT\u001b[0m\u001b[1;31m)\u001b[0m attacks \u001b[1;32mJuggernaut\u001b[0m\u001b[1;32m(\u001b[0m\u001b[32mCARRY\u001b[0m\u001b[1;32m)\u001b[0m for \u001b[1;36m10\u001b[0m damage\n"
      ]
     },
     "metadata": {},
     "output_type": "display_data"
    },
    {
     "data": {
      "text/html": [
       "<pre style=\"white-space:pre;overflow-x:auto;line-height:normal;font-family:Menlo,'DejaVu Sans Mono',consolas,'Courier New',monospace\"><span style=\"color: #800000; text-decoration-color: #800000; font-weight: bold\">Enchantress(</span><span style=\"color: #800000; text-decoration-color: #800000\">HARD_SUPPORT</span><span style=\"color: #800000; text-decoration-color: #800000; font-weight: bold\">)</span> attacks <span style=\"color: #008000; text-decoration-color: #008000; font-weight: bold\">Juggernaut(</span><span style=\"color: #008000; text-decoration-color: #008000\">CARRY</span><span style=\"color: #008000; text-decoration-color: #008000; font-weight: bold\">)</span> for <span style=\"color: #008080; text-decoration-color: #008080; font-weight: bold\">9</span> damage\n",
       "</pre>\n"
      ],
      "text/plain": [
       "\u001b[1;31mEnchantress\u001b[0m\u001b[1;31m(\u001b[0m\u001b[31mHARD_SUPPORT\u001b[0m\u001b[1;31m)\u001b[0m attacks \u001b[1;32mJuggernaut\u001b[0m\u001b[1;32m(\u001b[0m\u001b[32mCARRY\u001b[0m\u001b[1;32m)\u001b[0m for \u001b[1;36m9\u001b[0m damage\n"
      ]
     },
     "metadata": {},
     "output_type": "display_data"
    },
    {
     "data": {
      "text/html": [
       "<pre style=\"white-space:pre;overflow-x:auto;line-height:normal;font-family:Menlo,'DejaVu Sans Mono',consolas,'Courier New',monospace\">\n",
       "<span style=\"color: #808000; text-decoration-color: #808000\">Файт </span><span style=\"color: #808000; text-decoration-color: #808000; font-weight: bold\">7</span><span style=\"color: #808000; text-decoration-color: #808000\">:</span>\n",
       "</pre>\n"
      ],
      "text/plain": [
       "\n",
       "\u001b[33mФайт \u001b[0m\u001b[1;33m7\u001b[0m\u001b[33m:\u001b[0m\n"
      ]
     },
     "metadata": {},
     "output_type": "display_data"
    },
    {
     "data": {
      "text/html": [
       "<pre style=\"white-space:pre;overflow-x:auto;line-height:normal;font-family:Menlo,'DejaVu Sans Mono',consolas,'Courier New',monospace\"><span style=\"color: #008000; text-decoration-color: #008000; font-weight: bold\">Juggernaut(</span><span style=\"color: #008000; text-decoration-color: #008000\">CARRY</span><span style=\"color: #008000; text-decoration-color: #008000; font-weight: bold\">)</span> attacks <span style=\"color: #800000; text-decoration-color: #800000; font-weight: bold\">Bane(</span><span style=\"color: #800000; text-decoration-color: #800000\">SUPPORT</span><span style=\"color: #800000; text-decoration-color: #800000; font-weight: bold\">)</span> for <span style=\"color: #008080; text-decoration-color: #008080; font-weight: bold\">9</span> damage\n",
       "</pre>\n"
      ],
      "text/plain": [
       "\u001b[1;32mJuggernaut\u001b[0m\u001b[1;32m(\u001b[0m\u001b[32mCARRY\u001b[0m\u001b[1;32m)\u001b[0m attacks \u001b[1;31mBane\u001b[0m\u001b[1;31m(\u001b[0m\u001b[31mSUPPORT\u001b[0m\u001b[1;31m)\u001b[0m for \u001b[1;36m9\u001b[0m damage\n"
      ]
     },
     "metadata": {},
     "output_type": "display_data"
    },
    {
     "data": {
      "text/html": [
       "<pre style=\"white-space:pre;overflow-x:auto;line-height:normal;font-family:Menlo,'DejaVu Sans Mono',consolas,'Courier New',monospace\"><span style=\"color: #008000; text-decoration-color: #008000\">Ember </span><span style=\"color: #008000; text-decoration-color: #008000; font-weight: bold\">Spirit(</span><span style=\"color: #008000; text-decoration-color: #008000\">MID</span><span style=\"color: #008000; text-decoration-color: #008000; font-weight: bold\">)</span> attacks <span style=\"color: #800000; text-decoration-color: #800000; font-weight: bold\">Bane(</span><span style=\"color: #800000; text-decoration-color: #800000\">SUPPORT</span><span style=\"color: #800000; text-decoration-color: #800000; font-weight: bold\">)</span> for <span style=\"color: #008080; text-decoration-color: #008080; font-weight: bold\">8</span> damage\n",
       "</pre>\n"
      ],
      "text/plain": [
       "\u001b[32mEmber \u001b[0m\u001b[1;32mSpirit\u001b[0m\u001b[1;32m(\u001b[0m\u001b[32mMID\u001b[0m\u001b[1;32m)\u001b[0m attacks \u001b[1;31mBane\u001b[0m\u001b[1;31m(\u001b[0m\u001b[31mSUPPORT\u001b[0m\u001b[1;31m)\u001b[0m for \u001b[1;36m8\u001b[0m damage\n"
      ]
     },
     "metadata": {},
     "output_type": "display_data"
    },
    {
     "data": {
      "text/html": [
       "<pre style=\"white-space:pre;overflow-x:auto;line-height:normal;font-family:Menlo,'DejaVu Sans Mono',consolas,'Courier New',monospace\"><span style=\"color: #008000; text-decoration-color: #008000\">Legion </span><span style=\"color: #008000; text-decoration-color: #008000; font-weight: bold\">Commander(</span><span style=\"color: #008000; text-decoration-color: #008000\">OFFLANE</span><span style=\"color: #008000; text-decoration-color: #008000; font-weight: bold\">)</span> attacks <span style=\"color: #800000; text-decoration-color: #800000; font-weight: bold\">Medusa(</span><span style=\"color: #800000; text-decoration-color: #800000\">CARRY</span><span style=\"color: #800000; text-decoration-color: #800000; font-weight: bold\">)</span> for <span style=\"color: #008080; text-decoration-color: #008080; font-weight: bold\">11</span> damage\n",
       "</pre>\n"
      ],
      "text/plain": [
       "\u001b[32mLegion \u001b[0m\u001b[1;32mCommander\u001b[0m\u001b[1;32m(\u001b[0m\u001b[32mOFFLANE\u001b[0m\u001b[1;32m)\u001b[0m attacks \u001b[1;31mMedusa\u001b[0m\u001b[1;31m(\u001b[0m\u001b[31mCARRY\u001b[0m\u001b[1;31m)\u001b[0m for \u001b[1;36m11\u001b[0m damage\n"
      ]
     },
     "metadata": {},
     "output_type": "display_data"
    },
    {
     "data": {
      "text/html": [
       "<pre style=\"white-space:pre;overflow-x:auto;line-height:normal;font-family:Menlo,'DejaVu Sans Mono',consolas,'Courier New',monospace\"><span style=\"color: #008000; text-decoration-color: #008000\">Crystal </span><span style=\"color: #008000; text-decoration-color: #008000; font-weight: bold\">Maiden(</span><span style=\"color: #008000; text-decoration-color: #008000\">SUPPORT</span><span style=\"color: #008000; text-decoration-color: #008000; font-weight: bold\">)</span> attacks <span style=\"color: #800000; text-decoration-color: #800000; font-weight: bold\">Enchantress(</span><span style=\"color: #800000; text-decoration-color: #800000\">HARD_SUPPORT</span><span style=\"color: #800000; text-decoration-color: #800000; font-weight: bold\">)</span> for <span style=\"color: #008080; text-decoration-color: #008080; font-weight: bold\">10</span> damage\n",
       "</pre>\n"
      ],
      "text/plain": [
       "\u001b[32mCrystal \u001b[0m\u001b[1;32mMaiden\u001b[0m\u001b[1;32m(\u001b[0m\u001b[32mSUPPORT\u001b[0m\u001b[1;32m)\u001b[0m attacks \u001b[1;31mEnchantress\u001b[0m\u001b[1;31m(\u001b[0m\u001b[31mHARD_SUPPORT\u001b[0m\u001b[1;31m)\u001b[0m for \u001b[1;36m10\u001b[0m damage\n"
      ]
     },
     "metadata": {},
     "output_type": "display_data"
    },
    {
     "data": {
      "text/html": [
       "<pre style=\"white-space:pre;overflow-x:auto;line-height:normal;font-family:Menlo,'DejaVu Sans Mono',consolas,'Courier New',monospace\"><span style=\"color: #008000; text-decoration-color: #008000\">Naga </span><span style=\"color: #008000; text-decoration-color: #008000; font-weight: bold\">Siren(</span><span style=\"color: #008000; text-decoration-color: #008000\">HARD_SUPPORT</span><span style=\"color: #008000; text-decoration-color: #008000; font-weight: bold\">)</span> attacks <span style=\"color: #800000; text-decoration-color: #800000; font-weight: bold\">Medusa(</span><span style=\"color: #800000; text-decoration-color: #800000\">CARRY</span><span style=\"color: #800000; text-decoration-color: #800000; font-weight: bold\">)</span> for <span style=\"color: #008080; text-decoration-color: #008080; font-weight: bold\">10</span> damage\n",
       "</pre>\n"
      ],
      "text/plain": [
       "\u001b[32mNaga \u001b[0m\u001b[1;32mSiren\u001b[0m\u001b[1;32m(\u001b[0m\u001b[32mHARD_SUPPORT\u001b[0m\u001b[1;32m)\u001b[0m attacks \u001b[1;31mMedusa\u001b[0m\u001b[1;31m(\u001b[0m\u001b[31mCARRY\u001b[0m\u001b[1;31m)\u001b[0m for \u001b[1;36m10\u001b[0m damage\n"
      ]
     },
     "metadata": {},
     "output_type": "display_data"
    },
    {
     "data": {
      "text/html": [
       "<pre style=\"white-space:pre;overflow-x:auto;line-height:normal;font-family:Menlo,'DejaVu Sans Mono',consolas,'Courier New',monospace\"><span style=\"color: #800000; text-decoration-color: #800000; font-weight: bold\">Medusa(</span><span style=\"color: #800000; text-decoration-color: #800000\">CARRY</span><span style=\"color: #800000; text-decoration-color: #800000; font-weight: bold\">)</span> attacks <span style=\"color: #008000; text-decoration-color: #008000\">Crystal </span><span style=\"color: #008000; text-decoration-color: #008000; font-weight: bold\">Maiden(</span><span style=\"color: #008000; text-decoration-color: #008000\">SUPPORT</span><span style=\"color: #008000; text-decoration-color: #008000; font-weight: bold\">)</span> for <span style=\"color: #008080; text-decoration-color: #008080; font-weight: bold\">8</span> damage\n",
       "</pre>\n"
      ],
      "text/plain": [
       "\u001b[1;31mMedusa\u001b[0m\u001b[1;31m(\u001b[0m\u001b[31mCARRY\u001b[0m\u001b[1;31m)\u001b[0m attacks \u001b[32mCrystal \u001b[0m\u001b[1;32mMaiden\u001b[0m\u001b[1;32m(\u001b[0m\u001b[32mSUPPORT\u001b[0m\u001b[1;32m)\u001b[0m for \u001b[1;36m8\u001b[0m damage\n"
      ]
     },
     "metadata": {},
     "output_type": "display_data"
    },
    {
     "data": {
      "text/html": [
       "<pre style=\"white-space:pre;overflow-x:auto;line-height:normal;font-family:Menlo,'DejaVu Sans Mono',consolas,'Courier New',monospace\"><span style=\"color: #800000; text-decoration-color: #800000\">Storm </span><span style=\"color: #800000; text-decoration-color: #800000; font-weight: bold\">Spirit(</span><span style=\"color: #800000; text-decoration-color: #800000\">MID</span><span style=\"color: #800000; text-decoration-color: #800000; font-weight: bold\">)</span> attacks <span style=\"color: #008000; text-decoration-color: #008000; font-weight: bold\">Juggernaut(</span><span style=\"color: #008000; text-decoration-color: #008000\">CARRY</span><span style=\"color: #008000; text-decoration-color: #008000; font-weight: bold\">)</span> for <span style=\"color: #008080; text-decoration-color: #008080; font-weight: bold\">11</span> damage\n",
       "</pre>\n"
      ],
      "text/plain": [
       "\u001b[31mStorm \u001b[0m\u001b[1;31mSpirit\u001b[0m\u001b[1;31m(\u001b[0m\u001b[31mMID\u001b[0m\u001b[1;31m)\u001b[0m attacks \u001b[1;32mJuggernaut\u001b[0m\u001b[1;32m(\u001b[0m\u001b[32mCARRY\u001b[0m\u001b[1;32m)\u001b[0m for \u001b[1;36m11\u001b[0m damage\n"
      ]
     },
     "metadata": {},
     "output_type": "display_data"
    },
    {
     "data": {
      "text/html": [
       "<pre style=\"white-space:pre;overflow-x:auto;line-height:normal;font-family:Menlo,'DejaVu Sans Mono',consolas,'Courier New',monospace\"><span style=\"color: #800000; text-decoration-color: #800000\">Legion </span><span style=\"color: #800000; text-decoration-color: #800000; font-weight: bold\">Commander(</span><span style=\"color: #800000; text-decoration-color: #800000\">OFFLANE</span><span style=\"color: #800000; text-decoration-color: #800000; font-weight: bold\">)</span> attacks <span style=\"color: #008000; text-decoration-color: #008000\">Crystal </span><span style=\"color: #008000; text-decoration-color: #008000; font-weight: bold\">Maiden(</span><span style=\"color: #008000; text-decoration-color: #008000\">SUPPORT</span><span style=\"color: #008000; text-decoration-color: #008000; font-weight: bold\">)</span> for <span style=\"color: #008080; text-decoration-color: #008080; font-weight: bold\">12</span> damage\n",
       "</pre>\n"
      ],
      "text/plain": [
       "\u001b[31mLegion \u001b[0m\u001b[1;31mCommander\u001b[0m\u001b[1;31m(\u001b[0m\u001b[31mOFFLANE\u001b[0m\u001b[1;31m)\u001b[0m attacks \u001b[32mCrystal \u001b[0m\u001b[1;32mMaiden\u001b[0m\u001b[1;32m(\u001b[0m\u001b[32mSUPPORT\u001b[0m\u001b[1;32m)\u001b[0m for \u001b[1;36m12\u001b[0m damage\n"
      ]
     },
     "metadata": {},
     "output_type": "display_data"
    },
    {
     "data": {
      "text/html": [
       "<pre style=\"white-space:pre;overflow-x:auto;line-height:normal;font-family:Menlo,'DejaVu Sans Mono',consolas,'Courier New',monospace\"><span style=\"color: #800000; text-decoration-color: #800000; font-weight: bold\">Bane(</span><span style=\"color: #800000; text-decoration-color: #800000\">SUPPORT</span><span style=\"color: #800000; text-decoration-color: #800000; font-weight: bold\">)</span> attacks <span style=\"color: #008000; text-decoration-color: #008000\">Naga </span><span style=\"color: #008000; text-decoration-color: #008000; font-weight: bold\">Siren(</span><span style=\"color: #008000; text-decoration-color: #008000\">HARD_SUPPORT</span><span style=\"color: #008000; text-decoration-color: #008000; font-weight: bold\">)</span> for <span style=\"color: #008080; text-decoration-color: #008080; font-weight: bold\">9</span> damage\n",
       "</pre>\n"
      ],
      "text/plain": [
       "\u001b[1;31mBane\u001b[0m\u001b[1;31m(\u001b[0m\u001b[31mSUPPORT\u001b[0m\u001b[1;31m)\u001b[0m attacks \u001b[32mNaga \u001b[0m\u001b[1;32mSiren\u001b[0m\u001b[1;32m(\u001b[0m\u001b[32mHARD_SUPPORT\u001b[0m\u001b[1;32m)\u001b[0m for \u001b[1;36m9\u001b[0m damage\n"
      ]
     },
     "metadata": {},
     "output_type": "display_data"
    },
    {
     "data": {
      "text/html": [
       "<pre style=\"white-space:pre;overflow-x:auto;line-height:normal;font-family:Menlo,'DejaVu Sans Mono',consolas,'Courier New',monospace\"><span style=\"color: #800000; text-decoration-color: #800000; font-weight: bold\">Enchantress(</span><span style=\"color: #800000; text-decoration-color: #800000\">HARD_SUPPORT</span><span style=\"color: #800000; text-decoration-color: #800000; font-weight: bold\">)</span> attacks <span style=\"color: #008000; text-decoration-color: #008000\">Legion </span><span style=\"color: #008000; text-decoration-color: #008000; font-weight: bold\">Commander(</span><span style=\"color: #008000; text-decoration-color: #008000\">OFFLANE</span><span style=\"color: #008000; text-decoration-color: #008000; font-weight: bold\">)</span> for <span style=\"color: #008080; text-decoration-color: #008080; font-weight: bold\">8</span> damage\n",
       "</pre>\n"
      ],
      "text/plain": [
       "\u001b[1;31mEnchantress\u001b[0m\u001b[1;31m(\u001b[0m\u001b[31mHARD_SUPPORT\u001b[0m\u001b[1;31m)\u001b[0m attacks \u001b[32mLegion \u001b[0m\u001b[1;32mCommander\u001b[0m\u001b[1;32m(\u001b[0m\u001b[32mOFFLANE\u001b[0m\u001b[1;32m)\u001b[0m for \u001b[1;36m8\u001b[0m damage\n"
      ]
     },
     "metadata": {},
     "output_type": "display_data"
    },
    {
     "data": {
      "text/html": [
       "<pre style=\"white-space:pre;overflow-x:auto;line-height:normal;font-family:Menlo,'DejaVu Sans Mono',consolas,'Courier New',monospace\">\n",
       "<span style=\"color: #808000; text-decoration-color: #808000\">Файт </span><span style=\"color: #808000; text-decoration-color: #808000; font-weight: bold\">8</span><span style=\"color: #808000; text-decoration-color: #808000\">:</span>\n",
       "</pre>\n"
      ],
      "text/plain": [
       "\n",
       "\u001b[33mФайт \u001b[0m\u001b[1;33m8\u001b[0m\u001b[33m:\u001b[0m\n"
      ]
     },
     "metadata": {},
     "output_type": "display_data"
    },
    {
     "data": {
      "text/html": [
       "<pre style=\"white-space:pre;overflow-x:auto;line-height:normal;font-family:Menlo,'DejaVu Sans Mono',consolas,'Courier New',monospace\"><span style=\"color: #008000; text-decoration-color: #008000; font-weight: bold\">Juggernaut(</span><span style=\"color: #008000; text-decoration-color: #008000\">CARRY</span><span style=\"color: #008000; text-decoration-color: #008000; font-weight: bold\">)</span> attacks <span style=\"color: #800000; text-decoration-color: #800000\">Storm </span><span style=\"color: #800000; text-decoration-color: #800000; font-weight: bold\">Spirit(</span><span style=\"color: #800000; text-decoration-color: #800000\">MID</span><span style=\"color: #800000; text-decoration-color: #800000; font-weight: bold\">)</span> for <span style=\"color: #008080; text-decoration-color: #008080; font-weight: bold\">11</span> damage\n",
       "</pre>\n"
      ],
      "text/plain": [
       "\u001b[1;32mJuggernaut\u001b[0m\u001b[1;32m(\u001b[0m\u001b[32mCARRY\u001b[0m\u001b[1;32m)\u001b[0m attacks \u001b[31mStorm \u001b[0m\u001b[1;31mSpirit\u001b[0m\u001b[1;31m(\u001b[0m\u001b[31mMID\u001b[0m\u001b[1;31m)\u001b[0m for \u001b[1;36m11\u001b[0m damage\n"
      ]
     },
     "metadata": {},
     "output_type": "display_data"
    },
    {
     "data": {
      "text/html": [
       "<pre style=\"white-space:pre;overflow-x:auto;line-height:normal;font-family:Menlo,'DejaVu Sans Mono',consolas,'Courier New',monospace\"><span style=\"color: #008000; text-decoration-color: #008000\">Ember </span><span style=\"color: #008000; text-decoration-color: #008000; font-weight: bold\">Spirit(</span><span style=\"color: #008000; text-decoration-color: #008000\">MID</span><span style=\"color: #008000; text-decoration-color: #008000; font-weight: bold\">)</span> attacks <span style=\"color: #800000; text-decoration-color: #800000; font-weight: bold\">Medusa(</span><span style=\"color: #800000; text-decoration-color: #800000\">CARRY</span><span style=\"color: #800000; text-decoration-color: #800000; font-weight: bold\">)</span> for <span style=\"color: #008080; text-decoration-color: #008080; font-weight: bold\">11</span> damage\n",
       "</pre>\n"
      ],
      "text/plain": [
       "\u001b[32mEmber \u001b[0m\u001b[1;32mSpirit\u001b[0m\u001b[1;32m(\u001b[0m\u001b[32mMID\u001b[0m\u001b[1;32m)\u001b[0m attacks \u001b[1;31mMedusa\u001b[0m\u001b[1;31m(\u001b[0m\u001b[31mCARRY\u001b[0m\u001b[1;31m)\u001b[0m for \u001b[1;36m11\u001b[0m damage\n"
      ]
     },
     "metadata": {},
     "output_type": "display_data"
    },
    {
     "data": {
      "text/html": [
       "<pre style=\"white-space:pre;overflow-x:auto;line-height:normal;font-family:Menlo,'DejaVu Sans Mono',consolas,'Courier New',monospace\"><span style=\"color: #008000; text-decoration-color: #008000\">Legion </span><span style=\"color: #008000; text-decoration-color: #008000; font-weight: bold\">Commander(</span><span style=\"color: #008000; text-decoration-color: #008000\">OFFLANE</span><span style=\"color: #008000; text-decoration-color: #008000; font-weight: bold\">)</span> attacks <span style=\"color: #800000; text-decoration-color: #800000; font-weight: bold\">Enchantress(</span><span style=\"color: #800000; text-decoration-color: #800000\">HARD_SUPPORT</span><span style=\"color: #800000; text-decoration-color: #800000; font-weight: bold\">)</span> for <span style=\"color: #008080; text-decoration-color: #008080; font-weight: bold\">8</span> damage\n",
       "</pre>\n"
      ],
      "text/plain": [
       "\u001b[32mLegion \u001b[0m\u001b[1;32mCommander\u001b[0m\u001b[1;32m(\u001b[0m\u001b[32mOFFLANE\u001b[0m\u001b[1;32m)\u001b[0m attacks \u001b[1;31mEnchantress\u001b[0m\u001b[1;31m(\u001b[0m\u001b[31mHARD_SUPPORT\u001b[0m\u001b[1;31m)\u001b[0m for \u001b[1;36m8\u001b[0m damage\n"
      ]
     },
     "metadata": {},
     "output_type": "display_data"
    },
    {
     "data": {
      "text/html": [
       "<pre style=\"white-space:pre;overflow-x:auto;line-height:normal;font-family:Menlo,'DejaVu Sans Mono',consolas,'Courier New',monospace\"><span style=\"color: #008000; text-decoration-color: #008000\">Crystal </span><span style=\"color: #008000; text-decoration-color: #008000; font-weight: bold\">Maiden(</span><span style=\"color: #008000; text-decoration-color: #008000\">SUPPORT</span><span style=\"color: #008000; text-decoration-color: #008000; font-weight: bold\">)</span> attacks <span style=\"color: #800000; text-decoration-color: #800000; font-weight: bold\">Enchantress(</span><span style=\"color: #800000; text-decoration-color: #800000\">HARD_SUPPORT</span><span style=\"color: #800000; text-decoration-color: #800000; font-weight: bold\">)</span> for <span style=\"color: #008080; text-decoration-color: #008080; font-weight: bold\">9</span> damage\n",
       "</pre>\n"
      ],
      "text/plain": [
       "\u001b[32mCrystal \u001b[0m\u001b[1;32mMaiden\u001b[0m\u001b[1;32m(\u001b[0m\u001b[32mSUPPORT\u001b[0m\u001b[1;32m)\u001b[0m attacks \u001b[1;31mEnchantress\u001b[0m\u001b[1;31m(\u001b[0m\u001b[31mHARD_SUPPORT\u001b[0m\u001b[1;31m)\u001b[0m for \u001b[1;36m9\u001b[0m damage\n"
      ]
     },
     "metadata": {},
     "output_type": "display_data"
    },
    {
     "data": {
      "text/html": [
       "<pre style=\"white-space:pre;overflow-x:auto;line-height:normal;font-family:Menlo,'DejaVu Sans Mono',consolas,'Courier New',monospace\"><span style=\"color: #008000; text-decoration-color: #008000\">Naga </span><span style=\"color: #008000; text-decoration-color: #008000; font-weight: bold\">Siren(</span><span style=\"color: #008000; text-decoration-color: #008000\">HARD_SUPPORT</span><span style=\"color: #008000; text-decoration-color: #008000; font-weight: bold\">)</span> attacks <span style=\"color: #800000; text-decoration-color: #800000; font-weight: bold\">Bane(</span><span style=\"color: #800000; text-decoration-color: #800000\">SUPPORT</span><span style=\"color: #800000; text-decoration-color: #800000; font-weight: bold\">)</span> for <span style=\"color: #008080; text-decoration-color: #008080; font-weight: bold\">9</span> damage\n",
       "</pre>\n"
      ],
      "text/plain": [
       "\u001b[32mNaga \u001b[0m\u001b[1;32mSiren\u001b[0m\u001b[1;32m(\u001b[0m\u001b[32mHARD_SUPPORT\u001b[0m\u001b[1;32m)\u001b[0m attacks \u001b[1;31mBane\u001b[0m\u001b[1;31m(\u001b[0m\u001b[31mSUPPORT\u001b[0m\u001b[1;31m)\u001b[0m for \u001b[1;36m9\u001b[0m damage\n"
      ]
     },
     "metadata": {},
     "output_type": "display_data"
    },
    {
     "data": {
      "text/html": [
       "<pre style=\"white-space:pre;overflow-x:auto;line-height:normal;font-family:Menlo,'DejaVu Sans Mono',consolas,'Courier New',monospace\"><span style=\"color: #800000; text-decoration-color: #800000; font-weight: bold\">Medusa(</span><span style=\"color: #800000; text-decoration-color: #800000\">CARRY</span><span style=\"color: #800000; text-decoration-color: #800000; font-weight: bold\">)</span> attacks <span style=\"color: #008000; text-decoration-color: #008000; font-weight: bold\">Juggernaut(</span><span style=\"color: #008000; text-decoration-color: #008000\">CARRY</span><span style=\"color: #008000; text-decoration-color: #008000; font-weight: bold\">)</span> for <span style=\"color: #008080; text-decoration-color: #008080; font-weight: bold\">9</span> damage\n",
       "</pre>\n"
      ],
      "text/plain": [
       "\u001b[1;31mMedusa\u001b[0m\u001b[1;31m(\u001b[0m\u001b[31mCARRY\u001b[0m\u001b[1;31m)\u001b[0m attacks \u001b[1;32mJuggernaut\u001b[0m\u001b[1;32m(\u001b[0m\u001b[32mCARRY\u001b[0m\u001b[1;32m)\u001b[0m for \u001b[1;36m9\u001b[0m damage\n"
      ]
     },
     "metadata": {},
     "output_type": "display_data"
    },
    {
     "data": {
      "text/html": [
       "<pre style=\"white-space:pre;overflow-x:auto;line-height:normal;font-family:Menlo,'DejaVu Sans Mono',consolas,'Courier New',monospace\"><span style=\"color: #800000; text-decoration-color: #800000\">Storm </span><span style=\"color: #800000; text-decoration-color: #800000; font-weight: bold\">Spirit(</span><span style=\"color: #800000; text-decoration-color: #800000\">MID</span><span style=\"color: #800000; text-decoration-color: #800000; font-weight: bold\">)</span> attacks <span style=\"color: #008000; text-decoration-color: #008000\">Legion </span><span style=\"color: #008000; text-decoration-color: #008000; font-weight: bold\">Commander(</span><span style=\"color: #008000; text-decoration-color: #008000\">OFFLANE</span><span style=\"color: #008000; text-decoration-color: #008000; font-weight: bold\">)</span> for <span style=\"color: #008080; text-decoration-color: #008080; font-weight: bold\">9</span> damage\n",
       "</pre>\n"
      ],
      "text/plain": [
       "\u001b[31mStorm \u001b[0m\u001b[1;31mSpirit\u001b[0m\u001b[1;31m(\u001b[0m\u001b[31mMID\u001b[0m\u001b[1;31m)\u001b[0m attacks \u001b[32mLegion \u001b[0m\u001b[1;32mCommander\u001b[0m\u001b[1;32m(\u001b[0m\u001b[32mOFFLANE\u001b[0m\u001b[1;32m)\u001b[0m for \u001b[1;36m9\u001b[0m damage\n"
      ]
     },
     "metadata": {},
     "output_type": "display_data"
    },
    {
     "data": {
      "text/html": [
       "<pre style=\"white-space:pre;overflow-x:auto;line-height:normal;font-family:Menlo,'DejaVu Sans Mono',consolas,'Courier New',monospace\"><span style=\"color: #800000; text-decoration-color: #800000\">Legion </span><span style=\"color: #800000; text-decoration-color: #800000; font-weight: bold\">Commander(</span><span style=\"color: #800000; text-decoration-color: #800000\">OFFLANE</span><span style=\"color: #800000; text-decoration-color: #800000; font-weight: bold\">)</span> attacks <span style=\"color: #008000; text-decoration-color: #008000\">Crystal </span><span style=\"color: #008000; text-decoration-color: #008000; font-weight: bold\">Maiden(</span><span style=\"color: #008000; text-decoration-color: #008000\">SUPPORT</span><span style=\"color: #008000; text-decoration-color: #008000; font-weight: bold\">)</span> for <span style=\"color: #008080; text-decoration-color: #008080; font-weight: bold\">9</span> damage\n",
       "</pre>\n"
      ],
      "text/plain": [
       "\u001b[31mLegion \u001b[0m\u001b[1;31mCommander\u001b[0m\u001b[1;31m(\u001b[0m\u001b[31mOFFLANE\u001b[0m\u001b[1;31m)\u001b[0m attacks \u001b[32mCrystal \u001b[0m\u001b[1;32mMaiden\u001b[0m\u001b[1;32m(\u001b[0m\u001b[32mSUPPORT\u001b[0m\u001b[1;32m)\u001b[0m for \u001b[1;36m9\u001b[0m damage\n"
      ]
     },
     "metadata": {},
     "output_type": "display_data"
    },
    {
     "data": {
      "text/html": [
       "<pre style=\"white-space:pre;overflow-x:auto;line-height:normal;font-family:Menlo,'DejaVu Sans Mono',consolas,'Courier New',monospace\"><span style=\"color: #800000; text-decoration-color: #800000; font-weight: bold\">Bane(</span><span style=\"color: #800000; text-decoration-color: #800000\">SUPPORT</span><span style=\"color: #800000; text-decoration-color: #800000; font-weight: bold\">)</span> attacks <span style=\"color: #008000; text-decoration-color: #008000\">Naga </span><span style=\"color: #008000; text-decoration-color: #008000; font-weight: bold\">Siren(</span><span style=\"color: #008000; text-decoration-color: #008000\">HARD_SUPPORT</span><span style=\"color: #008000; text-decoration-color: #008000; font-weight: bold\">)</span> for <span style=\"color: #008080; text-decoration-color: #008080; font-weight: bold\">11</span> damage\n",
       "</pre>\n"
      ],
      "text/plain": [
       "\u001b[1;31mBane\u001b[0m\u001b[1;31m(\u001b[0m\u001b[31mSUPPORT\u001b[0m\u001b[1;31m)\u001b[0m attacks \u001b[32mNaga \u001b[0m\u001b[1;32mSiren\u001b[0m\u001b[1;32m(\u001b[0m\u001b[32mHARD_SUPPORT\u001b[0m\u001b[1;32m)\u001b[0m for \u001b[1;36m11\u001b[0m damage\n"
      ]
     },
     "metadata": {},
     "output_type": "display_data"
    },
    {
     "data": {
      "text/html": [
       "<pre style=\"white-space:pre;overflow-x:auto;line-height:normal;font-family:Menlo,'DejaVu Sans Mono',consolas,'Courier New',monospace\"><span style=\"color: #800000; text-decoration-color: #800000; font-weight: bold\">Enchantress(</span><span style=\"color: #800000; text-decoration-color: #800000\">HARD_SUPPORT</span><span style=\"color: #800000; text-decoration-color: #800000; font-weight: bold\">)</span> attacks <span style=\"color: #008000; text-decoration-color: #008000\">Naga </span><span style=\"color: #008000; text-decoration-color: #008000; font-weight: bold\">Siren(</span><span style=\"color: #008000; text-decoration-color: #008000\">HARD_SUPPORT</span><span style=\"color: #008000; text-decoration-color: #008000; font-weight: bold\">)</span> for <span style=\"color: #008080; text-decoration-color: #008080; font-weight: bold\">10</span> damage\n",
       "</pre>\n"
      ],
      "text/plain": [
       "\u001b[1;31mEnchantress\u001b[0m\u001b[1;31m(\u001b[0m\u001b[31mHARD_SUPPORT\u001b[0m\u001b[1;31m)\u001b[0m attacks \u001b[32mNaga \u001b[0m\u001b[1;32mSiren\u001b[0m\u001b[1;32m(\u001b[0m\u001b[32mHARD_SUPPORT\u001b[0m\u001b[1;32m)\u001b[0m for \u001b[1;36m10\u001b[0m damage\n"
      ]
     },
     "metadata": {},
     "output_type": "display_data"
    },
    {
     "data": {
      "text/html": [
       "<pre style=\"white-space:pre;overflow-x:auto;line-height:normal;font-family:Menlo,'DejaVu Sans Mono',consolas,'Courier New',monospace\">\n",
       "<span style=\"color: #808000; text-decoration-color: #808000\">Файт </span><span style=\"color: #808000; text-decoration-color: #808000; font-weight: bold\">9</span><span style=\"color: #808000; text-decoration-color: #808000\">:</span>\n",
       "</pre>\n"
      ],
      "text/plain": [
       "\n",
       "\u001b[33mФайт \u001b[0m\u001b[1;33m9\u001b[0m\u001b[33m:\u001b[0m\n"
      ]
     },
     "metadata": {},
     "output_type": "display_data"
    },
    {
     "data": {
      "text/html": [
       "<pre style=\"white-space:pre;overflow-x:auto;line-height:normal;font-family:Menlo,'DejaVu Sans Mono',consolas,'Courier New',monospace\"><span style=\"color: #008000; text-decoration-color: #008000; font-weight: bold\">Juggernaut(</span><span style=\"color: #008000; text-decoration-color: #008000\">CARRY</span><span style=\"color: #008000; text-decoration-color: #008000; font-weight: bold\">)</span> attacks <span style=\"color: #800000; text-decoration-color: #800000; font-weight: bold\">Enchantress(</span><span style=\"color: #800000; text-decoration-color: #800000\">HARD_SUPPORT</span><span style=\"color: #800000; text-decoration-color: #800000; font-weight: bold\">)</span> for <span style=\"color: #008080; text-decoration-color: #008080; font-weight: bold\">10</span> damage\n",
       "</pre>\n"
      ],
      "text/plain": [
       "\u001b[1;32mJuggernaut\u001b[0m\u001b[1;32m(\u001b[0m\u001b[32mCARRY\u001b[0m\u001b[1;32m)\u001b[0m attacks \u001b[1;31mEnchantress\u001b[0m\u001b[1;31m(\u001b[0m\u001b[31mHARD_SUPPORT\u001b[0m\u001b[1;31m)\u001b[0m for \u001b[1;36m10\u001b[0m damage\n"
      ]
     },
     "metadata": {},
     "output_type": "display_data"
    },
    {
     "data": {
      "text/html": [
       "<pre style=\"white-space:pre;overflow-x:auto;line-height:normal;font-family:Menlo,'DejaVu Sans Mono',consolas,'Courier New',monospace\"><span style=\"color: #008000; text-decoration-color: #008000\">Ember </span><span style=\"color: #008000; text-decoration-color: #008000; font-weight: bold\">Spirit(</span><span style=\"color: #008000; text-decoration-color: #008000\">MID</span><span style=\"color: #008000; text-decoration-color: #008000; font-weight: bold\">)</span> attacks <span style=\"color: #800000; text-decoration-color: #800000; font-weight: bold\">Medusa(</span><span style=\"color: #800000; text-decoration-color: #800000\">CARRY</span><span style=\"color: #800000; text-decoration-color: #800000; font-weight: bold\">)</span> for <span style=\"color: #008080; text-decoration-color: #008080; font-weight: bold\">11</span> damage\n",
       "</pre>\n"
      ],
      "text/plain": [
       "\u001b[32mEmber \u001b[0m\u001b[1;32mSpirit\u001b[0m\u001b[1;32m(\u001b[0m\u001b[32mMID\u001b[0m\u001b[1;32m)\u001b[0m attacks \u001b[1;31mMedusa\u001b[0m\u001b[1;31m(\u001b[0m\u001b[31mCARRY\u001b[0m\u001b[1;31m)\u001b[0m for \u001b[1;36m11\u001b[0m damage\n"
      ]
     },
     "metadata": {},
     "output_type": "display_data"
    },
    {
     "data": {
      "text/html": [
       "<pre style=\"white-space:pre;overflow-x:auto;line-height:normal;font-family:Menlo,'DejaVu Sans Mono',consolas,'Courier New',monospace\"><span style=\"color: #008000; text-decoration-color: #008000\">Legion </span><span style=\"color: #008000; text-decoration-color: #008000; font-weight: bold\">Commander(</span><span style=\"color: #008000; text-decoration-color: #008000\">OFFLANE</span><span style=\"color: #008000; text-decoration-color: #008000; font-weight: bold\">)</span> attacks <span style=\"color: #800000; text-decoration-color: #800000\">Legion </span><span style=\"color: #800000; text-decoration-color: #800000; font-weight: bold\">Commander(</span><span style=\"color: #800000; text-decoration-color: #800000\">OFFLANE</span><span style=\"color: #800000; text-decoration-color: #800000; font-weight: bold\">)</span> for <span style=\"color: #008080; text-decoration-color: #008080; font-weight: bold\">10</span> damage\n",
       "</pre>\n"
      ],
      "text/plain": [
       "\u001b[32mLegion \u001b[0m\u001b[1;32mCommander\u001b[0m\u001b[1;32m(\u001b[0m\u001b[32mOFFLANE\u001b[0m\u001b[1;32m)\u001b[0m attacks \u001b[31mLegion \u001b[0m\u001b[1;31mCommander\u001b[0m\u001b[1;31m(\u001b[0m\u001b[31mOFFLANE\u001b[0m\u001b[1;31m)\u001b[0m for \u001b[1;36m10\u001b[0m damage\n"
      ]
     },
     "metadata": {},
     "output_type": "display_data"
    },
    {
     "data": {
      "text/html": [
       "<pre style=\"white-space:pre;overflow-x:auto;line-height:normal;font-family:Menlo,'DejaVu Sans Mono',consolas,'Courier New',monospace\"><span style=\"color: #008000; text-decoration-color: #008000\">Crystal </span><span style=\"color: #008000; text-decoration-color: #008000; font-weight: bold\">Maiden(</span><span style=\"color: #008000; text-decoration-color: #008000\">SUPPORT</span><span style=\"color: #008000; text-decoration-color: #008000; font-weight: bold\">)</span> attacks <span style=\"color: #800000; text-decoration-color: #800000\">Storm </span><span style=\"color: #800000; text-decoration-color: #800000; font-weight: bold\">Spirit(</span><span style=\"color: #800000; text-decoration-color: #800000\">MID</span><span style=\"color: #800000; text-decoration-color: #800000; font-weight: bold\">)</span> for <span style=\"color: #008080; text-decoration-color: #008080; font-weight: bold\">11</span> damage\n",
       "</pre>\n"
      ],
      "text/plain": [
       "\u001b[32mCrystal \u001b[0m\u001b[1;32mMaiden\u001b[0m\u001b[1;32m(\u001b[0m\u001b[32mSUPPORT\u001b[0m\u001b[1;32m)\u001b[0m attacks \u001b[31mStorm \u001b[0m\u001b[1;31mSpirit\u001b[0m\u001b[1;31m(\u001b[0m\u001b[31mMID\u001b[0m\u001b[1;31m)\u001b[0m for \u001b[1;36m11\u001b[0m damage\n"
      ]
     },
     "metadata": {},
     "output_type": "display_data"
    },
    {
     "data": {
      "text/html": [
       "<pre style=\"white-space:pre;overflow-x:auto;line-height:normal;font-family:Menlo,'DejaVu Sans Mono',consolas,'Courier New',monospace\"><span style=\"color: #008000; text-decoration-color: #008000\">Naga </span><span style=\"color: #008000; text-decoration-color: #008000; font-weight: bold\">Siren(</span><span style=\"color: #008000; text-decoration-color: #008000\">HARD_SUPPORT</span><span style=\"color: #008000; text-decoration-color: #008000; font-weight: bold\">)</span> attacks <span style=\"color: #800000; text-decoration-color: #800000; font-weight: bold\">Enchantress(</span><span style=\"color: #800000; text-decoration-color: #800000\">HARD_SUPPORT</span><span style=\"color: #800000; text-decoration-color: #800000; font-weight: bold\">)</span> for <span style=\"color: #008080; text-decoration-color: #008080; font-weight: bold\">12</span> damage\n",
       "</pre>\n"
      ],
      "text/plain": [
       "\u001b[32mNaga \u001b[0m\u001b[1;32mSiren\u001b[0m\u001b[1;32m(\u001b[0m\u001b[32mHARD_SUPPORT\u001b[0m\u001b[1;32m)\u001b[0m attacks \u001b[1;31mEnchantress\u001b[0m\u001b[1;31m(\u001b[0m\u001b[31mHARD_SUPPORT\u001b[0m\u001b[1;31m)\u001b[0m for \u001b[1;36m12\u001b[0m damage\n"
      ]
     },
     "metadata": {},
     "output_type": "display_data"
    },
    {
     "data": {
      "text/html": [
       "<pre style=\"white-space:pre;overflow-x:auto;line-height:normal;font-family:Menlo,'DejaVu Sans Mono',consolas,'Courier New',monospace\"><span style=\"color: #800000; text-decoration-color: #800000; font-weight: bold\">Medusa(</span><span style=\"color: #800000; text-decoration-color: #800000\">CARRY</span><span style=\"color: #800000; text-decoration-color: #800000; font-weight: bold\">)</span> attacks <span style=\"color: #008000; text-decoration-color: #008000\">Ember </span><span style=\"color: #008000; text-decoration-color: #008000; font-weight: bold\">Spirit(</span><span style=\"color: #008000; text-decoration-color: #008000\">MID</span><span style=\"color: #008000; text-decoration-color: #008000; font-weight: bold\">)</span> for <span style=\"color: #008080; text-decoration-color: #008080; font-weight: bold\">8</span> damage\n",
       "</pre>\n"
      ],
      "text/plain": [
       "\u001b[1;31mMedusa\u001b[0m\u001b[1;31m(\u001b[0m\u001b[31mCARRY\u001b[0m\u001b[1;31m)\u001b[0m attacks \u001b[32mEmber \u001b[0m\u001b[1;32mSpirit\u001b[0m\u001b[1;32m(\u001b[0m\u001b[32mMID\u001b[0m\u001b[1;32m)\u001b[0m for \u001b[1;36m8\u001b[0m damage\n"
      ]
     },
     "metadata": {},
     "output_type": "display_data"
    },
    {
     "data": {
      "text/html": [
       "<pre style=\"white-space:pre;overflow-x:auto;line-height:normal;font-family:Menlo,'DejaVu Sans Mono',consolas,'Courier New',monospace\"><span style=\"color: #800000; text-decoration-color: #800000\">Storm </span><span style=\"color: #800000; text-decoration-color: #800000; font-weight: bold\">Spirit(</span><span style=\"color: #800000; text-decoration-color: #800000\">MID</span><span style=\"color: #800000; text-decoration-color: #800000; font-weight: bold\">)</span> attacks <span style=\"color: #008000; text-decoration-color: #008000\">Naga </span><span style=\"color: #008000; text-decoration-color: #008000; font-weight: bold\">Siren(</span><span style=\"color: #008000; text-decoration-color: #008000\">HARD_SUPPORT</span><span style=\"color: #008000; text-decoration-color: #008000; font-weight: bold\">)</span> for <span style=\"color: #008080; text-decoration-color: #008080; font-weight: bold\">7</span> damage\n",
       "</pre>\n"
      ],
      "text/plain": [
       "\u001b[31mStorm \u001b[0m\u001b[1;31mSpirit\u001b[0m\u001b[1;31m(\u001b[0m\u001b[31mMID\u001b[0m\u001b[1;31m)\u001b[0m attacks \u001b[32mNaga \u001b[0m\u001b[1;32mSiren\u001b[0m\u001b[1;32m(\u001b[0m\u001b[32mHARD_SUPPORT\u001b[0m\u001b[1;32m)\u001b[0m for \u001b[1;36m7\u001b[0m damage\n"
      ]
     },
     "metadata": {},
     "output_type": "display_data"
    },
    {
     "data": {
      "text/html": [
       "<pre style=\"white-space:pre;overflow-x:auto;line-height:normal;font-family:Menlo,'DejaVu Sans Mono',consolas,'Courier New',monospace\"><span style=\"color: #800000; text-decoration-color: #800000\">Legion </span><span style=\"color: #800000; text-decoration-color: #800000; font-weight: bold\">Commander(</span><span style=\"color: #800000; text-decoration-color: #800000\">OFFLANE</span><span style=\"color: #800000; text-decoration-color: #800000; font-weight: bold\">)</span> attacks <span style=\"color: #008000; text-decoration-color: #008000\">Crystal </span><span style=\"color: #008000; text-decoration-color: #008000; font-weight: bold\">Maiden(</span><span style=\"color: #008000; text-decoration-color: #008000\">SUPPORT</span><span style=\"color: #008000; text-decoration-color: #008000; font-weight: bold\">)</span> for <span style=\"color: #008080; text-decoration-color: #008080; font-weight: bold\">11</span> damage\n",
       "</pre>\n"
      ],
      "text/plain": [
       "\u001b[31mLegion \u001b[0m\u001b[1;31mCommander\u001b[0m\u001b[1;31m(\u001b[0m\u001b[31mOFFLANE\u001b[0m\u001b[1;31m)\u001b[0m attacks \u001b[32mCrystal \u001b[0m\u001b[1;32mMaiden\u001b[0m\u001b[1;32m(\u001b[0m\u001b[32mSUPPORT\u001b[0m\u001b[1;32m)\u001b[0m for \u001b[1;36m11\u001b[0m damage\n"
      ]
     },
     "metadata": {},
     "output_type": "display_data"
    },
    {
     "data": {
      "text/html": [
       "<pre style=\"white-space:pre;overflow-x:auto;line-height:normal;font-family:Menlo,'DejaVu Sans Mono',consolas,'Courier New',monospace\"><span style=\"color: #800000; text-decoration-color: #800000; font-weight: bold\">Bane(</span><span style=\"color: #800000; text-decoration-color: #800000\">SUPPORT</span><span style=\"color: #800000; text-decoration-color: #800000; font-weight: bold\">)</span> attacks <span style=\"color: #008000; text-decoration-color: #008000\">Naga </span><span style=\"color: #008000; text-decoration-color: #008000; font-weight: bold\">Siren(</span><span style=\"color: #008000; text-decoration-color: #008000\">HARD_SUPPORT</span><span style=\"color: #008000; text-decoration-color: #008000; font-weight: bold\">)</span> for <span style=\"color: #008080; text-decoration-color: #008080; font-weight: bold\">9</span> damage\n",
       "</pre>\n"
      ],
      "text/plain": [
       "\u001b[1;31mBane\u001b[0m\u001b[1;31m(\u001b[0m\u001b[31mSUPPORT\u001b[0m\u001b[1;31m)\u001b[0m attacks \u001b[32mNaga \u001b[0m\u001b[1;32mSiren\u001b[0m\u001b[1;32m(\u001b[0m\u001b[32mHARD_SUPPORT\u001b[0m\u001b[1;32m)\u001b[0m for \u001b[1;36m9\u001b[0m damage\n"
      ]
     },
     "metadata": {},
     "output_type": "display_data"
    },
    {
     "data": {
      "text/html": [
       "<pre style=\"white-space:pre;overflow-x:auto;line-height:normal;font-family:Menlo,'DejaVu Sans Mono',consolas,'Courier New',monospace\"><span style=\"color: #800000; text-decoration-color: #800000; font-weight: bold\">Naga Siren has been killed by Bane!</span>\n",
       "</pre>\n"
      ],
      "text/plain": [
       "\u001b[1;31mNaga Siren has been killed by Bane!\u001b[0m\n"
      ]
     },
     "metadata": {},
     "output_type": "display_data"
    },
    {
     "data": {
      "text/html": [
       "<pre style=\"white-space:pre;overflow-x:auto;line-height:normal;font-family:Menlo,'DejaVu Sans Mono',consolas,'Courier New',monospace\"><span style=\"color: #800000; text-decoration-color: #800000; font-weight: bold\">Enchantress(</span><span style=\"color: #800000; text-decoration-color: #800000\">HARD_SUPPORT</span><span style=\"color: #800000; text-decoration-color: #800000; font-weight: bold\">)</span> attacks <span style=\"color: #008000; text-decoration-color: #008000\">Ember </span><span style=\"color: #008000; text-decoration-color: #008000; font-weight: bold\">Spirit(</span><span style=\"color: #008000; text-decoration-color: #008000\">MID</span><span style=\"color: #008000; text-decoration-color: #008000; font-weight: bold\">)</span> for <span style=\"color: #008080; text-decoration-color: #008080; font-weight: bold\">8</span> damage\n",
       "</pre>\n"
      ],
      "text/plain": [
       "\u001b[1;31mEnchantress\u001b[0m\u001b[1;31m(\u001b[0m\u001b[31mHARD_SUPPORT\u001b[0m\u001b[1;31m)\u001b[0m attacks \u001b[32mEmber \u001b[0m\u001b[1;32mSpirit\u001b[0m\u001b[1;32m(\u001b[0m\u001b[32mMID\u001b[0m\u001b[1;32m)\u001b[0m for \u001b[1;36m8\u001b[0m damage\n"
      ]
     },
     "metadata": {},
     "output_type": "display_data"
    },
    {
     "data": {
      "text/html": [
       "<pre style=\"white-space:pre;overflow-x:auto;line-height:normal;font-family:Menlo,'DejaVu Sans Mono',consolas,'Courier New',monospace\">\n",
       "<span style=\"color: #808000; text-decoration-color: #808000\">Файт </span><span style=\"color: #808000; text-decoration-color: #808000; font-weight: bold\">10</span><span style=\"color: #808000; text-decoration-color: #808000\">:</span>\n",
       "</pre>\n"
      ],
      "text/plain": [
       "\n",
       "\u001b[33mФайт \u001b[0m\u001b[1;33m10\u001b[0m\u001b[33m:\u001b[0m\n"
      ]
     },
     "metadata": {},
     "output_type": "display_data"
    },
    {
     "data": {
      "text/html": [
       "<pre style=\"white-space:pre;overflow-x:auto;line-height:normal;font-family:Menlo,'DejaVu Sans Mono',consolas,'Courier New',monospace\"><span style=\"color: #008000; text-decoration-color: #008000; font-weight: bold\">Juggernaut(</span><span style=\"color: #008000; text-decoration-color: #008000\">CARRY</span><span style=\"color: #008000; text-decoration-color: #008000; font-weight: bold\">)</span> attacks <span style=\"color: #800000; text-decoration-color: #800000; font-weight: bold\">Enchantress(</span><span style=\"color: #800000; text-decoration-color: #800000\">HARD_SUPPORT</span><span style=\"color: #800000; text-decoration-color: #800000; font-weight: bold\">)</span> for <span style=\"color: #008080; text-decoration-color: #008080; font-weight: bold\">11</span> damage\n",
       "</pre>\n"
      ],
      "text/plain": [
       "\u001b[1;32mJuggernaut\u001b[0m\u001b[1;32m(\u001b[0m\u001b[32mCARRY\u001b[0m\u001b[1;32m)\u001b[0m attacks \u001b[1;31mEnchantress\u001b[0m\u001b[1;31m(\u001b[0m\u001b[31mHARD_SUPPORT\u001b[0m\u001b[1;31m)\u001b[0m for \u001b[1;36m11\u001b[0m damage\n"
      ]
     },
     "metadata": {},
     "output_type": "display_data"
    },
    {
     "data": {
      "text/html": [
       "<pre style=\"white-space:pre;overflow-x:auto;line-height:normal;font-family:Menlo,'DejaVu Sans Mono',consolas,'Courier New',monospace\"><span style=\"color: #800000; text-decoration-color: #800000; font-weight: bold\">Enchantress has been killed by Juggernaut!</span>\n",
       "</pre>\n"
      ],
      "text/plain": [
       "\u001b[1;31mEnchantress has been killed by Juggernaut!\u001b[0m\n"
      ]
     },
     "metadata": {},
     "output_type": "display_data"
    },
    {
     "data": {
      "text/html": [
       "<pre style=\"white-space:pre;overflow-x:auto;line-height:normal;font-family:Menlo,'DejaVu Sans Mono',consolas,'Courier New',monospace\"><span style=\"color: #008000; text-decoration-color: #008000\">Ember </span><span style=\"color: #008000; text-decoration-color: #008000; font-weight: bold\">Spirit(</span><span style=\"color: #008000; text-decoration-color: #008000\">MID</span><span style=\"color: #008000; text-decoration-color: #008000; font-weight: bold\">)</span> attacks <span style=\"color: #800000; text-decoration-color: #800000; font-weight: bold\">Medusa(</span><span style=\"color: #800000; text-decoration-color: #800000\">CARRY</span><span style=\"color: #800000; text-decoration-color: #800000; font-weight: bold\">)</span> for <span style=\"color: #008080; text-decoration-color: #008080; font-weight: bold\">10</span> damage\n",
       "</pre>\n"
      ],
      "text/plain": [
       "\u001b[32mEmber \u001b[0m\u001b[1;32mSpirit\u001b[0m\u001b[1;32m(\u001b[0m\u001b[32mMID\u001b[0m\u001b[1;32m)\u001b[0m attacks \u001b[1;31mMedusa\u001b[0m\u001b[1;31m(\u001b[0m\u001b[31mCARRY\u001b[0m\u001b[1;31m)\u001b[0m for \u001b[1;36m10\u001b[0m damage\n"
      ]
     },
     "metadata": {},
     "output_type": "display_data"
    },
    {
     "data": {
      "text/html": [
       "<pre style=\"white-space:pre;overflow-x:auto;line-height:normal;font-family:Menlo,'DejaVu Sans Mono',consolas,'Courier New',monospace\"><span style=\"color: #800000; text-decoration-color: #800000; font-weight: bold\">Medusa has been killed by Ember Spirit!</span>\n",
       "</pre>\n"
      ],
      "text/plain": [
       "\u001b[1;31mMedusa has been killed by Ember Spirit!\u001b[0m\n"
      ]
     },
     "metadata": {},
     "output_type": "display_data"
    },
    {
     "data": {
      "text/html": [
       "<pre style=\"white-space:pre;overflow-x:auto;line-height:normal;font-family:Menlo,'DejaVu Sans Mono',consolas,'Courier New',monospace\"><span style=\"color: #008000; text-decoration-color: #008000\">Legion </span><span style=\"color: #008000; text-decoration-color: #008000; font-weight: bold\">Commander(</span><span style=\"color: #008000; text-decoration-color: #008000\">OFFLANE</span><span style=\"color: #008000; text-decoration-color: #008000; font-weight: bold\">)</span> attacks <span style=\"color: #800000; text-decoration-color: #800000\">Legion </span><span style=\"color: #800000; text-decoration-color: #800000; font-weight: bold\">Commander(</span><span style=\"color: #800000; text-decoration-color: #800000\">OFFLANE</span><span style=\"color: #800000; text-decoration-color: #800000; font-weight: bold\">)</span> for <span style=\"color: #008080; text-decoration-color: #008080; font-weight: bold\">9</span> damage\n",
       "</pre>\n"
      ],
      "text/plain": [
       "\u001b[32mLegion \u001b[0m\u001b[1;32mCommander\u001b[0m\u001b[1;32m(\u001b[0m\u001b[32mOFFLANE\u001b[0m\u001b[1;32m)\u001b[0m attacks \u001b[31mLegion \u001b[0m\u001b[1;31mCommander\u001b[0m\u001b[1;31m(\u001b[0m\u001b[31mOFFLANE\u001b[0m\u001b[1;31m)\u001b[0m for \u001b[1;36m9\u001b[0m damage\n"
      ]
     },
     "metadata": {},
     "output_type": "display_data"
    },
    {
     "data": {
      "text/html": [
       "<pre style=\"white-space:pre;overflow-x:auto;line-height:normal;font-family:Menlo,'DejaVu Sans Mono',consolas,'Courier New',monospace\"><span style=\"color: #008000; text-decoration-color: #008000\">Crystal </span><span style=\"color: #008000; text-decoration-color: #008000; font-weight: bold\">Maiden(</span><span style=\"color: #008000; text-decoration-color: #008000\">SUPPORT</span><span style=\"color: #008000; text-decoration-color: #008000; font-weight: bold\">)</span> attacks <span style=\"color: #800000; text-decoration-color: #800000\">Legion </span><span style=\"color: #800000; text-decoration-color: #800000; font-weight: bold\">Commander(</span><span style=\"color: #800000; text-decoration-color: #800000\">OFFLANE</span><span style=\"color: #800000; text-decoration-color: #800000; font-weight: bold\">)</span> for <span style=\"color: #008080; text-decoration-color: #008080; font-weight: bold\">12</span> damage\n",
       "</pre>\n"
      ],
      "text/plain": [
       "\u001b[32mCrystal \u001b[0m\u001b[1;32mMaiden\u001b[0m\u001b[1;32m(\u001b[0m\u001b[32mSUPPORT\u001b[0m\u001b[1;32m)\u001b[0m attacks \u001b[31mLegion \u001b[0m\u001b[1;31mCommander\u001b[0m\u001b[1;31m(\u001b[0m\u001b[31mOFFLANE\u001b[0m\u001b[1;31m)\u001b[0m for \u001b[1;36m12\u001b[0m damage\n"
      ]
     },
     "metadata": {},
     "output_type": "display_data"
    },
    {
     "data": {
      "text/html": [
       "<pre style=\"white-space:pre;overflow-x:auto;line-height:normal;font-family:Menlo,'DejaVu Sans Mono',consolas,'Courier New',monospace\"><span style=\"color: #800000; text-decoration-color: #800000; font-weight: bold\">Legion Commander has been killed by Crystal Maiden!</span>\n",
       "</pre>\n"
      ],
      "text/plain": [
       "\u001b[1;31mLegion Commander has been killed by Crystal Maiden!\u001b[0m\n"
      ]
     },
     "metadata": {},
     "output_type": "display_data"
    },
    {
     "data": {
      "text/html": [
       "<pre style=\"white-space:pre;overflow-x:auto;line-height:normal;font-family:Menlo,'DejaVu Sans Mono',consolas,'Courier New',monospace\"><span style=\"color: #800000; text-decoration-color: #800000\">Storm </span><span style=\"color: #800000; text-decoration-color: #800000; font-weight: bold\">Spirit(</span><span style=\"color: #800000; text-decoration-color: #800000\">MID</span><span style=\"color: #800000; text-decoration-color: #800000; font-weight: bold\">)</span> attacks <span style=\"color: #008000; text-decoration-color: #008000\">Crystal </span><span style=\"color: #008000; text-decoration-color: #008000; font-weight: bold\">Maiden(</span><span style=\"color: #008000; text-decoration-color: #008000\">SUPPORT</span><span style=\"color: #008000; text-decoration-color: #008000; font-weight: bold\">)</span> for <span style=\"color: #008080; text-decoration-color: #008080; font-weight: bold\">8</span> damage\n",
       "</pre>\n"
      ],
      "text/plain": [
       "\u001b[31mStorm \u001b[0m\u001b[1;31mSpirit\u001b[0m\u001b[1;31m(\u001b[0m\u001b[31mMID\u001b[0m\u001b[1;31m)\u001b[0m attacks \u001b[32mCrystal \u001b[0m\u001b[1;32mMaiden\u001b[0m\u001b[1;32m(\u001b[0m\u001b[32mSUPPORT\u001b[0m\u001b[1;32m)\u001b[0m for \u001b[1;36m8\u001b[0m damage\n"
      ]
     },
     "metadata": {},
     "output_type": "display_data"
    },
    {
     "data": {
      "text/html": [
       "<pre style=\"white-space:pre;overflow-x:auto;line-height:normal;font-family:Menlo,'DejaVu Sans Mono',consolas,'Courier New',monospace\"><span style=\"color: #800000; text-decoration-color: #800000; font-weight: bold\">Bane(</span><span style=\"color: #800000; text-decoration-color: #800000\">SUPPORT</span><span style=\"color: #800000; text-decoration-color: #800000; font-weight: bold\">)</span> attacks <span style=\"color: #008000; text-decoration-color: #008000\">Legion </span><span style=\"color: #008000; text-decoration-color: #008000; font-weight: bold\">Commander(</span><span style=\"color: #008000; text-decoration-color: #008000\">OFFLANE</span><span style=\"color: #008000; text-decoration-color: #008000; font-weight: bold\">)</span> for <span style=\"color: #008080; text-decoration-color: #008080; font-weight: bold\">13</span> damage\n",
       "</pre>\n"
      ],
      "text/plain": [
       "\u001b[1;31mBane\u001b[0m\u001b[1;31m(\u001b[0m\u001b[31mSUPPORT\u001b[0m\u001b[1;31m)\u001b[0m attacks \u001b[32mLegion \u001b[0m\u001b[1;32mCommander\u001b[0m\u001b[1;32m(\u001b[0m\u001b[32mOFFLANE\u001b[0m\u001b[1;32m)\u001b[0m for \u001b[1;36m13\u001b[0m damage\n"
      ]
     },
     "metadata": {},
     "output_type": "display_data"
    },
    {
     "data": {
      "text/html": [
       "<pre style=\"white-space:pre;overflow-x:auto;line-height:normal;font-family:Menlo,'DejaVu Sans Mono',consolas,'Courier New',monospace\">\n",
       "<span style=\"color: #808000; text-decoration-color: #808000\">Файт </span><span style=\"color: #808000; text-decoration-color: #808000; font-weight: bold\">11</span><span style=\"color: #808000; text-decoration-color: #808000\">:</span>\n",
       "</pre>\n"
      ],
      "text/plain": [
       "\n",
       "\u001b[33mФайт \u001b[0m\u001b[1;33m11\u001b[0m\u001b[33m:\u001b[0m\n"
      ]
     },
     "metadata": {},
     "output_type": "display_data"
    },
    {
     "data": {
      "text/html": [
       "<pre style=\"white-space:pre;overflow-x:auto;line-height:normal;font-family:Menlo,'DejaVu Sans Mono',consolas,'Courier New',monospace\"><span style=\"color: #008000; text-decoration-color: #008000; font-weight: bold\">Juggernaut(</span><span style=\"color: #008000; text-decoration-color: #008000\">CARRY</span><span style=\"color: #008000; text-decoration-color: #008000; font-weight: bold\">)</span> attacks <span style=\"color: #800000; text-decoration-color: #800000\">Storm </span><span style=\"color: #800000; text-decoration-color: #800000; font-weight: bold\">Spirit(</span><span style=\"color: #800000; text-decoration-color: #800000\">MID</span><span style=\"color: #800000; text-decoration-color: #800000; font-weight: bold\">)</span> for <span style=\"color: #008080; text-decoration-color: #008080; font-weight: bold\">10</span> damage\n",
       "</pre>\n"
      ],
      "text/plain": [
       "\u001b[1;32mJuggernaut\u001b[0m\u001b[1;32m(\u001b[0m\u001b[32mCARRY\u001b[0m\u001b[1;32m)\u001b[0m attacks \u001b[31mStorm \u001b[0m\u001b[1;31mSpirit\u001b[0m\u001b[1;31m(\u001b[0m\u001b[31mMID\u001b[0m\u001b[1;31m)\u001b[0m for \u001b[1;36m10\u001b[0m damage\n"
      ]
     },
     "metadata": {},
     "output_type": "display_data"
    },
    {
     "data": {
      "text/html": [
       "<pre style=\"white-space:pre;overflow-x:auto;line-height:normal;font-family:Menlo,'DejaVu Sans Mono',consolas,'Courier New',monospace\"><span style=\"color: #800000; text-decoration-color: #800000; font-weight: bold\">Storm Spirit has been killed by Juggernaut!</span>\n",
       "</pre>\n"
      ],
      "text/plain": [
       "\u001b[1;31mStorm Spirit has been killed by Juggernaut!\u001b[0m\n"
      ]
     },
     "metadata": {},
     "output_type": "display_data"
    },
    {
     "data": {
      "text/html": [
       "<pre style=\"white-space:pre;overflow-x:auto;line-height:normal;font-family:Menlo,'DejaVu Sans Mono',consolas,'Courier New',monospace\"><span style=\"color: #008000; text-decoration-color: #008000\">Ember </span><span style=\"color: #008000; text-decoration-color: #008000; font-weight: bold\">Spirit(</span><span style=\"color: #008000; text-decoration-color: #008000\">MID</span><span style=\"color: #008000; text-decoration-color: #008000; font-weight: bold\">)</span> attacks <span style=\"color: #800000; text-decoration-color: #800000; font-weight: bold\">Bane(</span><span style=\"color: #800000; text-decoration-color: #800000\">SUPPORT</span><span style=\"color: #800000; text-decoration-color: #800000; font-weight: bold\">)</span> for <span style=\"color: #008080; text-decoration-color: #008080; font-weight: bold\">10</span> damage\n",
       "</pre>\n"
      ],
      "text/plain": [
       "\u001b[32mEmber \u001b[0m\u001b[1;32mSpirit\u001b[0m\u001b[1;32m(\u001b[0m\u001b[32mMID\u001b[0m\u001b[1;32m)\u001b[0m attacks \u001b[1;31mBane\u001b[0m\u001b[1;31m(\u001b[0m\u001b[31mSUPPORT\u001b[0m\u001b[1;31m)\u001b[0m for \u001b[1;36m10\u001b[0m damage\n"
      ]
     },
     "metadata": {},
     "output_type": "display_data"
    },
    {
     "data": {
      "text/html": [
       "<pre style=\"white-space:pre;overflow-x:auto;line-height:normal;font-family:Menlo,'DejaVu Sans Mono',consolas,'Courier New',monospace\"><span style=\"color: #008000; text-decoration-color: #008000\">Legion </span><span style=\"color: #008000; text-decoration-color: #008000; font-weight: bold\">Commander(</span><span style=\"color: #008000; text-decoration-color: #008000\">OFFLANE</span><span style=\"color: #008000; text-decoration-color: #008000; font-weight: bold\">)</span> attacks <span style=\"color: #800000; text-decoration-color: #800000; font-weight: bold\">Bane(</span><span style=\"color: #800000; text-decoration-color: #800000\">SUPPORT</span><span style=\"color: #800000; text-decoration-color: #800000; font-weight: bold\">)</span> for <span style=\"color: #008080; text-decoration-color: #008080; font-weight: bold\">11</span> damage\n",
       "</pre>\n"
      ],
      "text/plain": [
       "\u001b[32mLegion \u001b[0m\u001b[1;32mCommander\u001b[0m\u001b[1;32m(\u001b[0m\u001b[32mOFFLANE\u001b[0m\u001b[1;32m)\u001b[0m attacks \u001b[1;31mBane\u001b[0m\u001b[1;31m(\u001b[0m\u001b[31mSUPPORT\u001b[0m\u001b[1;31m)\u001b[0m for \u001b[1;36m11\u001b[0m damage\n"
      ]
     },
     "metadata": {},
     "output_type": "display_data"
    },
    {
     "data": {
      "text/html": [
       "<pre style=\"white-space:pre;overflow-x:auto;line-height:normal;font-family:Menlo,'DejaVu Sans Mono',consolas,'Courier New',monospace\"><span style=\"color: #008000; text-decoration-color: #008000\">Crystal </span><span style=\"color: #008000; text-decoration-color: #008000; font-weight: bold\">Maiden(</span><span style=\"color: #008000; text-decoration-color: #008000\">SUPPORT</span><span style=\"color: #008000; text-decoration-color: #008000; font-weight: bold\">)</span> attacks <span style=\"color: #800000; text-decoration-color: #800000; font-weight: bold\">Bane(</span><span style=\"color: #800000; text-decoration-color: #800000\">SUPPORT</span><span style=\"color: #800000; text-decoration-color: #800000; font-weight: bold\">)</span> for <span style=\"color: #008080; text-decoration-color: #008080; font-weight: bold\">11</span> damage\n",
       "</pre>\n"
      ],
      "text/plain": [
       "\u001b[32mCrystal \u001b[0m\u001b[1;32mMaiden\u001b[0m\u001b[1;32m(\u001b[0m\u001b[32mSUPPORT\u001b[0m\u001b[1;32m)\u001b[0m attacks \u001b[1;31mBane\u001b[0m\u001b[1;31m(\u001b[0m\u001b[31mSUPPORT\u001b[0m\u001b[1;31m)\u001b[0m for \u001b[1;36m11\u001b[0m damage\n"
      ]
     },
     "metadata": {},
     "output_type": "display_data"
    },
    {
     "data": {
      "text/html": [
       "<pre style=\"white-space:pre;overflow-x:auto;line-height:normal;font-family:Menlo,'DejaVu Sans Mono',consolas,'Courier New',monospace\"><span style=\"color: #800000; text-decoration-color: #800000; font-weight: bold\">Bane(</span><span style=\"color: #800000; text-decoration-color: #800000\">SUPPORT</span><span style=\"color: #800000; text-decoration-color: #800000; font-weight: bold\">)</span> attacks <span style=\"color: #008000; text-decoration-color: #008000; font-weight: bold\">Juggernaut(</span><span style=\"color: #008000; text-decoration-color: #008000\">CARRY</span><span style=\"color: #008000; text-decoration-color: #008000; font-weight: bold\">)</span> for <span style=\"color: #008080; text-decoration-color: #008080; font-weight: bold\">12</span> damage\n",
       "</pre>\n"
      ],
      "text/plain": [
       "\u001b[1;31mBane\u001b[0m\u001b[1;31m(\u001b[0m\u001b[31mSUPPORT\u001b[0m\u001b[1;31m)\u001b[0m attacks \u001b[1;32mJuggernaut\u001b[0m\u001b[1;32m(\u001b[0m\u001b[32mCARRY\u001b[0m\u001b[1;32m)\u001b[0m for \u001b[1;36m12\u001b[0m damage\n"
      ]
     },
     "metadata": {},
     "output_type": "display_data"
    },
    {
     "data": {
      "text/html": [
       "<pre style=\"white-space:pre;overflow-x:auto;line-height:normal;font-family:Menlo,'DejaVu Sans Mono',consolas,'Courier New',monospace\">\n",
       "<span style=\"color: #808000; text-decoration-color: #808000\">Файт </span><span style=\"color: #808000; text-decoration-color: #808000; font-weight: bold\">12</span><span style=\"color: #808000; text-decoration-color: #808000\">:</span>\n",
       "</pre>\n"
      ],
      "text/plain": [
       "\n",
       "\u001b[33mФайт \u001b[0m\u001b[1;33m12\u001b[0m\u001b[33m:\u001b[0m\n"
      ]
     },
     "metadata": {},
     "output_type": "display_data"
    },
    {
     "data": {
      "text/html": [
       "<pre style=\"white-space:pre;overflow-x:auto;line-height:normal;font-family:Menlo,'DejaVu Sans Mono',consolas,'Courier New',monospace\"><span style=\"color: #008000; text-decoration-color: #008000; font-weight: bold\">Juggernaut(</span><span style=\"color: #008000; text-decoration-color: #008000\">CARRY</span><span style=\"color: #008000; text-decoration-color: #008000; font-weight: bold\">)</span> attacks <span style=\"color: #800000; text-decoration-color: #800000; font-weight: bold\">Bane(</span><span style=\"color: #800000; text-decoration-color: #800000\">SUPPORT</span><span style=\"color: #800000; text-decoration-color: #800000; font-weight: bold\">)</span> for <span style=\"color: #008080; text-decoration-color: #008080; font-weight: bold\">10</span> damage\n",
       "</pre>\n"
      ],
      "text/plain": [
       "\u001b[1;32mJuggernaut\u001b[0m\u001b[1;32m(\u001b[0m\u001b[32mCARRY\u001b[0m\u001b[1;32m)\u001b[0m attacks \u001b[1;31mBane\u001b[0m\u001b[1;31m(\u001b[0m\u001b[31mSUPPORT\u001b[0m\u001b[1;31m)\u001b[0m for \u001b[1;36m10\u001b[0m damage\n"
      ]
     },
     "metadata": {},
     "output_type": "display_data"
    },
    {
     "data": {
      "text/html": [
       "<pre style=\"white-space:pre;overflow-x:auto;line-height:normal;font-family:Menlo,'DejaVu Sans Mono',consolas,'Courier New',monospace\"><span style=\"color: #008000; text-decoration-color: #008000\">Ember </span><span style=\"color: #008000; text-decoration-color: #008000; font-weight: bold\">Spirit(</span><span style=\"color: #008000; text-decoration-color: #008000\">MID</span><span style=\"color: #008000; text-decoration-color: #008000; font-weight: bold\">)</span> attacks <span style=\"color: #800000; text-decoration-color: #800000; font-weight: bold\">Bane(</span><span style=\"color: #800000; text-decoration-color: #800000\">SUPPORT</span><span style=\"color: #800000; text-decoration-color: #800000; font-weight: bold\">)</span> for <span style=\"color: #008080; text-decoration-color: #008080; font-weight: bold\">8</span> damage\n",
       "</pre>\n"
      ],
      "text/plain": [
       "\u001b[32mEmber \u001b[0m\u001b[1;32mSpirit\u001b[0m\u001b[1;32m(\u001b[0m\u001b[32mMID\u001b[0m\u001b[1;32m)\u001b[0m attacks \u001b[1;31mBane\u001b[0m\u001b[1;31m(\u001b[0m\u001b[31mSUPPORT\u001b[0m\u001b[1;31m)\u001b[0m for \u001b[1;36m8\u001b[0m damage\n"
      ]
     },
     "metadata": {},
     "output_type": "display_data"
    },
    {
     "data": {
      "text/html": [
       "<pre style=\"white-space:pre;overflow-x:auto;line-height:normal;font-family:Menlo,'DejaVu Sans Mono',consolas,'Courier New',monospace\"><span style=\"color: #800000; text-decoration-color: #800000; font-weight: bold\">Bane has been killed by Ember Spirit!</span>\n",
       "</pre>\n"
      ],
      "text/plain": [
       "\u001b[1;31mBane has been killed by Ember Spirit!\u001b[0m\n"
      ]
     },
     "metadata": {},
     "output_type": "display_data"
    },
    {
     "data": {
      "text/html": [
       "<pre style=\"white-space:pre;overflow-x:auto;line-height:normal;font-family:Menlo,'DejaVu Sans Mono',consolas,'Courier New',monospace\">\n",
       "<span style=\"color: #808000; text-decoration-color: #808000\">Игра окончена!</span>\n",
       "</pre>\n"
      ],
      "text/plain": [
       "\n",
       "\u001b[33mИгра окончена!\u001b[0m\n"
      ]
     },
     "metadata": {},
     "output_type": "display_data"
    },
    {
     "data": {
      "text/html": [
       "<pre style=\"white-space:pre;overflow-x:auto;line-height:normal;font-family:Menlo,'DejaVu Sans Mono',consolas,'Courier New',monospace\">\n",
       "<span style=\"color: #808000; text-decoration-color: #808000\">Статистика</span>\n",
       "</pre>\n"
      ],
      "text/plain": [
       "\n",
       "\u001b[33mСтатистика\u001b[0m\n"
      ]
     },
     "metadata": {},
     "output_type": "display_data"
    },
    {
     "data": {
      "text/html": [
       "<pre style=\"white-space:pre;overflow-x:auto;line-height:normal;font-family:Menlo,'DejaVu Sans Mono',consolas,'Courier New',monospace\"><span style=\"color: #008000; text-decoration-color: #008000\">Team Radiant</span>\n",
       "<span style=\"color: #008000; text-decoration-color: #008000\">- Juggernaut </span><span style=\"color: #008000; text-decoration-color: #008000; font-weight: bold\">(</span><span style=\"color: #008000; text-decoration-color: #008000\">CARRY</span><span style=\"color: #008000; text-decoration-color: #008000; font-weight: bold\">)</span><span style=\"color: #008000; text-decoration-color: #008000\"> | </span><span style=\"color: #008000; text-decoration-color: #008000; font-weight: bold\">65</span><span style=\"color: #008000; text-decoration-color: #008000\"> HP | Kills: </span><span style=\"color: #008000; text-decoration-color: #008000; font-weight: bold\">2</span>\n",
       "<span style=\"color: #008000; text-decoration-color: #008000\">- Ember Spirit </span><span style=\"color: #008000; text-decoration-color: #008000; font-weight: bold\">(</span><span style=\"color: #008000; text-decoration-color: #008000\">MID</span><span style=\"color: #008000; text-decoration-color: #008000; font-weight: bold\">)</span><span style=\"color: #008000; text-decoration-color: #008000\"> | </span><span style=\"color: #008000; text-decoration-color: #008000; font-weight: bold\">44</span><span style=\"color: #008000; text-decoration-color: #008000\"> HP | Kills: </span><span style=\"color: #008000; text-decoration-color: #008000; font-weight: bold\">2</span>\n",
       "<span style=\"color: #008000; text-decoration-color: #008000\">- Legion Commander </span><span style=\"color: #008000; text-decoration-color: #008000; font-weight: bold\">(</span><span style=\"color: #008000; text-decoration-color: #008000\">OFFLANE</span><span style=\"color: #008000; text-decoration-color: #008000; font-weight: bold\">)</span><span style=\"color: #008000; text-decoration-color: #008000\"> | </span><span style=\"color: #008000; text-decoration-color: #008000; font-weight: bold\">33</span><span style=\"color: #008000; text-decoration-color: #008000\"> HP | Kills: </span><span style=\"color: #008000; text-decoration-color: #008000; font-weight: bold\">0</span>\n",
       "<span style=\"color: #008000; text-decoration-color: #008000\">- Crystal Maiden </span><span style=\"color: #008000; text-decoration-color: #008000; font-weight: bold\">(</span><span style=\"color: #008000; text-decoration-color: #008000\">SUPPORT</span><span style=\"color: #008000; text-decoration-color: #008000; font-weight: bold\">)</span><span style=\"color: #008000; text-decoration-color: #008000\"> | </span><span style=\"color: #008000; text-decoration-color: #008000; font-weight: bold\">50</span><span style=\"color: #008000; text-decoration-color: #008000\"> HP | Kills: </span><span style=\"color: #008000; text-decoration-color: #008000; font-weight: bold\">1</span>\n",
       "<span style=\"color: #008000; text-decoration-color: #008000\">- Naga Siren </span><span style=\"color: #008000; text-decoration-color: #008000; font-weight: bold\">(</span><span style=\"color: #008000; text-decoration-color: #008000\">HARD_SUPPORT</span><span style=\"color: #008000; text-decoration-color: #008000; font-weight: bold\">)</span><span style=\"color: #008000; text-decoration-color: #008000\"> | </span><span style=\"color: #800000; text-decoration-color: #800000; font-weight: bold\">DEAD</span><span style=\"color: #008000; text-decoration-color: #008000\"> | Kills: </span><span style=\"color: #008000; text-decoration-color: #008000; font-weight: bold\">0</span>\n",
       "</pre>\n"
      ],
      "text/plain": [
       "\u001b[32mTeam Radiant\u001b[0m\n",
       "\u001b[32m- Juggernaut \u001b[0m\u001b[1;32m(\u001b[0m\u001b[32mCARRY\u001b[0m\u001b[1;32m)\u001b[0m\u001b[32m | \u001b[0m\u001b[1;32m65\u001b[0m\u001b[32m HP | Kills: \u001b[0m\u001b[1;32m2\u001b[0m\n",
       "\u001b[32m- Ember Spirit \u001b[0m\u001b[1;32m(\u001b[0m\u001b[32mMID\u001b[0m\u001b[1;32m)\u001b[0m\u001b[32m | \u001b[0m\u001b[1;32m44\u001b[0m\u001b[32m HP | Kills: \u001b[0m\u001b[1;32m2\u001b[0m\n",
       "\u001b[32m- Legion Commander \u001b[0m\u001b[1;32m(\u001b[0m\u001b[32mOFFLANE\u001b[0m\u001b[1;32m)\u001b[0m\u001b[32m | \u001b[0m\u001b[1;32m33\u001b[0m\u001b[32m HP | Kills: \u001b[0m\u001b[1;32m0\u001b[0m\n",
       "\u001b[32m- Crystal Maiden \u001b[0m\u001b[1;32m(\u001b[0m\u001b[32mSUPPORT\u001b[0m\u001b[1;32m)\u001b[0m\u001b[32m | \u001b[0m\u001b[1;32m50\u001b[0m\u001b[32m HP | Kills: \u001b[0m\u001b[1;32m1\u001b[0m\n",
       "\u001b[32m- Naga Siren \u001b[0m\u001b[1;32m(\u001b[0m\u001b[32mHARD_SUPPORT\u001b[0m\u001b[1;32m)\u001b[0m\u001b[32m | \u001b[0m\u001b[1;31mDEAD\u001b[0m\u001b[32m | Kills: \u001b[0m\u001b[1;32m0\u001b[0m\n"
      ]
     },
     "metadata": {},
     "output_type": "display_data"
    },
    {
     "data": {
      "text/html": [
       "<pre style=\"white-space:pre;overflow-x:auto;line-height:normal;font-family:Menlo,'DejaVu Sans Mono',consolas,'Courier New',monospace\"><span style=\"color: #800000; text-decoration-color: #800000\">Team Dire</span>\n",
       "<span style=\"color: #800000; text-decoration-color: #800000\">- Medusa </span><span style=\"color: #800000; text-decoration-color: #800000; font-weight: bold\">(</span><span style=\"color: #800000; text-decoration-color: #800000\">CARRY</span><span style=\"color: #800000; text-decoration-color: #800000; font-weight: bold\">)</span><span style=\"color: #800000; text-decoration-color: #800000\"> | </span><span style=\"color: #800000; text-decoration-color: #800000; font-weight: bold\">DEAD</span><span style=\"color: #800000; text-decoration-color: #800000\"> | Kills: </span><span style=\"color: #800000; text-decoration-color: #800000; font-weight: bold\">0</span>\n",
       "<span style=\"color: #800000; text-decoration-color: #800000\">- Storm Spirit </span><span style=\"color: #800000; text-decoration-color: #800000; font-weight: bold\">(</span><span style=\"color: #800000; text-decoration-color: #800000\">MID</span><span style=\"color: #800000; text-decoration-color: #800000; font-weight: bold\">)</span><span style=\"color: #800000; text-decoration-color: #800000\"> | </span><span style=\"color: #800000; text-decoration-color: #800000; font-weight: bold\">DEAD</span><span style=\"color: #800000; text-decoration-color: #800000\"> | Kills: </span><span style=\"color: #800000; text-decoration-color: #800000; font-weight: bold\">0</span>\n",
       "<span style=\"color: #800000; text-decoration-color: #800000\">- Legion Commander </span><span style=\"color: #800000; text-decoration-color: #800000; font-weight: bold\">(</span><span style=\"color: #800000; text-decoration-color: #800000\">OFFLANE</span><span style=\"color: #800000; text-decoration-color: #800000; font-weight: bold\">)</span><span style=\"color: #800000; text-decoration-color: #800000\"> | </span><span style=\"color: #800000; text-decoration-color: #800000; font-weight: bold\">DEAD</span><span style=\"color: #800000; text-decoration-color: #800000\"> | Kills: </span><span style=\"color: #800000; text-decoration-color: #800000; font-weight: bold\">0</span>\n",
       "<span style=\"color: #800000; text-decoration-color: #800000\">- Bane </span><span style=\"color: #800000; text-decoration-color: #800000; font-weight: bold\">(</span><span style=\"color: #800000; text-decoration-color: #800000\">SUPPORT</span><span style=\"color: #800000; text-decoration-color: #800000; font-weight: bold\">)</span><span style=\"color: #800000; text-decoration-color: #800000\"> | </span><span style=\"color: #800000; text-decoration-color: #800000; font-weight: bold\">DEAD</span><span style=\"color: #800000; text-decoration-color: #800000\"> | Kills: </span><span style=\"color: #800000; text-decoration-color: #800000; font-weight: bold\">1</span>\n",
       "<span style=\"color: #800000; text-decoration-color: #800000\">- Enchantress </span><span style=\"color: #800000; text-decoration-color: #800000; font-weight: bold\">(</span><span style=\"color: #800000; text-decoration-color: #800000\">HARD_SUPPORT</span><span style=\"color: #800000; text-decoration-color: #800000; font-weight: bold\">)</span><span style=\"color: #800000; text-decoration-color: #800000\"> | </span><span style=\"color: #800000; text-decoration-color: #800000; font-weight: bold\">DEAD</span><span style=\"color: #800000; text-decoration-color: #800000\"> | Kills: </span><span style=\"color: #800000; text-decoration-color: #800000; font-weight: bold\">0</span>\n",
       "</pre>\n"
      ],
      "text/plain": [
       "\u001b[31mTeam Dire\u001b[0m\n",
       "\u001b[31m- Medusa \u001b[0m\u001b[1;31m(\u001b[0m\u001b[31mCARRY\u001b[0m\u001b[1;31m)\u001b[0m\u001b[31m | \u001b[0m\u001b[1;31mDEAD\u001b[0m\u001b[31m | Kills: \u001b[0m\u001b[1;31m0\u001b[0m\n",
       "\u001b[31m- Storm Spirit \u001b[0m\u001b[1;31m(\u001b[0m\u001b[31mMID\u001b[0m\u001b[1;31m)\u001b[0m\u001b[31m | \u001b[0m\u001b[1;31mDEAD\u001b[0m\u001b[31m | Kills: \u001b[0m\u001b[1;31m0\u001b[0m\n",
       "\u001b[31m- Legion Commander \u001b[0m\u001b[1;31m(\u001b[0m\u001b[31mOFFLANE\u001b[0m\u001b[1;31m)\u001b[0m\u001b[31m | \u001b[0m\u001b[1;31mDEAD\u001b[0m\u001b[31m | Kills: \u001b[0m\u001b[1;31m0\u001b[0m\n",
       "\u001b[31m- Bane \u001b[0m\u001b[1;31m(\u001b[0m\u001b[31mSUPPORT\u001b[0m\u001b[1;31m)\u001b[0m\u001b[31m | \u001b[0m\u001b[1;31mDEAD\u001b[0m\u001b[31m | Kills: \u001b[0m\u001b[1;31m1\u001b[0m\n",
       "\u001b[31m- Enchantress \u001b[0m\u001b[1;31m(\u001b[0m\u001b[31mHARD_SUPPORT\u001b[0m\u001b[1;31m)\u001b[0m\u001b[31m | \u001b[0m\u001b[1;31mDEAD\u001b[0m\u001b[31m | Kills: \u001b[0m\u001b[1;31m0\u001b[0m\n"
      ]
     },
     "metadata": {},
     "output_type": "display_data"
    },
    {
     "data": {
      "text/html": [
       "<pre style=\"white-space:pre;overflow-x:auto;line-height:normal;font-family:Menlo,'DejaVu Sans Mono',consolas,'Courier New',monospace\">\n",
       "<span style=\"color: #008000; text-decoration-color: #008000\">Radiant wins!</span>\n",
       "</pre>\n"
      ],
      "text/plain": [
       "\n",
       "\u001b[32mRadiant wins!\u001b[0m\n"
      ]
     },
     "metadata": {},
     "output_type": "display_data"
    }
   ],
   "source": [
    "from enum import StrEnum\n",
    "from typing import Self\n",
    "import random\n",
    "from rich import print\n",
    "import rich\n",
    "import time\n",
    "\n",
    "class Hero_names(StrEnum):\n",
    "    ABADDON = \"Abaddon\"\n",
    "    ALCHEMIST = \"Alchemist\"\n",
    "    ANCIENT_APPARITION = \"Ancient Apparition\"\n",
    "    ANTI_MAGE = \"Anti-Mage\"\n",
    "    ARC_WARDEN = \"Arc Warden\"\n",
    "    AXE = \"Axe\"\n",
    "    BANE = \"Bane\"\n",
    "    BATRIDER = \"Batrider\"\n",
    "    BLOODSEEKER = \"Bloodseeker\"\n",
    "    BOUNTY_HUNTER = \"Bounty Hunter\"\n",
    "    BRISTLEBACK = \"Bristleback\"\n",
    "    CENTAUR_WARRUNNER = \"Centaur Warrunner\"\n",
    "    CHAOS_KNIGHT = \"Chaos Knight\"\n",
    "    CRYSTAL_MAIDEN = \"Crystal Maiden\"\n",
    "    DARK_SEER = \"Dark Seer\"\n",
    "    DAZZLE = \"Dazzle\"\n",
    "    DEATH_PROPHET = \"Death Prophet\"\n",
    "    DOOM = \"Doom\"\n",
    "    DRAGON_KNIGHT = \"Dragon Knight\"\n",
    "    DROW_RANGER = \"Drow Ranger\"\n",
    "    EARTHSHAKER = \"Earthshaker\"\n",
    "    EMBER_SPIRIT = \"Ember Spirit\"\n",
    "    ENCHANTRESS = \"Enchantress\"\n",
    "    FACELESS_VOID = \"Faceless Void\"\n",
    "    GRIMSTROKE = \"Grimstroke\"\n",
    "    GYROCOPTER = \"Gyrocopter\"\n",
    "    HUSKAR = \"Huskar\"\n",
    "    INVOKER = \"Invoker\"\n",
    "    JUGGERNAUT = \"Juggernaut\"\n",
    "    KEEPER_OF_THE_LIGHT = \"Keeper of the Light\"\n",
    "    LEGION_COMMANDER = \"Legion Commander\"\n",
    "    LESHRAC = \"Leshrac\"\n",
    "    LINA = \"Lina\"\n",
    "    LION = \"Lion\"\n",
    "    LUNA = \"Luna\"\n",
    "    MAGNUS = \"Magnus\"\n",
    "    MEDUSA = \"Medusa\"\n",
    "    MIRANA = \"Mirana\"\n",
    "    MORPHLING = \"Morphling\"\n",
    "    NAGA_SIREN = \"Naga Siren\"\n",
    "    NECROPHOS = \"Necrophos\"\n",
    "    NIGHT_STALKER = \"Night Stalker\"\n",
    "    PHANTOM_ASSASSIN = \"Phantom Assassin\"\n",
    "    PHANTOM_LANCER = \"Phantom Lancer\"\n",
    "    PUDGE = \"Pudge\"\n",
    "    QUEEN_OF_PAIN = \"Queen of Pain\"\n",
    "    SHADOW_FIEND = \"Shadow Fiend\"\n",
    "    SNIPER = \"Sniper\"\n",
    "    STORM_SPIRIT = \"Storm Spirit\"\n",
    "    ZEUS = \"Zeus\"\n",
    "\n",
    "class Hero:\n",
    "    HERO_ROLES = {\n",
    "        'ANTI_MAGE': 'CARRY',\n",
    "        'PHANTOM_ASSASSIN': 'CARRY',\n",
    "        'LUNA': 'CARRY',\n",
    "        'FACELESS_VOID': 'CARRY',\n",
    "        'JUGGERNAUT': 'CARRY',\n",
    "        'MORPHLING': 'CARRY',\n",
    "        'PHANTOM_LANCER': 'CARRY',\n",
    "        'DROW_RANGER': 'CARRY',\n",
    "        'MEDUSA': 'CARRY',\n",
    "        'SHADOW_FIEND': 'MID',\n",
    "        'STORM_SPIRIT': 'MID',\n",
    "        'INVOKER': 'MID',\n",
    "        'LINA': 'MID',\n",
    "        'QUEEN_OF_PAIN': 'MID',\n",
    "        'EMBER_SPIRIT': 'MID',\n",
    "        'AXE': 'OFFLANE',\n",
    "        'BRISTLEBACK': 'OFFLANE',\n",
    "        'DOOM': 'OFFLANE',\n",
    "        'LEGION_COMMANDER': 'OFFLANE',\n",
    "        'NIGHT_STALKER': 'OFFLANE',\n",
    "        'CENTAUR_WARRUNNER': 'OFFLANE',\n",
    "        'CRYSTAL_MAIDEN': 'SUPPORT',\n",
    "        'LION': 'SUPPORT',\n",
    "        'KEEPER_OF_THE_LIGHT': 'SUPPORT',\n",
    "        'DAZZLE': 'SUPPORT',\n",
    "        'ANCIENT_APPARITION': 'SUPPORT',\n",
    "        'BANE': 'SUPPORT',\n",
    "        'ENCHANTRESS': 'HARD_SUPPORT',\n",
    "        'GRIMSTROKE': 'HARD_SUPPORT',\n",
    "        'DARK_SEER': 'HARD_SUPPORT',\n",
    "        'NAGA_SIREN': 'HARD_SUPPORT'\n",
    "    }\n",
    "    \n",
    "    def __init__(self, health_points = 100, name = None, damage = 10):\n",
    "        health_variation = random.uniform(0.9, 1.5)\n",
    "        damage_variation = random.uniform(0.9, 1.1)\n",
    "        self.health_points = round(health_points * health_variation)\n",
    "        self.max_health = self.health_points\n",
    "        self.name = name if name else random.choice(list(Hero_names))\n",
    "        self.damage = round(damage * damage_variation)\n",
    "        self.role = self._determine_role()\n",
    "        self.kills = 0\n",
    "    \n",
    "    def _determine_role(self):\n",
    "        return self.HERO_ROLES.get(self.name.name, 'UNKNOWN')\n",
    "    \n",
    "    def attack(self, other):\n",
    "        damage_variation = random.uniform(0.8, 1.2)\n",
    "        actual_damage = round(self.damage * damage_variation)\n",
    "        team_color = \"green\" if self.team == \"Radiant\" else \"red\"\n",
    "        other_color = \"green\" if other.team == \"Radiant\" else \"red\"\n",
    "        print(f\"[{team_color}]{self.name}({self.role})[/] attacks [{other_color}]{other.name}({other.role})[/] for [cyan]{actual_damage}[/] damage\")\n",
    "        other.health_points -= actual_damage\n",
    "        if other.health_points <= 0:\n",
    "            print(f\"[bold red]{other.name} has been killed by {self.name}![/]\")\n",
    "            other.health_points = 0\n",
    "            self.kills += 1\n",
    "            self.health_points = min(self.health_points + 10, self.max_health)\n",
    "\n",
    "    def is_alive(self):\n",
    "        return self.health_points > 0\n",
    "\n",
    "class Team:\n",
    "    REQUIRED_ROLES = ['CARRY', 'MID', 'OFFLANE', 'SUPPORT', 'HARD_SUPPORT']\n",
    "\n",
    "    def __init__(self, name):\n",
    "        self.name = name\n",
    "        self.heroes = []\n",
    "        self._create_team()\n",
    "        for hero in self.heroes:\n",
    "            hero.team = name\n",
    "    \n",
    "    def _get_random_hero_by_role(self, required_role):\n",
    "        available_heroes = [\n",
    "            name for name, role in Hero.HERO_ROLES.items()\n",
    "            if role == required_role and name not in [h.name.name for h in self.heroes]\n",
    "        ]\n",
    "        if not available_heroes:\n",
    "            return None\n",
    "        hero_name = random.choice(available_heroes)\n",
    "        return Hero(name=getattr(Hero_names, hero_name))\n",
    "\n",
    "    def _create_team(self):\n",
    "        for role in self.REQUIRED_ROLES:\n",
    "            hero = self._get_random_hero_by_role(role)\n",
    "            self.heroes.append(hero)\n",
    "\n",
    "    def team_alive(self):\n",
    "        return any(hero.is_alive() for hero in self.heroes)\n",
    "    \n",
    "    def battle_round(self, other_team):\n",
    "        for hero in self.heroes:\n",
    "            if not hero.is_alive():\n",
    "                continue\n",
    "            alive_enemies = [h for h in other_team.heroes if h.is_alive()]\n",
    "            if not alive_enemies:\n",
    "                return\n",
    "            target = random.choice(alive_enemies)\n",
    "            hero.attack(target)\n",
    "    \n",
    "    def get_team_power(self):\n",
    "        if not self.heroes:\n",
    "            return 0\n",
    "        return sum(hero.health_points + hero.damage * 10 for hero in self.heroes)\n",
    "    \n",
    "    def __eq__(self, other):\n",
    "        return abs(self.get_team_power() - other.get_team_power()) < 50\n",
    "    \n",
    "    def __lt__(self, other):\n",
    "        return self.get_team_power() < other.get_team_power()\n",
    "    \n",
    "    def __le__(self, other):\n",
    "        return self.get_team_power() <= other.get_team_power()\n",
    "    \n",
    "    def __str__(self):\n",
    "        team_color = \"green\" if self.name == \"Radiant\" else \"red\"\n",
    "      \n",
    "        result = [f\"[{team_color}]Team {self.name}[/]\"]\n",
    "        for hero in self.heroes:\n",
    "            status = \"[bold red]DEAD[/]\" if not hero.is_alive() else f\"{hero.health_points} HP\"\n",
    "            result.append(f\"[{team_color}]- {hero.name} ({hero.role}) | {status} | Kills: {hero.kills}[/]\")\n",
    "        return \"\\n\".join(result)\n",
    "\n",
    "if __name__ == \"__main__\":\n",
    "    team1 = Team(\"Radiant\")\n",
    "    team2 = Team(\"Dire\")\n",
    "    \n",
    "    rich.print(\"[yellow]Команды до боя:[/]\")\n",
    "    rich.print(str(team1))\n",
    "    rich.print(str(team2))\n",
    "    time.sleep(2)\n",
    "    \n",
    "    rich.print(\"\\n[yellow]Сравнение команд:[/]\")\n",
    "    time.sleep(1)\n",
    "    if team1 == team2:\n",
    "        rich.print(\"Команды примерно равны по силе\")\n",
    "    elif team1 < team2:\n",
    "        rich.print(\"[red]Dire сильнее Radiant[/]\")\n",
    "    else:\n",
    "        rich.print(\"[green]Radiant сильнее Dire[/]\")\n",
    "    time.sleep(1)\n",
    "    \n",
    "    rich.print(f\"\\n[green]Общая сила Radiant: {team1.get_team_power():.0f}[/]\")\n",
    "    rich.print(f\"[red]Общая сила Dire: {team2.get_team_power():.0f}[/]\")\n",
    "    time.sleep(2)\n",
    "    \n",
    "    round_number = 1\n",
    "    while team1.team_alive() and team2.team_alive():\n",
    "        rich.print(f\"\\n[yellow]Файт {round_number}:[/]\")\n",
    "        time.sleep(0.5)\n",
    "        team1.battle_round(team2)\n",
    "        time.sleep(0.5)\n",
    "        if team2.team_alive():\n",
    "            team2.battle_round(team1)\n",
    "        time.sleep(0.5)\n",
    "        round_number += 1\n",
    "        \n",
    "    rich.print(\"\\n[yellow]Игра окончена![/]\")\n",
    "    time.sleep(1)\n",
    "    rich.print(\"\\n[yellow]Статистика[/]\")\n",
    "    time.sleep(1)\n",
    "    rich.print(str(team1))\n",
    "    rich.print(str(team2))\n",
    "    time.sleep(1)\n",
    "    \n",
    "    winner = \"Radiant\" if team1.team_alive() else \"Dire\"\n",
    "    winner_color = \"green\" if winner == \"Radiant\" else \"red\"\n",
    "    winning_team = team1 if team1.team_alive() else team2\n",
    "    \n",
    "    has_sf = any(hero.name.name == 'SHADOW_FIEND' and hero.is_alive() \n",
    "                 for hero in winning_team.heroes)\n",
    "    \n",
    "    if has_sf:\n",
    "        number = 1000\n",
    "        while number > 0:\n",
    "            rich.print(f\"[red]{number}[/]\")\n",
    "            time.sleep(0.1)\n",
    "            number -= 7\n",
    "    \n",
    "    time.sleep(1)\n",
    "    rich.print(f\"\\n[{winner_color}]{winner} wins![/]\")\n",
    "\n"
   ]
  }
 ],
 "metadata": {
  "kernelspec": {
   "display_name": "lecture-9",
   "language": "python",
   "name": "python3"
  },
  "language_info": {
   "codemirror_mode": {
    "name": "ipython",
    "version": 3
   },
   "file_extension": ".py",
   "mimetype": "text/x-python",
   "name": "python",
   "nbconvert_exporter": "python",
   "pygments_lexer": "ipython3",
   "version": "3.12.3"
  }
 },
 "nbformat": 4,
 "nbformat_minor": 5
}
