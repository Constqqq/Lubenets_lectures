{
 "cells": [
  {
   "cell_type": "code",
   "execution_count": 5,
   "id": "5208c417",
   "metadata": {},
   "outputs": [
    {
     "name": "stdout",
     "output_type": "stream",
     "text": [
      "кОсТя\n"
     ]
    }
   ],
   "source": [
    "def change_name(name:str, registr) -> str:\n",
    "    symbols: list[str] = []\n",
    "    for symbol in name:\n",
    "        symbols += symbol.lower()\n",
    "    for i in range(len(symbols)):\n",
    "        if registr == 'нечёт':\n",
    "            if  (i+2)%2 == 0:\n",
    "                symbols[i] = symbols[i].upper()\n",
    "        elif registr == 'чёт':\n",
    "            if  not i%2 == 0:\n",
    "                symbols[i] = symbols[i].upper()   \n",
    "        else:\n",
    "            print('Error')\n",
    "    name = ''.join(symbols)\n",
    "    return name\n",
    "    \n",
    "\n",
    "name = input('Введите имя')\n",
    "registr = input('Чёт/Нечёт').lower()\n",
    "print(change_name(name,registr))"
   ]
  },
  {
   "cell_type": "code",
   "execution_count": 6,
   "id": "663e9e83",
   "metadata": {},
   "outputs": [
    {
     "data": {
      "text/html": [
       "<pre style=\"white-space:pre;overflow-x:auto;line-height:normal;font-family:Menlo,'DejaVu Sans Mono',consolas,'Courier New',monospace\"><span style=\"color: #af00ff; text-decoration-color: #af00ff; font-weight: bold\">Hello Kostya</span>\n",
       "</pre>\n"
      ],
      "text/plain": [
       "\u001b[1;38;5;129mHello Kostya\u001b[0m\n"
      ]
     },
     "metadata": {},
     "output_type": "display_data"
    }
   ],
   "source": [
    "from rich import print as rprint\n",
    "def greetings(name):\n",
    "    rprint(f'[bold purple]Hello {name}')\n",
    "greetings('Kostya')"
   ]
  }
 ],
 "metadata": {
  "kernelspec": {
   "display_name": "lecture-5",
   "language": "python",
   "name": "python3"
  },
  "language_info": {
   "codemirror_mode": {
    "name": "ipython",
    "version": 3
   },
   "file_extension": ".py",
   "mimetype": "text/x-python",
   "name": "python",
   "nbconvert_exporter": "python",
   "pygments_lexer": "ipython3",
   "version": "3.12.3"
  }
 },
 "nbformat": 4,
 "nbformat_minor": 5
}
